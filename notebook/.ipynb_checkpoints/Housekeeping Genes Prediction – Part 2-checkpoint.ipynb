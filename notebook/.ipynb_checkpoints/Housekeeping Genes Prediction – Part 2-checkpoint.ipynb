{
 "cells": [
  {
   "cell_type": "markdown",
   "metadata": {},
   "source": [
    "# Housekeeping Genes Prediction – Part 2\n",
    "**GitHub:** https://github.com/pirsquareff/pattern-assignment-2\n",
    "\n",
    "In this part, I change the number of discretization bins from ∼1000 to ∼500."
   ]
  },
  {
   "cell_type": "code",
   "execution_count": 86,
   "metadata": {
    "collapsed": true
   },
   "outputs": [],
   "source": [
    "import numpy as np\n",
    "import pandas as pd\n",
    "import matplotlib.pyplot as plt\n",
    "from sklearn.metrics import accuracy_score, f1_score, precision_score, recall_score, roc_curve, auc\n",
    "import random\n",
    "import math"
   ]
  },
  {
   "cell_type": "markdown",
   "metadata": {},
   "source": [
    "## Importing Data"
   ]
  },
  {
   "cell_type": "code",
   "execution_count": 87,
   "metadata": {
    "collapsed": true
   },
   "outputs": [],
   "source": [
    "data = pd.read_csv(\"./data/12864_2006_660_MOESM1_ESM.csv\")"
   ]
  },
  {
   "cell_type": "code",
   "execution_count": 88,
   "metadata": {},
   "outputs": [
    {
     "data": {
      "text/html": [
       "<div>\n",
       "<table border=\"1\" class=\"dataframe\">\n",
       "  <thead>\n",
       "    <tr style=\"text-align: right;\">\n",
       "      <th></th>\n",
       "      <th>cDNA_length</th>\n",
       "      <th>cds_length</th>\n",
       "      <th>exons_nr</th>\n",
       "      <th>perc_go_hk_match</th>\n",
       "      <th>perc_go_ts_match</th>\n",
       "    </tr>\n",
       "  </thead>\n",
       "  <tbody>\n",
       "    <tr>\n",
       "      <th>count</th>\n",
       "      <td>35164.000000</td>\n",
       "      <td>35164.000000</td>\n",
       "      <td>20568.000000</td>\n",
       "      <td>25957.000000</td>\n",
       "      <td>25957.000000</td>\n",
       "    </tr>\n",
       "    <tr>\n",
       "      <th>mean</th>\n",
       "      <td>2439.950432</td>\n",
       "      <td>1484.058583</td>\n",
       "      <td>6.568748</td>\n",
       "      <td>0.036278</td>\n",
       "      <td>0.222914</td>\n",
       "    </tr>\n",
       "    <tr>\n",
       "      <th>std</th>\n",
       "      <td>2012.944961</td>\n",
       "      <td>1502.566846</td>\n",
       "      <td>8.333126</td>\n",
       "      <td>0.131669</td>\n",
       "      <td>0.253348</td>\n",
       "    </tr>\n",
       "    <tr>\n",
       "      <th>min</th>\n",
       "      <td>45.000000</td>\n",
       "      <td>45.000000</td>\n",
       "      <td>1.000000</td>\n",
       "      <td>0.000000</td>\n",
       "      <td>0.000000</td>\n",
       "    </tr>\n",
       "    <tr>\n",
       "      <th>25%</th>\n",
       "      <td>1168.000000</td>\n",
       "      <td>642.000000</td>\n",
       "      <td>1.000000</td>\n",
       "      <td>0.000000</td>\n",
       "      <td>0.000000</td>\n",
       "    </tr>\n",
       "    <tr>\n",
       "      <th>50%</th>\n",
       "      <td>2047.000000</td>\n",
       "      <td>1119.000000</td>\n",
       "      <td>3.000000</td>\n",
       "      <td>0.000000</td>\n",
       "      <td>0.166667</td>\n",
       "    </tr>\n",
       "    <tr>\n",
       "      <th>75%</th>\n",
       "      <td>3185.250000</td>\n",
       "      <td>1821.000000</td>\n",
       "      <td>9.000000</td>\n",
       "      <td>0.000000</td>\n",
       "      <td>0.363636</td>\n",
       "    </tr>\n",
       "    <tr>\n",
       "      <th>max</th>\n",
       "      <td>99631.000000</td>\n",
       "      <td>98385.000000</td>\n",
       "      <td>118.000000</td>\n",
       "      <td>1.000000</td>\n",
       "      <td>1.000000</td>\n",
       "    </tr>\n",
       "  </tbody>\n",
       "</table>\n",
       "</div>"
      ],
      "text/plain": [
       "        cDNA_length    cds_length      exons_nr  perc_go_hk_match  \\\n",
       "count  35164.000000  35164.000000  20568.000000      25957.000000   \n",
       "mean    2439.950432   1484.058583      6.568748          0.036278   \n",
       "std     2012.944961   1502.566846      8.333126          0.131669   \n",
       "min       45.000000     45.000000      1.000000          0.000000   \n",
       "25%     1168.000000    642.000000      1.000000          0.000000   \n",
       "50%     2047.000000   1119.000000      3.000000          0.000000   \n",
       "75%     3185.250000   1821.000000      9.000000          0.000000   \n",
       "max    99631.000000  98385.000000    118.000000          1.000000   \n",
       "\n",
       "       perc_go_ts_match  \n",
       "count      25957.000000  \n",
       "mean           0.222914  \n",
       "std            0.253348  \n",
       "min            0.000000  \n",
       "25%            0.000000  \n",
       "50%            0.166667  \n",
       "75%            0.363636  \n",
       "max            1.000000  "
      ]
     },
     "execution_count": 88,
     "metadata": {},
     "output_type": "execute_result"
    }
   ],
   "source": [
    "data.describe()"
   ]
  },
  {
   "cell_type": "code",
   "execution_count": 89,
   "metadata": {},
   "outputs": [
    {
     "data": {
      "text/html": [
       "<div>\n",
       "<table border=\"1\" class=\"dataframe\">\n",
       "  <thead>\n",
       "    <tr style=\"text-align: right;\">\n",
       "      <th></th>\n",
       "      <th>EMBL_transcript_id</th>\n",
       "      <th>cDNA_length</th>\n",
       "      <th>cds_length</th>\n",
       "      <th>exons_nr</th>\n",
       "      <th>5_MAR_presence</th>\n",
       "      <th>3_MAR_presence</th>\n",
       "      <th>5_polyA_18_presence</th>\n",
       "      <th>5_CCGNN_2_5_presence</th>\n",
       "      <th>perc_go_hk_match</th>\n",
       "      <th>perc_go_ts_match</th>\n",
       "      <th>is_hk</th>\n",
       "    </tr>\n",
       "  </thead>\n",
       "  <tbody>\n",
       "    <tr>\n",
       "      <th>0</th>\n",
       "      <td>ENST00000274311</td>\n",
       "      <td>2918.0</td>\n",
       "      <td>1158.0</td>\n",
       "      <td>3.0</td>\n",
       "      <td>no</td>\n",
       "      <td>no</td>\n",
       "      <td>no</td>\n",
       "      <td>yes</td>\n",
       "      <td>0.1</td>\n",
       "      <td>0.200000</td>\n",
       "      <td>NaN</td>\n",
       "    </tr>\n",
       "    <tr>\n",
       "      <th>1</th>\n",
       "      <td>ENST00000282588</td>\n",
       "      <td>4795.0</td>\n",
       "      <td>3540.0</td>\n",
       "      <td>29.0</td>\n",
       "      <td>no</td>\n",
       "      <td>no</td>\n",
       "      <td>no</td>\n",
       "      <td>yes</td>\n",
       "      <td>0.1</td>\n",
       "      <td>0.200000</td>\n",
       "      <td>NaN</td>\n",
       "    </tr>\n",
       "    <tr>\n",
       "      <th>2</th>\n",
       "      <td>ENST00000274311</td>\n",
       "      <td>2918.0</td>\n",
       "      <td>1158.0</td>\n",
       "      <td>3.0</td>\n",
       "      <td>no</td>\n",
       "      <td>no</td>\n",
       "      <td>no</td>\n",
       "      <td>yes</td>\n",
       "      <td>0.1</td>\n",
       "      <td>0.200000</td>\n",
       "      <td>NaN</td>\n",
       "    </tr>\n",
       "    <tr>\n",
       "      <th>3</th>\n",
       "      <td>ENST00000282588</td>\n",
       "      <td>4795.0</td>\n",
       "      <td>3540.0</td>\n",
       "      <td>29.0</td>\n",
       "      <td>no</td>\n",
       "      <td>no</td>\n",
       "      <td>no</td>\n",
       "      <td>yes</td>\n",
       "      <td>0.1</td>\n",
       "      <td>0.200000</td>\n",
       "      <td>NaN</td>\n",
       "    </tr>\n",
       "    <tr>\n",
       "      <th>4</th>\n",
       "      <td>ENST00000337416</td>\n",
       "      <td>4551.0</td>\n",
       "      <td>1656.0</td>\n",
       "      <td>18.0</td>\n",
       "      <td>no</td>\n",
       "      <td>yes</td>\n",
       "      <td>no</td>\n",
       "      <td>no</td>\n",
       "      <td>0.0</td>\n",
       "      <td>0.111111</td>\n",
       "      <td>NaN</td>\n",
       "    </tr>\n",
       "  </tbody>\n",
       "</table>\n",
       "</div>"
      ],
      "text/plain": [
       "  EMBL_transcript_id  cDNA_length  cds_length  exons_nr 5_MAR_presence  \\\n",
       "0    ENST00000274311       2918.0      1158.0       3.0             no   \n",
       "1    ENST00000282588       4795.0      3540.0      29.0             no   \n",
       "2    ENST00000274311       2918.0      1158.0       3.0             no   \n",
       "3    ENST00000282588       4795.0      3540.0      29.0             no   \n",
       "4    ENST00000337416       4551.0      1656.0      18.0             no   \n",
       "\n",
       "  3_MAR_presence 5_polyA_18_presence 5_CCGNN_2_5_presence  perc_go_hk_match  \\\n",
       "0             no                  no                  yes               0.1   \n",
       "1             no                  no                  yes               0.1   \n",
       "2             no                  no                  yes               0.1   \n",
       "3             no                  no                  yes               0.1   \n",
       "4            yes                  no                   no               0.0   \n",
       "\n",
       "   perc_go_ts_match is_hk  \n",
       "0          0.200000   NaN  \n",
       "1          0.200000   NaN  \n",
       "2          0.200000   NaN  \n",
       "3          0.200000   NaN  \n",
       "4          0.111111   NaN  "
      ]
     },
     "execution_count": 89,
     "metadata": {},
     "output_type": "execute_result"
    }
   ],
   "source": [
    "data.head()"
   ]
  },
  {
   "cell_type": "markdown",
   "metadata": {},
   "source": [
    "## Cleaning Data\n",
    "\n",
    "There are many missing values in this database. They are represented with NaN. In the previous homework, we filled the missing values with the mean, median, or mode values. That is because classifiers such as logistic regression cannot deal with missing feature values. However, for the case of Naive Bayes which we will use in this homework compares $\\prod_{i} p(x_{i} | class)$ and treat each $x_{i}$ as independent features. Thus, if a feature $i$ is missing, we can drop that term from the comparison without having to guess what the missing feature is. First, convert the yes and no in this data table to 1 and 0. We can also drop the name of the genes and just refer to them by their index values."
   ]
  },
  {
   "cell_type": "code",
   "execution_count": 90,
   "metadata": {
    "collapsed": true
   },
   "outputs": [],
   "source": [
    "data.loc[data[\"5_MAR_presence\"] == \"no\", \"5_MAR_presence\"] = 0.0\n",
    "data.loc[data[\"5_MAR_presence\"] == \"yes\", \"5_MAR_presence\"] = 1.0\n",
    "data.loc[data[\"3_MAR_presence\"] == \"no\", \"3_MAR_presence\"] = 0.0\n",
    "data.loc[data[\"3_MAR_presence\"] == \"yes\", \"3_MAR_presence\"] = 1.0\n",
    "data.loc[data[\"5_polyA_18_presence\"] == \"no\", \"5_polyA_18_presence\"] = 0.0\n",
    "data.loc[data[\"5_polyA_18_presence\"] == \"yes\", \"5_polyA_18_presence\"] = 1.0\n",
    "data.loc[data[\"5_CCGNN_2_5_presence\"] == \"no\", \"5_CCGNN_2_5_presence\"] = 0.0\n",
    "data.loc[data[\"5_CCGNN_2_5_presence\"] == \"yes\", \"5_CCGNN_2_5_presence\"] = 1.0\n",
    "data.loc[data[\"is_hk\"] == \"no\", \"is_hk\"] = 0.0\n",
    "data.loc[data[\"is_hk\"] == \"yes\", \"is_hk\"] = 1.0\n",
    "del data[\"EMBL_transcript_id\"]"
   ]
  },
  {
   "cell_type": "markdown",
   "metadata": {},
   "source": [
    "### How many items are `NaN` in the `is_hk` column?\n",
    "There are 46459 items that are `NaN` in the `is_hk` column."
   ]
  },
  {
   "cell_type": "code",
   "execution_count": 91,
   "metadata": {},
   "outputs": [
    {
     "data": {
      "text/plain": [
       "46459"
      ]
     },
     "execution_count": 91,
     "metadata": {},
     "output_type": "execute_result"
    }
   ],
   "source": [
    "data_is_hk_nan = data[pd.isnull(data[\"is_hk\"])]\n",
    "n_is_hk_nan = len(data_is_hk_nan)\n",
    "n_is_hk_nan"
   ]
  },
  {
   "cell_type": "markdown",
   "metadata": {},
   "source": [
    "### How many items are known housekeeping genes?\n",
    "There are 103 items that are known housekeeping genes."
   ]
  },
  {
   "cell_type": "code",
   "execution_count": 92,
   "metadata": {},
   "outputs": [
    {
     "data": {
      "text/plain": [
       "103"
      ]
     },
     "execution_count": 92,
     "metadata": {},
     "output_type": "execute_result"
    }
   ],
   "source": [
    "data_is_hk_yes = data[data[\"is_hk\"] == 1.0]\n",
    "n_is_hk_yes = len(data_is_hk_yes)\n",
    "n_is_hk_yes"
   ]
  },
  {
   "cell_type": "markdown",
   "metadata": {},
   "source": [
    "### How many items are known tissue specific genes?\n",
    "There are 667 items that are known housekeeping genes."
   ]
  },
  {
   "cell_type": "code",
   "execution_count": 93,
   "metadata": {},
   "outputs": [
    {
     "data": {
      "text/plain": [
       "667"
      ]
     },
     "execution_count": 93,
     "metadata": {},
     "output_type": "execute_result"
    }
   ],
   "source": [
    "data_is_hk_no = data[data[\"is_hk\"] == 0.0]\n",
    "n_is_hk_no = len(data_is_hk_no)\n",
    "n_is_hk_no"
   ]
  },
  {
   "cell_type": "markdown",
   "metadata": {},
   "source": [
    "## Splitting Data into Testing and Training Set\n",
    "Select 10% of the `is_hk == yes` and 10% of the `is_hk == no` as your testing set, `test_set`. Then, use the rest of the data as your training set, `train_set`. From `train_set`, filter the ones with `is_hk == NaN` as the unsupervised training set, `unsup_train_set`. Filter the ones with `is_hk == yes` or `no` as the supervised training set, `sup_train_set`."
   ]
  },
  {
   "cell_type": "code",
   "execution_count": 94,
   "metadata": {},
   "outputs": [
    {
     "data": {
      "text/plain": [
       "10"
      ]
     },
     "execution_count": 94,
     "metadata": {},
     "output_type": "execute_result"
    }
   ],
   "source": [
    "# Randomly sample 10% from is_hk_yes\n",
    "data_10_percent_from_is_hk_yes = data_is_hk_yes.sample(frac = 0.1)\n",
    "len(data_10_percent_from_is_hk_yes)"
   ]
  },
  {
   "cell_type": "code",
   "execution_count": 95,
   "metadata": {},
   "outputs": [
    {
     "data": {
      "text/plain": [
       "67"
      ]
     },
     "execution_count": 95,
     "metadata": {},
     "output_type": "execute_result"
    }
   ],
   "source": [
    "# Randomly sample 10% from is_hk_no\n",
    "data_10_percent_from_is_hk_no = data_is_hk_no.sample(frac = 0.1)\n",
    "len(data_10_percent_from_is_hk_no)"
   ]
  },
  {
   "cell_type": "code",
   "execution_count": 96,
   "metadata": {},
   "outputs": [
    {
     "data": {
      "text/html": [
       "<div>\n",
       "<table border=\"1\" class=\"dataframe\">\n",
       "  <thead>\n",
       "    <tr style=\"text-align: right;\">\n",
       "      <th></th>\n",
       "      <th>cDNA_length</th>\n",
       "      <th>cds_length</th>\n",
       "      <th>exons_nr</th>\n",
       "      <th>5_MAR_presence</th>\n",
       "      <th>3_MAR_presence</th>\n",
       "      <th>5_polyA_18_presence</th>\n",
       "      <th>5_CCGNN_2_5_presence</th>\n",
       "      <th>perc_go_hk_match</th>\n",
       "      <th>perc_go_ts_match</th>\n",
       "      <th>is_hk</th>\n",
       "    </tr>\n",
       "  </thead>\n",
       "  <tbody>\n",
       "    <tr>\n",
       "      <th>11457</th>\n",
       "      <td>606.0</td>\n",
       "      <td>246.0</td>\n",
       "      <td>4.0</td>\n",
       "      <td>0</td>\n",
       "      <td>0</td>\n",
       "      <td>0</td>\n",
       "      <td>0</td>\n",
       "      <td>0.333333</td>\n",
       "      <td>0.0</td>\n",
       "      <td>1</td>\n",
       "    </tr>\n",
       "    <tr>\n",
       "      <th>22599</th>\n",
       "      <td>1635.0</td>\n",
       "      <td>543.0</td>\n",
       "      <td>NaN</td>\n",
       "      <td>0</td>\n",
       "      <td>1</td>\n",
       "      <td>0</td>\n",
       "      <td>1</td>\n",
       "      <td>0.000000</td>\n",
       "      <td>0.0</td>\n",
       "      <td>1</td>\n",
       "    </tr>\n",
       "    <tr>\n",
       "      <th>5976</th>\n",
       "      <td>605.0</td>\n",
       "      <td>441.0</td>\n",
       "      <td>NaN</td>\n",
       "      <td>0</td>\n",
       "      <td>0</td>\n",
       "      <td>0</td>\n",
       "      <td>0</td>\n",
       "      <td>1.000000</td>\n",
       "      <td>0.0</td>\n",
       "      <td>1</td>\n",
       "    </tr>\n",
       "    <tr>\n",
       "      <th>21053</th>\n",
       "      <td>2774.0</td>\n",
       "      <td>1392.0</td>\n",
       "      <td>NaN</td>\n",
       "      <td>0</td>\n",
       "      <td>0</td>\n",
       "      <td>0</td>\n",
       "      <td>1</td>\n",
       "      <td>0.250000</td>\n",
       "      <td>0.0</td>\n",
       "      <td>1</td>\n",
       "    </tr>\n",
       "    <tr>\n",
       "      <th>16386</th>\n",
       "      <td>2677.0</td>\n",
       "      <td>1416.0</td>\n",
       "      <td>NaN</td>\n",
       "      <td>0</td>\n",
       "      <td>0</td>\n",
       "      <td>0</td>\n",
       "      <td>0</td>\n",
       "      <td>0.166667</td>\n",
       "      <td>0.0</td>\n",
       "      <td>1</td>\n",
       "    </tr>\n",
       "  </tbody>\n",
       "</table>\n",
       "</div>"
      ],
      "text/plain": [
       "       cDNA_length  cds_length  exons_nr 5_MAR_presence 3_MAR_presence  \\\n",
       "11457        606.0       246.0       4.0              0              0   \n",
       "22599       1635.0       543.0       NaN              0              1   \n",
       "5976         605.0       441.0       NaN              0              0   \n",
       "21053       2774.0      1392.0       NaN              0              0   \n",
       "16386       2677.0      1416.0       NaN              0              0   \n",
       "\n",
       "      5_polyA_18_presence 5_CCGNN_2_5_presence  perc_go_hk_match  \\\n",
       "11457                   0                    0          0.333333   \n",
       "22599                   0                    1          0.000000   \n",
       "5976                    0                    0          1.000000   \n",
       "21053                   0                    1          0.250000   \n",
       "16386                   0                    0          0.166667   \n",
       "\n",
       "       perc_go_ts_match is_hk  \n",
       "11457               0.0     1  \n",
       "22599               0.0     1  \n",
       "5976                0.0     1  \n",
       "21053               0.0     1  \n",
       "16386               0.0     1  "
      ]
     },
     "execution_count": 96,
     "metadata": {},
     "output_type": "execute_result"
    }
   ],
   "source": [
    "test_set = pd.concat([data_10_percent_from_is_hk_yes, data_10_percent_from_is_hk_no], ignore_index = False)\n",
    "test_set.head()"
   ]
  },
  {
   "cell_type": "code",
   "execution_count": 97,
   "metadata": {},
   "outputs": [
    {
     "data": {
      "text/html": [
       "<div>\n",
       "<table border=\"1\" class=\"dataframe\">\n",
       "  <thead>\n",
       "    <tr style=\"text-align: right;\">\n",
       "      <th></th>\n",
       "      <th>cDNA_length</th>\n",
       "      <th>cds_length</th>\n",
       "      <th>exons_nr</th>\n",
       "      <th>5_MAR_presence</th>\n",
       "      <th>3_MAR_presence</th>\n",
       "      <th>5_polyA_18_presence</th>\n",
       "      <th>5_CCGNN_2_5_presence</th>\n",
       "      <th>perc_go_hk_match</th>\n",
       "      <th>perc_go_ts_match</th>\n",
       "      <th>is_hk</th>\n",
       "    </tr>\n",
       "  </thead>\n",
       "  <tbody>\n",
       "    <tr>\n",
       "      <th>0</th>\n",
       "      <td>2918.0</td>\n",
       "      <td>1158.0</td>\n",
       "      <td>3.0</td>\n",
       "      <td>0</td>\n",
       "      <td>0</td>\n",
       "      <td>0</td>\n",
       "      <td>1</td>\n",
       "      <td>0.1</td>\n",
       "      <td>0.200000</td>\n",
       "      <td>NaN</td>\n",
       "    </tr>\n",
       "    <tr>\n",
       "      <th>1</th>\n",
       "      <td>4795.0</td>\n",
       "      <td>3540.0</td>\n",
       "      <td>29.0</td>\n",
       "      <td>0</td>\n",
       "      <td>0</td>\n",
       "      <td>0</td>\n",
       "      <td>1</td>\n",
       "      <td>0.1</td>\n",
       "      <td>0.200000</td>\n",
       "      <td>NaN</td>\n",
       "    </tr>\n",
       "    <tr>\n",
       "      <th>2</th>\n",
       "      <td>2918.0</td>\n",
       "      <td>1158.0</td>\n",
       "      <td>3.0</td>\n",
       "      <td>0</td>\n",
       "      <td>0</td>\n",
       "      <td>0</td>\n",
       "      <td>1</td>\n",
       "      <td>0.1</td>\n",
       "      <td>0.200000</td>\n",
       "      <td>NaN</td>\n",
       "    </tr>\n",
       "    <tr>\n",
       "      <th>3</th>\n",
       "      <td>4795.0</td>\n",
       "      <td>3540.0</td>\n",
       "      <td>29.0</td>\n",
       "      <td>0</td>\n",
       "      <td>0</td>\n",
       "      <td>0</td>\n",
       "      <td>1</td>\n",
       "      <td>0.1</td>\n",
       "      <td>0.200000</td>\n",
       "      <td>NaN</td>\n",
       "    </tr>\n",
       "    <tr>\n",
       "      <th>4</th>\n",
       "      <td>4551.0</td>\n",
       "      <td>1656.0</td>\n",
       "      <td>18.0</td>\n",
       "      <td>0</td>\n",
       "      <td>1</td>\n",
       "      <td>0</td>\n",
       "      <td>0</td>\n",
       "      <td>0.0</td>\n",
       "      <td>0.111111</td>\n",
       "      <td>NaN</td>\n",
       "    </tr>\n",
       "  </tbody>\n",
       "</table>\n",
       "</div>"
      ],
      "text/plain": [
       "   cDNA_length  cds_length  exons_nr 5_MAR_presence 3_MAR_presence  \\\n",
       "0       2918.0      1158.0       3.0              0              0   \n",
       "1       4795.0      3540.0      29.0              0              0   \n",
       "2       2918.0      1158.0       3.0              0              0   \n",
       "3       4795.0      3540.0      29.0              0              0   \n",
       "4       4551.0      1656.0      18.0              0              1   \n",
       "\n",
       "  5_polyA_18_presence 5_CCGNN_2_5_presence  perc_go_hk_match  \\\n",
       "0                   0                    1               0.1   \n",
       "1                   0                    1               0.1   \n",
       "2                   0                    1               0.1   \n",
       "3                   0                    1               0.1   \n",
       "4                   0                    0               0.0   \n",
       "\n",
       "   perc_go_ts_match is_hk  \n",
       "0          0.200000   NaN  \n",
       "1          0.200000   NaN  \n",
       "2          0.200000   NaN  \n",
       "3          0.200000   NaN  \n",
       "4          0.111111   NaN  "
      ]
     },
     "execution_count": 97,
     "metadata": {},
     "output_type": "execute_result"
    }
   ],
   "source": [
    "train_set = data.loc[~data.index.isin(test_set.index)]\n",
    "train_set.head()"
   ]
  },
  {
   "cell_type": "code",
   "execution_count": 98,
   "metadata": {},
   "outputs": [
    {
     "data": {
      "text/html": [
       "<div>\n",
       "<table border=\"1\" class=\"dataframe\">\n",
       "  <thead>\n",
       "    <tr style=\"text-align: right;\">\n",
       "      <th></th>\n",
       "      <th>cDNA_length</th>\n",
       "      <th>cds_length</th>\n",
       "      <th>exons_nr</th>\n",
       "      <th>5_MAR_presence</th>\n",
       "      <th>3_MAR_presence</th>\n",
       "      <th>5_polyA_18_presence</th>\n",
       "      <th>5_CCGNN_2_5_presence</th>\n",
       "      <th>perc_go_hk_match</th>\n",
       "      <th>perc_go_ts_match</th>\n",
       "      <th>is_hk</th>\n",
       "    </tr>\n",
       "  </thead>\n",
       "  <tbody>\n",
       "    <tr>\n",
       "      <th>0</th>\n",
       "      <td>2918.0</td>\n",
       "      <td>1158.0</td>\n",
       "      <td>3.0</td>\n",
       "      <td>0</td>\n",
       "      <td>0</td>\n",
       "      <td>0</td>\n",
       "      <td>1</td>\n",
       "      <td>0.1</td>\n",
       "      <td>0.200000</td>\n",
       "      <td>NaN</td>\n",
       "    </tr>\n",
       "    <tr>\n",
       "      <th>1</th>\n",
       "      <td>4795.0</td>\n",
       "      <td>3540.0</td>\n",
       "      <td>29.0</td>\n",
       "      <td>0</td>\n",
       "      <td>0</td>\n",
       "      <td>0</td>\n",
       "      <td>1</td>\n",
       "      <td>0.1</td>\n",
       "      <td>0.200000</td>\n",
       "      <td>NaN</td>\n",
       "    </tr>\n",
       "    <tr>\n",
       "      <th>2</th>\n",
       "      <td>2918.0</td>\n",
       "      <td>1158.0</td>\n",
       "      <td>3.0</td>\n",
       "      <td>0</td>\n",
       "      <td>0</td>\n",
       "      <td>0</td>\n",
       "      <td>1</td>\n",
       "      <td>0.1</td>\n",
       "      <td>0.200000</td>\n",
       "      <td>NaN</td>\n",
       "    </tr>\n",
       "    <tr>\n",
       "      <th>3</th>\n",
       "      <td>4795.0</td>\n",
       "      <td>3540.0</td>\n",
       "      <td>29.0</td>\n",
       "      <td>0</td>\n",
       "      <td>0</td>\n",
       "      <td>0</td>\n",
       "      <td>1</td>\n",
       "      <td>0.1</td>\n",
       "      <td>0.200000</td>\n",
       "      <td>NaN</td>\n",
       "    </tr>\n",
       "    <tr>\n",
       "      <th>4</th>\n",
       "      <td>4551.0</td>\n",
       "      <td>1656.0</td>\n",
       "      <td>18.0</td>\n",
       "      <td>0</td>\n",
       "      <td>1</td>\n",
       "      <td>0</td>\n",
       "      <td>0</td>\n",
       "      <td>0.0</td>\n",
       "      <td>0.111111</td>\n",
       "      <td>NaN</td>\n",
       "    </tr>\n",
       "  </tbody>\n",
       "</table>\n",
       "</div>"
      ],
      "text/plain": [
       "   cDNA_length  cds_length  exons_nr 5_MAR_presence 3_MAR_presence  \\\n",
       "0       2918.0      1158.0       3.0              0              0   \n",
       "1       4795.0      3540.0      29.0              0              0   \n",
       "2       2918.0      1158.0       3.0              0              0   \n",
       "3       4795.0      3540.0      29.0              0              0   \n",
       "4       4551.0      1656.0      18.0              0              1   \n",
       "\n",
       "  5_polyA_18_presence 5_CCGNN_2_5_presence  perc_go_hk_match  \\\n",
       "0                   0                    1               0.1   \n",
       "1                   0                    1               0.1   \n",
       "2                   0                    1               0.1   \n",
       "3                   0                    1               0.1   \n",
       "4                   0                    0               0.0   \n",
       "\n",
       "   perc_go_ts_match is_hk  \n",
       "0          0.200000   NaN  \n",
       "1          0.200000   NaN  \n",
       "2          0.200000   NaN  \n",
       "3          0.200000   NaN  \n",
       "4          0.111111   NaN  "
      ]
     },
     "execution_count": 98,
     "metadata": {},
     "output_type": "execute_result"
    }
   ],
   "source": [
    "unsup_train_set = train_set[pd.isnull(train_set[\"is_hk\"])]\n",
    "unsup_train_set.head()"
   ]
  },
  {
   "cell_type": "code",
   "execution_count": 99,
   "metadata": {},
   "outputs": [
    {
     "data": {
      "text/html": [
       "<div>\n",
       "<table border=\"1\" class=\"dataframe\">\n",
       "  <thead>\n",
       "    <tr style=\"text-align: right;\">\n",
       "      <th></th>\n",
       "      <th>cDNA_length</th>\n",
       "      <th>cds_length</th>\n",
       "      <th>exons_nr</th>\n",
       "      <th>5_MAR_presence</th>\n",
       "      <th>3_MAR_presence</th>\n",
       "      <th>5_polyA_18_presence</th>\n",
       "      <th>5_CCGNN_2_5_presence</th>\n",
       "      <th>perc_go_hk_match</th>\n",
       "      <th>perc_go_ts_match</th>\n",
       "      <th>is_hk</th>\n",
       "    </tr>\n",
       "  </thead>\n",
       "  <tbody>\n",
       "    <tr>\n",
       "      <th>91</th>\n",
       "      <td>3845.0</td>\n",
       "      <td>786.0</td>\n",
       "      <td>NaN</td>\n",
       "      <td>0</td>\n",
       "      <td>0</td>\n",
       "      <td>0</td>\n",
       "      <td>0</td>\n",
       "      <td>0.333333</td>\n",
       "      <td>0.0</td>\n",
       "      <td>1</td>\n",
       "    </tr>\n",
       "    <tr>\n",
       "      <th>92</th>\n",
       "      <td>960.0</td>\n",
       "      <td>960.0</td>\n",
       "      <td>NaN</td>\n",
       "      <td>0</td>\n",
       "      <td>0</td>\n",
       "      <td>0</td>\n",
       "      <td>0</td>\n",
       "      <td>0.333333</td>\n",
       "      <td>0.0</td>\n",
       "      <td>1</td>\n",
       "    </tr>\n",
       "    <tr>\n",
       "      <th>93</th>\n",
       "      <td>3492.0</td>\n",
       "      <td>786.0</td>\n",
       "      <td>NaN</td>\n",
       "      <td>0</td>\n",
       "      <td>0</td>\n",
       "      <td>0</td>\n",
       "      <td>0</td>\n",
       "      <td>0.333333</td>\n",
       "      <td>0.0</td>\n",
       "      <td>1</td>\n",
       "    </tr>\n",
       "    <tr>\n",
       "      <th>218</th>\n",
       "      <td>4019.0</td>\n",
       "      <td>3861.0</td>\n",
       "      <td>NaN</td>\n",
       "      <td>0</td>\n",
       "      <td>0</td>\n",
       "      <td>0</td>\n",
       "      <td>1</td>\n",
       "      <td>0.000000</td>\n",
       "      <td>0.5</td>\n",
       "      <td>0</td>\n",
       "    </tr>\n",
       "    <tr>\n",
       "      <th>219</th>\n",
       "      <td>3699.0</td>\n",
       "      <td>3699.0</td>\n",
       "      <td>NaN</td>\n",
       "      <td>0</td>\n",
       "      <td>0</td>\n",
       "      <td>0</td>\n",
       "      <td>1</td>\n",
       "      <td>0.000000</td>\n",
       "      <td>0.5</td>\n",
       "      <td>0</td>\n",
       "    </tr>\n",
       "  </tbody>\n",
       "</table>\n",
       "</div>"
      ],
      "text/plain": [
       "     cDNA_length  cds_length  exons_nr 5_MAR_presence 3_MAR_presence  \\\n",
       "91        3845.0       786.0       NaN              0              0   \n",
       "92         960.0       960.0       NaN              0              0   \n",
       "93        3492.0       786.0       NaN              0              0   \n",
       "218       4019.0      3861.0       NaN              0              0   \n",
       "219       3699.0      3699.0       NaN              0              0   \n",
       "\n",
       "    5_polyA_18_presence 5_CCGNN_2_5_presence  perc_go_hk_match  \\\n",
       "91                    0                    0          0.333333   \n",
       "92                    0                    0          0.333333   \n",
       "93                    0                    0          0.333333   \n",
       "218                   0                    1          0.000000   \n",
       "219                   0                    1          0.000000   \n",
       "\n",
       "     perc_go_ts_match is_hk  \n",
       "91                0.0     1  \n",
       "92                0.0     1  \n",
       "93                0.0     1  \n",
       "218               0.5     0  \n",
       "219               0.5     0  "
      ]
     },
     "execution_count": 99,
     "metadata": {},
     "output_type": "execute_result"
    }
   ],
   "source": [
    "sup_train_set = train_set.loc[~train_set.index.isin(unsup_train_set.index)]\n",
    "sup_train_set.head()"
   ]
  },
  {
   "cell_type": "markdown",
   "metadata": {},
   "source": [
    "## Histogram Discretization\n",
    "In class, we learned that in order to create a Bayes Classifier we first need to estimate the posterior or likelihood probability distributions. The simplest way to estimate probability distributions is via histograms. To do histogram estimation, we divide the entire data space into a finite number of bins. Then, we count how many data points are there in each bin and normalize using the total number of data points (so that the probability sums to 1). Since we are grouping a continuous valued feature into a finite number of bins, we can also call this process, discretization."
   ]
  },
  {
   "cell_type": "code",
   "execution_count": 100,
   "metadata": {
    "collapsed": true
   },
   "outputs": [],
   "source": [
    "# remove NaN values\n",
    "train_set_clength = train_set[\"cDNA_length\"]\n",
    "train_set_clength_no_nan = train_set_clength[~pd.isnull(train_set_clength)]\n",
    "train_set_cdslength = train_set[\"cds_length\"]\n",
    "train_set_cdslength_no_nan = train_set_cdslength[~pd.isnull(train_set_cdslength)]\n",
    "train_set_exons_nr = train_set[\"exons_nr\"]\n",
    "train_set_exons_nr_no_nan = train_set_exons_nr[~pd.isnull(train_set_exons_nr)]\n",
    "train_set_perc_go_hk_match = train_set[\"perc_go_hk_match\"]\n",
    "train_set_perc_go_hk_match_no_nan = train_set_perc_go_hk_match[~pd.isnull(train_set_perc_go_hk_match)]\n",
    "train_set_perc_go_ts_match = train_set[\"perc_go_ts_match\"]\n",
    "train_set_perc_go_ts_match_no_nan = train_set_perc_go_ts_match[~pd.isnull(train_set_perc_go_ts_match)]"
   ]
  },
  {
   "cell_type": "code",
   "execution_count": 101,
   "metadata": {},
   "outputs": [
    {
     "data": {
      "image/png": "[encoded data removed]",
      "text/plain": [
       "<matplotlib.figure.Figure at 0x7f863dbb5e80>"
      ]
     },
     "metadata": {},
     "output_type": "display_data"
    },
    {
     "data": {
      "image/png": "[encoded data removed]",
      "text/plain": [
       "<matplotlib.figure.Figure at 0x7f866ced2320>"
      ]
     },
     "metadata": {},
     "output_type": "display_data"
    },
    {
     "data": {
      "image/png": "[encoded data removed]",
      "text/plain": [
       "<matplotlib.figure.Figure at 0x7f8639d15e80>"
      ]
     },
     "metadata": {},
     "output_type": "display_data"
    }
   ],
   "source": [
    "# bin the data into 1000 equally spaced bins\n",
    "# hist is the count for each bin\n",
    "# bin_edge is the edge values of the bins\n",
    "hist, bin_edge = np.histogram(train_set_clength_no_nan, 1000)\n",
    "# make sure to import matplotlib.pyplot as plt\n",
    "# plot the histogram\n",
    "plt.fill_between(bin_edge.repeat(2)[1:-1], hist.repeat(2), facecolor = 'steelblue')\n",
    "plt.show()\n",
    "# plot the first 100 bins only\n",
    "plt.fill_between(bin_edge.repeat(2)[1:100], hist.repeat(2)[1:100], facecolor = 'steelblue')\n",
    "plt.show()\n",
    "# plot the first 500 bins only\n",
    "plt.fill_between(bin_edge.repeat(2)[1:500], hist.repeat(2)[1:500], facecolor='steelblue')\n",
    "plt.show()"
   ]
  },
  {
   "cell_type": "markdown",
   "metadata": {},
   "source": [
    "### Observe the histograms. Can we use a Gaussian to estimate this histogram? Why? What about a Gaussian Mixture Model (GMM)?\n",
    "No. Gaussian seems unfit to estimate this histogram. But we can use Gaussian Mixture Model (GMM) with an appropriate number of mixture instead, because GMM can actually fit any distribution."
   ]
  },
  {
   "cell_type": "markdown",
   "metadata": {},
   "source": [
    "### How many bins have zero counts? Do you think this is a good discretization? Why?\n",
    "There are 823 bins with zero counts."
   ]
  },
  {
   "cell_type": "code",
   "execution_count": 102,
   "metadata": {},
   "outputs": [
    {
     "data": {
      "text/plain": [
       "823"
      ]
     },
     "execution_count": 102,
     "metadata": {},
     "output_type": "execute_result"
    }
   ],
   "source": [
    "len(np.where(hist == 0)[0])"
   ]
  },
  {
   "cell_type": "markdown",
   "metadata": {},
   "source": [
    "## Segment to the Density of the Data Points.\n",
    "1) Sort the data points into a ranked list, `train_set_clength_no_nan_sorted`. <br>\n",
    "2) Define the bin edge at equally spaced ranks. You can do so by `train_set_clength_no_nan_sorted[0::spacing]`. <br>\n",
    "3) If we do it this way, each values in bin edge is not necessary unique. We can remove duplicate values by `bin_edge = np.unique(bin_edge)` <br>\n",
    "4) We can then bin each values in the training set into bins using the function `np.digitize`, then count the number in each bins using `np.bincount`."
   ]
  },
  {
   "cell_type": "markdown",
   "metadata": {},
   "source": [
    "### cDNA_length"
   ]
  },
  {
   "cell_type": "code",
   "execution_count": 103,
   "metadata": {
    "collapsed": true
   },
   "outputs": [],
   "source": [
    "train_set_clength_no_nan_sorted = train_set_clength_no_nan.sort_values(inplace = False)"
   ]
  },
  {
   "cell_type": "code",
   "execution_count": 104,
   "metadata": {},
   "outputs": [
    {
     "name": "stdout",
     "output_type": "stream",
     "text": [
      "502\n"
     ]
    }
   ],
   "source": [
    "clength_spacing = 70\n",
    "clength_bin_edge = train_set_clength_no_nan_sorted[0::clength_spacing]\n",
    "clength_bin_edge = np.unique(clength_bin_edge)\n",
    "print(len(clength_bin_edge))"
   ]
  },
  {
   "cell_type": "code",
   "execution_count": 105,
   "metadata": {},
   "outputs": [
    {
     "data": {
      "text/plain": [
       "array([  1,   1,   1, ..., 502, 502, 502])"
      ]
     },
     "execution_count": 105,
     "metadata": {},
     "output_type": "execute_result"
    }
   ],
   "source": [
    "clength_digitized = np.digitize(train_set_clength_no_nan_sorted, clength_bin_edge)\n",
    "clength_digitized"
   ]
  },
  {
   "cell_type": "code",
   "execution_count": 106,
   "metadata": {},
   "outputs": [
    {
     "name": "stdout",
     "output_type": "stream",
     "text": [
      "502\n"
     ]
    }
   ],
   "source": [
    "clength_bincount = np.bincount(clength_digitized)\n",
    "clength_bincount = clength_bincount[1:]\n",
    "print(len(clength_bincount))"
   ]
  },
  {
   "cell_type": "code",
   "execution_count": 107,
   "metadata": {
    "collapsed": true
   },
   "outputs": [],
   "source": [
    "clength_bin_edge = np.append(clength_bin_edge, clength_bin_edge[-1])"
   ]
  },
  {
   "cell_type": "markdown",
   "metadata": {},
   "source": [
    "### Plot the histogram according to our new discretization scheme just like the process above (with ∼1000 bins, and show 3 plots). Does it come out like how it should be?"
   ]
  },
  {
   "cell_type": "code",
   "execution_count": 108,
   "metadata": {},
   "outputs": [
    {
     "data": {
      "image/png": "[encoded data removed]",
      "text/plain": [
       "<matplotlib.figure.Figure at 0x7f863a0467f0>"
      ]
     },
     "metadata": {},
     "output_type": "display_data"
    },
    {
     "data": {
      "image/png": "[encoded data removed]",
      "text/plain": [
       "<matplotlib.figure.Figure at 0x7f863db97390>"
      ]
     },
     "metadata": {},
     "output_type": "display_data"
    },
    {
     "data": {
      "image/png": "[encoded data removed]",
      "text/plain": [
       "<matplotlib.figure.Figure at 0x7f8674f3d6a0>"
      ]
     },
     "metadata": {},
     "output_type": "display_data"
    }
   ],
   "source": [
    "# plot the histogram\n",
    "plt.fill_between(clength_bin_edge.repeat(2)[1:-1], clength_bincount.repeat(2), facecolor = 'steelblue')\n",
    "plt.show()\n",
    "# plot the first 100 bins only\n",
    "plt.fill_between(clength_bin_edge.repeat(2)[1:100], clength_bincount.repeat(2)[1:100], facecolor = 'steelblue')\n",
    "plt.show()\n",
    "# plot the first 500 bins only\n",
    "plt.fill_between(clength_bin_edge.repeat(2)[1:500], clength_bincount.repeat(2)[1:500], facecolor='steelblue')\n",
    "plt.show()"
   ]
  },
  {
   "cell_type": "markdown",
   "metadata": {},
   "source": [
    "### cds_length"
   ]
  },
  {
   "cell_type": "code",
   "execution_count": 109,
   "metadata": {
    "collapsed": true
   },
   "outputs": [],
   "source": [
    "train_set_cdslength_no_nan_sorted = train_set_cdslength_no_nan.sort_values(inplace = False)"
   ]
  },
  {
   "cell_type": "code",
   "execution_count": 114,
   "metadata": {},
   "outputs": [
    {
     "name": "stdout",
     "output_type": "stream",
     "text": [
      "499\n"
     ]
    }
   ],
   "source": [
    "cdslength_spacing = 69\n",
    "cdslength_bin_edge = train_set_cdslength_no_nan_sorted[0::cdslength_spacing]\n",
    "cdslength_bin_edge = np.unique(cdslength_bin_edge)\n",
    "print(len(cdslength_bin_edge))"
   ]
  },
  {
   "cell_type": "code",
   "execution_count": 115,
   "metadata": {},
   "outputs": [
    {
     "data": {
      "text/plain": [
       "array([  1,   1,   1, ..., 499, 499, 499])"
      ]
     },
     "execution_count": 115,
     "metadata": {},
     "output_type": "execute_result"
    }
   ],
   "source": [
    "cdslength_digitized = np.digitize(train_set_cdslength_no_nan_sorted, cdslength_bin_edge)\n",
    "cdslength_digitized"
   ]
  },
  {
   "cell_type": "code",
   "execution_count": 116,
   "metadata": {},
   "outputs": [
    {
     "name": "stdout",
     "output_type": "stream",
     "text": [
      "499\n"
     ]
    }
   ],
   "source": [
    "cdslength_bincount = np.bincount(cdslength_digitized)\n",
    "cdslength_bincount = cdslength_bincount[1:]\n",
    "print(len(cdslength_bincount))"
   ]
  },
  {
   "cell_type": "code",
   "execution_count": 117,
   "metadata": {
    "collapsed": true
   },
   "outputs": [],
   "source": [
    "cdslength_bin_edge = np.append(cdslength_bin_edge, cdslength_bin_edge[-1])"
   ]
  },
  {
   "cell_type": "markdown",
   "metadata": {},
   "source": [
    "### Plot the histogram according to our new discretization scheme just like the process above (with ∼1000 bins, and show 3 plots). Does it come out like how it should be?"
   ]
  },
  {
   "cell_type": "code",
   "execution_count": 118,
   "metadata": {
    "scrolled": false
   },
   "outputs": [
    {
     "data": {
      "image/png": "[encoded data removed]",
      "text/plain": [
       "<matplotlib.figure.Figure at 0x7f863da3bf60>"
      ]
     },
     "metadata": {},
     "output_type": "display_data"
    },
    {
     "data": {
      "image/png": "[encoded data removed]",
      "text/plain": [
       "<matplotlib.figure.Figure at 0x7f863e2f5198>"
      ]
     },
     "metadata": {},
     "output_type": "display_data"
    },
    {
     "data": {
      "image/png": "[encoded data removed]",
      "text/plain": [
       "<matplotlib.figure.Figure at 0x7f863df8fb38>"
      ]
     },
     "metadata": {},
     "output_type": "display_data"
    }
   ],
   "source": [
    "# plot the histogram\n",
    "plt.fill_between(cdslength_bin_edge.repeat(2)[1:-1], cdslength_bincount.repeat(2), facecolor = 'steelblue')\n",
    "plt.show()\n",
    "# plot the first 100 bins only\n",
    "plt.fill_between(cdslength_bin_edge.repeat(2)[1:100], cdslength_bincount.repeat(2)[1:100], facecolor = 'steelblue')\n",
    "plt.show()\n",
    "# plot the first 500 bins only\n",
    "plt.fill_between(cdslength_bin_edge.repeat(2)[1:500], cdslength_bincount.repeat(2)[1:500], facecolor='steelblue')\n",
    "plt.show()"
   ]
  },
  {
   "cell_type": "markdown",
   "metadata": {},
   "source": [
    "### exons_nr"
   ]
  },
  {
   "cell_type": "code",
   "execution_count": 119,
   "metadata": {
    "collapsed": true
   },
   "outputs": [],
   "source": [
    "train_set_exons_nr_no_nan_sorted = train_set_exons_nr_no_nan.sort_values(inplace = False)"
   ]
  },
  {
   "cell_type": "code",
   "execution_count": 120,
   "metadata": {},
   "outputs": [
    {
     "name": "stdout",
     "output_type": "stream",
     "text": [
      "84\n"
     ]
    }
   ],
   "source": [
    "exons_nr_spacing = 1\n",
    "exons_nr_bin_edge = train_set_exons_nr_no_nan_sorted[0::exons_nr_spacing]\n",
    "exons_nr_bin_edge = np.unique(exons_nr_bin_edge)\n",
    "print(len(exons_nr_bin_edge))"
   ]
  },
  {
   "cell_type": "code",
   "execution_count": 121,
   "metadata": {},
   "outputs": [
    {
     "data": {
      "text/plain": [
       "array([ 1,  1,  1, ..., 82, 83, 84])"
      ]
     },
     "execution_count": 121,
     "metadata": {},
     "output_type": "execute_result"
    }
   ],
   "source": [
    "exons_nr_digitized = np.digitize(train_set_exons_nr_no_nan_sorted, exons_nr_bin_edge)\n",
    "exons_nr_digitized"
   ]
  },
  {
   "cell_type": "code",
   "execution_count": 122,
   "metadata": {
    "collapsed": true
   },
   "outputs": [],
   "source": [
    "exons_nr_bin_edge = np.append(exons_nr_bin_edge, exons_nr_bin_edge[-1])"
   ]
  },
  {
   "cell_type": "markdown",
   "metadata": {},
   "source": [
    "### perc_go_ts_match"
   ]
  },
  {
   "cell_type": "code",
   "execution_count": 123,
   "metadata": {
    "collapsed": true
   },
   "outputs": [],
   "source": [
    "train_set_perc_go_hk_match_no_nan_sorted = train_set_perc_go_hk_match_no_nan.sort_values(inplace = False)"
   ]
  },
  {
   "cell_type": "code",
   "execution_count": 124,
   "metadata": {},
   "outputs": [
    {
     "name": "stdout",
     "output_type": "stream",
     "text": [
      "59\n"
     ]
    }
   ],
   "source": [
    "perc_go_hk_match_spacing = 1\n",
    "perc_go_hk_match_bin_edge = train_set_perc_go_hk_match_no_nan_sorted[0::perc_go_hk_match_spacing]\n",
    "perc_go_hk_match_bin_edge = np.unique(perc_go_hk_match_bin_edge)\n",
    "print(len(perc_go_hk_match_bin_edge))"
   ]
  },
  {
   "cell_type": "code",
   "execution_count": 125,
   "metadata": {},
   "outputs": [
    {
     "data": {
      "text/plain": [
       "array([ 1,  1,  1, ..., 59, 59, 59])"
      ]
     },
     "execution_count": 125,
     "metadata": {},
     "output_type": "execute_result"
    }
   ],
   "source": [
    "perc_go_hk_match_digitized = np.digitize(train_set_perc_go_hk_match_no_nan_sorted, perc_go_hk_match_bin_edge)\n",
    "perc_go_hk_match_digitized"
   ]
  },
  {
   "cell_type": "code",
   "execution_count": 126,
   "metadata": {
    "collapsed": true
   },
   "outputs": [],
   "source": [
    "perc_go_hk_match_bin_edge = np.append(perc_go_hk_match_bin_edge, perc_go_hk_match_bin_edge[-1])"
   ]
  },
  {
   "cell_type": "markdown",
   "metadata": {},
   "source": [
    "### perc_go_ts_match"
   ]
  },
  {
   "cell_type": "code",
   "execution_count": 127,
   "metadata": {
    "collapsed": true
   },
   "outputs": [],
   "source": [
    "train_set_perc_go_ts_match_no_nan_sorted = train_set_perc_go_ts_match_no_nan.sort_values(inplace = False)"
   ]
  },
  {
   "cell_type": "code",
   "execution_count": 128,
   "metadata": {},
   "outputs": [
    {
     "name": "stdout",
     "output_type": "stream",
     "text": [
      "117\n"
     ]
    }
   ],
   "source": [
    "perc_go_ts_match_spacing = 1\n",
    "perc_go_ts_match_bin_edge = train_set_perc_go_ts_match_no_nan_sorted[0::perc_go_ts_match_spacing]\n",
    "perc_go_ts_match_bin_edge = np.unique(perc_go_ts_match_bin_edge)\n",
    "print(len(perc_go_ts_match_bin_edge))"
   ]
  },
  {
   "cell_type": "code",
   "execution_count": 129,
   "metadata": {},
   "outputs": [
    {
     "data": {
      "text/plain": [
       "array([  1,   1,   1, ..., 117, 117, 117])"
      ]
     },
     "execution_count": 129,
     "metadata": {},
     "output_type": "execute_result"
    }
   ],
   "source": [
    "perc_go_ts_match_digitized = np.digitize(train_set_perc_go_ts_match_no_nan_sorted, perc_go_ts_match_bin_edge)\n",
    "perc_go_ts_match_digitized"
   ]
  },
  {
   "cell_type": "code",
   "execution_count": 130,
   "metadata": {
    "collapsed": true
   },
   "outputs": [],
   "source": [
    "perc_go_ts_match_bin_edge = np.append(perc_go_ts_match_bin_edge, perc_go_ts_match_bin_edge[-1])"
   ]
  },
  {
   "cell_type": "markdown",
   "metadata": {},
   "source": [
    "### Discretize the values of `cDNA_length` and `cds_length` according to the `train set`. In other words, figure out the bin edge for each feature, then use `digitize()` to convert the features to discrete values."
   ]
  },
  {
   "cell_type": "code",
   "execution_count": 131,
   "metadata": {
    "collapsed": true
   },
   "outputs": [],
   "source": [
    "clength_digitized_df = pd.DataFrame(clength_digitized, index = train_set_clength_no_nan_sorted.index, columns = [\"clength_digitized\"])\n",
    "cdslength_digitized_df = pd.DataFrame(cdslength_digitized, index = train_set_cdslength_no_nan_sorted.index, columns = [\"cdslength_digitized\"])\n",
    "exons_nr_digitized_df = pd.DataFrame(exons_nr_digitized, index = train_set_exons_nr_no_nan_sorted.index, columns = [\"exons_nr_digitized\"])\n",
    "perc_go_hk_match_digitized_df = pd.DataFrame(perc_go_hk_match_digitized, index = train_set_perc_go_hk_match_no_nan_sorted.index, columns = [\"perc_go_hk_match_digitized\"])\n",
    "perc_go_ts_match_digitized_df = pd.DataFrame(perc_go_ts_match_digitized, index = train_set_perc_go_ts_match_no_nan_sorted.index, columns = [\"perc_go_ts_match_digitized\"])"
   ]
  },
  {
   "cell_type": "code",
   "execution_count": 132,
   "metadata": {
    "collapsed": true
   },
   "outputs": [],
   "source": [
    "train_set_digitized = train_set.join(clength_digitized_df).join(cdslength_digitized_df).join(exons_nr_digitized_df).join(perc_go_hk_match_digitized_df).join(perc_go_ts_match_digitized_df)\n",
    "sup_train_set_digitized = sup_train_set.join(clength_digitized_df).join(cdslength_digitized_df).join(exons_nr_digitized_df).join(perc_go_hk_match_digitized_df).join(perc_go_ts_match_digitized_df)\n",
    "unsup_train_set_digitize = unsup_train_set.join(clength_digitized_df).join(cdslength_digitized_df).join(exons_nr_digitized_df).join(perc_go_hk_match_digitized_df).join(perc_go_ts_match_digitized_df)"
   ]
  },
  {
   "cell_type": "markdown",
   "metadata": {},
   "source": [
    "## The MLE for the likelihood distribution of discretized histograms\n",
    "We would like to build a Naive Bayes classifier which compares the posterior $p(housekeeping | x_{i})$ against $p(nothousekeeping | x_{i})$. However, figuring out p(class|xi) is often hard (not true for this case). Thus, we turn to the likelihood $p(x_{i} | class)$, which can be derived from the discretized histograms.\n",
    "\n",
    "### What is the MLE for the likelihood distributions of each of the 9 features? Plot the likelihood distributions. You should learn the discretization using `train_set`, but estimate the MLE using the `sup_train_set`."
   ]
  },
  {
   "cell_type": "code",
   "execution_count": 133,
   "metadata": {},
   "outputs": [
    {
     "name": "stdout",
     "output_type": "stream",
     "text": [
      "93\n",
      "600\n"
     ]
    }
   ],
   "source": [
    "n_is_hk_yes_in_sup_train_set = len(sup_train_set_digitized[sup_train_set_digitized[\"is_hk\"] == 1.0])\n",
    "print(n_is_hk_yes_in_sup_train_set)\n",
    "n_is_hk_no_in_sup_train_set = len(sup_train_set_digitized[sup_train_set_digitized[\"is_hk\"] == 0.0])\n",
    "print(n_is_hk_no_in_sup_train_set)"
   ]
  },
  {
   "cell_type": "code",
   "execution_count": 134,
   "metadata": {},
   "outputs": [
    {
     "data": {
      "text/html": [
       "<div>\n",
       "<table border=\"1\" class=\"dataframe\">\n",
       "  <thead>\n",
       "    <tr style=\"text-align: right;\">\n",
       "      <th></th>\n",
       "      <th>cDNA_length</th>\n",
       "      <th>cds_length</th>\n",
       "      <th>exons_nr</th>\n",
       "      <th>perc_go_hk_match</th>\n",
       "      <th>perc_go_ts_match</th>\n",
       "      <th>clength_digitized</th>\n",
       "      <th>cdslength_digitized</th>\n",
       "      <th>exons_nr_digitized</th>\n",
       "      <th>perc_go_hk_match_digitized</th>\n",
       "      <th>perc_go_ts_match_digitized</th>\n",
       "    </tr>\n",
       "  </thead>\n",
       "  <tbody>\n",
       "    <tr>\n",
       "      <th>count</th>\n",
       "      <td>693.000000</td>\n",
       "      <td>693.000000</td>\n",
       "      <td>194.000000</td>\n",
       "      <td>685.000000</td>\n",
       "      <td>685.000000</td>\n",
       "      <td>693.000000</td>\n",
       "      <td>693.000000</td>\n",
       "      <td>194.000000</td>\n",
       "      <td>685.000000</td>\n",
       "      <td>685.000000</td>\n",
       "    </tr>\n",
       "    <tr>\n",
       "      <th>mean</th>\n",
       "      <td>2361.835498</td>\n",
       "      <td>1511.372294</td>\n",
       "      <td>10.118557</td>\n",
       "      <td>0.058181</td>\n",
       "      <td>0.490531</td>\n",
       "      <td>249.847042</td>\n",
       "      <td>257.717172</td>\n",
       "      <td>10.118557</td>\n",
       "      <td>6.164964</td>\n",
       "      <td>70.204380</td>\n",
       "    </tr>\n",
       "    <tr>\n",
       "      <th>std</th>\n",
       "      <td>1726.314750</td>\n",
       "      <td>1442.104688</td>\n",
       "      <td>6.731826</td>\n",
       "      <td>0.183823</td>\n",
       "      <td>0.278912</td>\n",
       "      <td>127.770351</td>\n",
       "      <td>131.406534</td>\n",
       "      <td>6.731826</td>\n",
       "      <td>14.651625</td>\n",
       "      <td>37.257979</td>\n",
       "    </tr>\n",
       "    <tr>\n",
       "      <th>min</th>\n",
       "      <td>327.000000</td>\n",
       "      <td>138.000000</td>\n",
       "      <td>1.000000</td>\n",
       "      <td>0.000000</td>\n",
       "      <td>0.000000</td>\n",
       "      <td>17.000000</td>\n",
       "      <td>4.000000</td>\n",
       "      <td>1.000000</td>\n",
       "      <td>1.000000</td>\n",
       "      <td>1.000000</td>\n",
       "    </tr>\n",
       "    <tr>\n",
       "      <th>25%</th>\n",
       "      <td>1347.000000</td>\n",
       "      <td>744.000000</td>\n",
       "      <td>5.000000</td>\n",
       "      <td>0.000000</td>\n",
       "      <td>0.333333</td>\n",
       "      <td>149.000000</td>\n",
       "      <td>148.000000</td>\n",
       "      <td>5.000000</td>\n",
       "      <td>1.000000</td>\n",
       "      <td>53.000000</td>\n",
       "    </tr>\n",
       "    <tr>\n",
       "      <th>50%</th>\n",
       "      <td>2045.000000</td>\n",
       "      <td>1209.000000</td>\n",
       "      <td>9.000000</td>\n",
       "      <td>0.000000</td>\n",
       "      <td>0.571429</td>\n",
       "      <td>251.000000</td>\n",
       "      <td>266.000000</td>\n",
       "      <td>9.000000</td>\n",
       "      <td>1.000000</td>\n",
       "      <td>86.000000</td>\n",
       "    </tr>\n",
       "    <tr>\n",
       "      <th>75%</th>\n",
       "      <td>2783.000000</td>\n",
       "      <td>1680.000000</td>\n",
       "      <td>13.000000</td>\n",
       "      <td>0.000000</td>\n",
       "      <td>0.666667</td>\n",
       "      <td>342.000000</td>\n",
       "      <td>354.000000</td>\n",
       "      <td>13.000000</td>\n",
       "      <td>1.000000</td>\n",
       "      <td>95.000000</td>\n",
       "    </tr>\n",
       "    <tr>\n",
       "      <th>max</th>\n",
       "      <td>15365.000000</td>\n",
       "      <td>15123.000000</td>\n",
       "      <td>38.000000</td>\n",
       "      <td>1.000000</td>\n",
       "      <td>1.000000</td>\n",
       "      <td>501.000000</td>\n",
       "      <td>499.000000</td>\n",
       "      <td>38.000000</td>\n",
       "      <td>59.000000</td>\n",
       "      <td>117.000000</td>\n",
       "    </tr>\n",
       "  </tbody>\n",
       "</table>\n",
       "</div>"
      ],
      "text/plain": [
       "        cDNA_length    cds_length    exons_nr  perc_go_hk_match  \\\n",
       "count    693.000000    693.000000  194.000000        685.000000   \n",
       "mean    2361.835498   1511.372294   10.118557          0.058181   \n",
       "std     1726.314750   1442.104688    6.731826          0.183823   \n",
       "min      327.000000    138.000000    1.000000          0.000000   \n",
       "25%     1347.000000    744.000000    5.000000          0.000000   \n",
       "50%     2045.000000   1209.000000    9.000000          0.000000   \n",
       "75%     2783.000000   1680.000000   13.000000          0.000000   \n",
       "max    15365.000000  15123.000000   38.000000          1.000000   \n",
       "\n",
       "       perc_go_ts_match  clength_digitized  cdslength_digitized  \\\n",
       "count        685.000000         693.000000           693.000000   \n",
       "mean           0.490531         249.847042           257.717172   \n",
       "std            0.278912         127.770351           131.406534   \n",
       "min            0.000000          17.000000             4.000000   \n",
       "25%            0.333333         149.000000           148.000000   \n",
       "50%            0.571429         251.000000           266.000000   \n",
       "75%            0.666667         342.000000           354.000000   \n",
       "max            1.000000         501.000000           499.000000   \n",
       "\n",
       "       exons_nr_digitized  perc_go_hk_match_digitized  \\\n",
       "count          194.000000                  685.000000   \n",
       "mean            10.118557                    6.164964   \n",
       "std              6.731826                   14.651625   \n",
       "min              1.000000                    1.000000   \n",
       "25%              5.000000                    1.000000   \n",
       "50%              9.000000                    1.000000   \n",
       "75%             13.000000                    1.000000   \n",
       "max             38.000000                   59.000000   \n",
       "\n",
       "       perc_go_ts_match_digitized  \n",
       "count                  685.000000  \n",
       "mean                    70.204380  \n",
       "std                     37.257979  \n",
       "min                      1.000000  \n",
       "25%                     53.000000  \n",
       "50%                     86.000000  \n",
       "75%                     95.000000  \n",
       "max                    117.000000  "
      ]
     },
     "execution_count": 134,
     "metadata": {},
     "output_type": "execute_result"
    }
   ],
   "source": [
    "sup_train_set_digitized.describe()"
   ]
  },
  {
   "cell_type": "code",
   "execution_count": 135,
   "metadata": {
    "collapsed": true
   },
   "outputs": [],
   "source": [
    "def mle_multinomial(df, col_name, label_name, n_label_yes, n_label_no, unsup_df, minl):\n",
    "    col = df[[col_name, label_name]]\n",
    "    col_no_nan = col[~pd.isnull(col[col_name])]\n",
    "    col_is_hk_yes = col_no_nan[col_no_nan[label_name] == 1.0][col_name].astype(int)\n",
    "    col_is_hk_no = col_no_nan[col_no_nan[label_name] == 0.0][col_name].astype(int)\n",
    "    \n",
    "    col_unsup_no_nan = unsup_df[~pd.isnull(unsup_df[col_name])][col_name].astype(int)\n",
    "    alpha_and_beta = np.bincount(col_unsup_no_nan, minlength = minl)\n",
    "    alpha = 0.005 * alpha_and_beta\n",
    "\n",
    "    col_no_nan_likelihood_yes = (np.bincount(col_is_hk_yes, minlength = minl) + alpha) / (n_label_yes + alpha_and_beta)\n",
    "    col_no_nan_likelihood_no = (np.bincount(col_is_hk_no, minlength = minl) + alpha) / (n_label_no + alpha_and_beta)\n",
    "\n",
    "    col_no_nan_likelihood_yes[col_no_nan_likelihood_yes <= 0] = 0.000000001\n",
    "    col_no_nan_likelihood_no[col_no_nan_likelihood_no <= 0] = 0.000000001\n",
    "    \n",
    "    print(\"Likelihood Distribution p({0:s} | {1:s})\".format(col_name, label_name))\n",
    "    print(\"Red: {0:s} = no, Green: {0:s} = yes\".format(label_name))\n",
    "    plt.bar(range(len(col_no_nan_likelihood_yes)), col_no_nan_likelihood_yes, 4, color = \"green\", alpha = 0.35)\n",
    "    plt.bar(range(len(col_no_nan_likelihood_no)), col_no_nan_likelihood_no, 4, color = \"red\", alpha = 0.35)\n",
    "    plt.show()\n",
    "    return (lambda p: col_no_nan_likelihood_yes[p]), (lambda p: col_no_nan_likelihood_no[p])"
   ]
  },
  {
   "cell_type": "markdown",
   "metadata": {},
   "source": [
    "### `cDNA_length` MLE"
   ]
  },
  {
   "cell_type": "code",
   "execution_count": 136,
   "metadata": {},
   "outputs": [
    {
     "name": "stdout",
     "output_type": "stream",
     "text": [
      "Likelihood Distribution p(clength_digitized | is_hk)\n",
      "Red: is_hk = no, Green: is_hk = yes\n"
     ]
    },
    {
     "data": {
      "image/png": "[encoded data removed]",
      "text/plain": [
       "<matplotlib.figure.Figure at 0x7f863db55d30>"
      ]
     },
     "metadata": {},
     "output_type": "display_data"
    }
   ],
   "source": [
    "p_cDNA_length_given_hk, p_cDNA_length_given_not_hk = mle_multinomial(sup_train_set_digitized, \"clength_digitized\", \"is_hk\", n_is_hk_yes_in_sup_train_set, n_is_hk_no_in_sup_train_set, unsup_train_set_digitize, len(clength_bin_edge) + 1)"
   ]
  },
  {
   "cell_type": "markdown",
   "metadata": {},
   "source": [
    "### `cds_length` MLE"
   ]
  },
  {
   "cell_type": "code",
   "execution_count": 137,
   "metadata": {},
   "outputs": [
    {
     "name": "stdout",
     "output_type": "stream",
     "text": [
      "Likelihood Distribution p(cdslength_digitized | is_hk)\n",
      "Red: is_hk = no, Green: is_hk = yes\n"
     ]
    },
    {
     "data": {
      "image/png": "[encoded data removed]",
      "text/plain": [
       "<matplotlib.figure.Figure at 0x7f863a3a7e80>"
      ]
     },
     "metadata": {},
     "output_type": "display_data"
    }
   ],
   "source": [
    "p_cds_length_given_hk, p_cds_length_given_not_hk = mle_multinomial(sup_train_set_digitized, \"cdslength_digitized\", \"is_hk\", n_is_hk_yes_in_sup_train_set, n_is_hk_no_in_sup_train_set, unsup_train_set_digitize, len(cdslength_bin_edge) + 1)"
   ]
  },
  {
   "cell_type": "markdown",
   "metadata": {},
   "source": [
    "### `exons_nr` MLE"
   ]
  },
  {
   "cell_type": "code",
   "execution_count": 138,
   "metadata": {},
   "outputs": [
    {
     "name": "stdout",
     "output_type": "stream",
     "text": [
      "Likelihood Distribution p(exons_nr_digitized | is_hk)\n",
      "Red: is_hk = no, Green: is_hk = yes\n"
     ]
    },
    {
     "data": {
      "image/png": "[encoded data removed]",
      "text/plain": [
       "<matplotlib.figure.Figure at 0x7f863aa9f6d8>"
      ]
     },
     "metadata": {},
     "output_type": "display_data"
    }
   ],
   "source": [
    "p_exons_nr_given_hk, p_exons_nr_given_not_hk = mle_multinomial(sup_train_set_digitized, \"exons_nr_digitized\", \"is_hk\", n_is_hk_yes_in_sup_train_set, n_is_hk_no_in_sup_train_set, unsup_train_set_digitize, len(exons_nr_bin_edge) + 1)"
   ]
  },
  {
   "cell_type": "markdown",
   "metadata": {},
   "source": [
    "### `5_MAR_presence` MLE"
   ]
  },
  {
   "cell_type": "code",
   "execution_count": 139,
   "metadata": {},
   "outputs": [
    {
     "name": "stdout",
     "output_type": "stream",
     "text": [
      "Likelihood Distribution p(5_MAR_presence | is_hk)\n",
      "Red: is_hk = no, Green: is_hk = yes\n"
     ]
    },
    {
     "data": {
      "image/png": "[encoded data removed]",
      "text/plain": [
       "<matplotlib.figure.Figure at 0x7f863aab9eb8>"
      ]
     },
     "metadata": {},
     "output_type": "display_data"
    }
   ],
   "source": [
    "p_5_MAR_presence_given_hk, p_5_MAR_presence_given_not_hk = mle_multinomial(sup_train_set_digitized, \"5_MAR_presence\", \"is_hk\", n_is_hk_yes_in_sup_train_set, n_is_hk_no_in_sup_train_set, unsup_train_set_digitize, 2)"
   ]
  },
  {
   "cell_type": "markdown",
   "metadata": {},
   "source": [
    "### `3_MAR_presence` MLE"
   ]
  },
  {
   "cell_type": "code",
   "execution_count": 140,
   "metadata": {},
   "outputs": [
    {
     "name": "stdout",
     "output_type": "stream",
     "text": [
      "Likelihood Distribution p(3_MAR_presence | is_hk)\n",
      "Red: is_hk = no, Green: is_hk = yes\n"
     ]
    },
    {
     "data": {
      "image/png": "[encoded data removed]",
      "text/plain": [
       "<matplotlib.figure.Figure at 0x7f863a97e160>"
      ]
     },
     "metadata": {},
     "output_type": "display_data"
    }
   ],
   "source": [
    "p_3_MAR_presence_given_hk, p_3_MAR_presence_given_not_hk = mle_multinomial(sup_train_set_digitized, \"3_MAR_presence\", \"is_hk\", n_is_hk_yes_in_sup_train_set, n_is_hk_no_in_sup_train_set, unsup_train_set_digitize, 2)"
   ]
  },
  {
   "cell_type": "markdown",
   "metadata": {},
   "source": [
    "### `5_polyA_18_presence` MLE"
   ]
  },
  {
   "cell_type": "code",
   "execution_count": 141,
   "metadata": {},
   "outputs": [
    {
     "name": "stdout",
     "output_type": "stream",
     "text": [
      "Likelihood Distribution p(5_polyA_18_presence | is_hk)\n",
      "Red: is_hk = no, Green: is_hk = yes\n"
     ]
    },
    {
     "data": {
      "image/png": "[encoded data removed]",
      "text/plain": [
       "<matplotlib.figure.Figure at 0x7f863a8ad208>"
      ]
     },
     "metadata": {},
     "output_type": "display_data"
    }
   ],
   "source": [
    "p_5_polyA_18_presence_given_hk, p_5_polyA_18_presence_given_not_hk = mle_multinomial(sup_train_set_digitized, \"5_polyA_18_presence\", \"is_hk\", n_is_hk_yes_in_sup_train_set, n_is_hk_no_in_sup_train_set, unsup_train_set_digitize, 2)"
   ]
  },
  {
   "cell_type": "markdown",
   "metadata": {},
   "source": [
    "### `5_CCGNN_2_5_presence` MLE"
   ]
  },
  {
   "cell_type": "code",
   "execution_count": 142,
   "metadata": {},
   "outputs": [
    {
     "name": "stdout",
     "output_type": "stream",
     "text": [
      "Likelihood Distribution p(5_CCGNN_2_5_presence | is_hk)\n",
      "Red: is_hk = no, Green: is_hk = yes\n"
     ]
    },
    {
     "data": {
      "image/png": "[encoded data removed]",
      "text/plain": [
       "<matplotlib.figure.Figure at 0x7f863a81b6d8>"
      ]
     },
     "metadata": {},
     "output_type": "display_data"
    }
   ],
   "source": [
    "p_5_CCGNN_2_5_presence_given_hk, p_5_CCGNN_2_5_presence_given_not_hk = mle_multinomial(sup_train_set_digitized, \"5_CCGNN_2_5_presence\", \"is_hk\", n_is_hk_yes_in_sup_train_set, n_is_hk_no_in_sup_train_set, unsup_train_set_digitize, 2)"
   ]
  },
  {
   "cell_type": "markdown",
   "metadata": {},
   "source": [
    "### `perc_go_hk_match` MLE"
   ]
  },
  {
   "cell_type": "code",
   "execution_count": 143,
   "metadata": {},
   "outputs": [
    {
     "name": "stdout",
     "output_type": "stream",
     "text": [
      "Likelihood Distribution p(perc_go_hk_match_digitized | is_hk)\n",
      "Red: is_hk = no, Green: is_hk = yes\n"
     ]
    },
    {
     "data": {
      "image/png": "[encoded data removed]",
      "text/plain": [
       "<matplotlib.figure.Figure at 0x7f863a6d5ac8>"
      ]
     },
     "metadata": {},
     "output_type": "display_data"
    }
   ],
   "source": [
    "p_perc_go_hk_match_given_hk, p_perc_go_hk_match_given_not_hk = mle_multinomial(sup_train_set_digitized, \"perc_go_hk_match_digitized\", \"is_hk\", n_is_hk_yes_in_sup_train_set, n_is_hk_no_in_sup_train_set, unsup_train_set_digitize, len(perc_go_hk_match_bin_edge) + 1)"
   ]
  },
  {
   "cell_type": "markdown",
   "metadata": {},
   "source": [
    "### `perc_go_ts_match` MLE"
   ]
  },
  {
   "cell_type": "code",
   "execution_count": 144,
   "metadata": {},
   "outputs": [
    {
     "name": "stdout",
     "output_type": "stream",
     "text": [
      "Likelihood Distribution p(perc_go_ts_match_digitized | is_hk)\n",
      "Red: is_hk = no, Green: is_hk = yes\n"
     ]
    },
    {
     "data": {
      "image/png": "[encoded data removed]",
      "text/plain": [
       "<matplotlib.figure.Figure at 0x7f8639e3cb70>"
      ]
     },
     "metadata": {},
     "output_type": "display_data"
    }
   ],
   "source": [
    "p_perc_go_ts_match_given_hk, p_perc_go_ts_match_given_not_hk = mle_multinomial(sup_train_set_digitized, \"perc_go_ts_match_digitized\", \"is_hk\", n_is_hk_yes_in_sup_train_set, n_is_hk_no_in_sup_train_set, unsup_train_set_digitize, len(perc_go_ts_match_bin_edge) + 1)"
   ]
  },
  {
   "cell_type": "markdown",
   "metadata": {},
   "source": [
    "### What is the prior distribution of the two classes?\n",
    "Bernoulli distribution."
   ]
  },
  {
   "cell_type": "code",
   "execution_count": 145,
   "metadata": {},
   "outputs": [
    {
     "name": "stdout",
     "output_type": "stream",
     "text": [
      "p(is_hk = yes): 0.134199\n",
      "p(is_hk = no): 0.865801\n"
     ]
    }
   ],
   "source": [
    "p_hk = n_is_hk_yes_in_sup_train_set / len(sup_train_set_digitized)\n",
    "print(\"p(is_hk = yes): {0:f}\".format(p_hk))\n",
    "p_not_hk = n_is_hk_no_in_sup_train_set / len(sup_train_set_digitized)\n",
    "print(\"p(is_hk = no): {0:f}\".format(p_not_hk))"
   ]
  },
  {
   "cell_type": "markdown",
   "metadata": {},
   "source": [
    "## Naive Bayes classification\n",
    "We are now ready to build our Naive Bayes classifier. Which makes a decision according to\n",
    "\n",
    "$$H(x) = \\frac{p(housekeeping)}{p(nothousekeeping)}\\prod_{i=1}\\frac{p(x_{i}|housekeeping)}{p(x_{i}|nothousekeeping)}$$\n",
    "\n",
    "If $H(x)$ is larger than 1, then classify it as housekeeping. If $H(x)$ is smaller than 1, then classify it as not housekeeping.<br>\n",
    "Note we often work in the log scale to prevent floating point underflow. In other words,\n",
    "\n",
    "$$lH(x) = logp(housekeeping)−logp(nothousekeeping)+ \\sum_{i=1}[logp(x_{i}|housekeeping)−logp(x_{i}|nothousekeeping)]$$\n",
    "\n",
    "If $lH(x)$ is larger than 0, then classify it as housekeeping. If $lH(x)$ is smaller than 0, then classify it as not housekeeping.\n",
    "\n",
    "Use the learned distributions to classify the test set. Don’t forget to allow your classifier to handle missing values in the test set. Report the overall Accuracy. Then, report the Precision, Recall, and F score for detecting housekeeping gene. See Lecture 1 for the definitions of each metric."
   ]
  },
  {
   "cell_type": "code",
   "execution_count": 146,
   "metadata": {
    "collapsed": true
   },
   "outputs": [],
   "source": [
    "def naive_bayes_classifier(row, y_score = False, threshold = 0):\n",
    "    features_likelihood = np.array([0] * 9)\n",
    "    if(~pd.isnull(row[\"cDNA_length\"])):\n",
    "        x = np.digitize([row[\"cDNA_length\"]], clength_bin_edge)[0]\n",
    "        features_likelihood[0] = math.log(p_cDNA_length_given_hk(x)) - math.log(p_cDNA_length_given_not_hk(x))\n",
    "    if(~pd.isnull(row[\"cds_length\"])):\n",
    "        x = np.digitize([row[\"cds_length\"]], cdslength_bin_edge)[0]\n",
    "        features_likelihood[1] = math.log(p_cds_length_given_hk(x)) - math.log(p_cds_length_given_not_hk(x))\n",
    "    if(~pd.isnull(row[\"exons_nr\"])):\n",
    "        x = np.digitize([row[\"exons_nr\"]], exons_nr_bin_edge)[0]\n",
    "        features_likelihood[2] = math.log(p_exons_nr_given_hk(x)) - math.log(p_exons_nr_given_not_hk(x))\n",
    "    if(~pd.isnull(row[\"5_MAR_presence\"])):\n",
    "        x = int(row[\"5_MAR_presence\"])\n",
    "        features_likelihood[3] = math.log(p_5_MAR_presence_given_hk(x)) - math.log(p_5_MAR_presence_given_not_hk(x))\n",
    "    if(~pd.isnull(row[\"3_MAR_presence\"])):\n",
    "        x =  int(row[\"3_MAR_presence\"])\n",
    "        features_likelihood[4] = math.log(p_3_MAR_presence_given_hk(x)) - math.log(p_3_MAR_presence_given_not_hk(x))\n",
    "    if(~pd.isnull(row[\"5_polyA_18_presence\"])):\n",
    "        x =  int(row[\"5_polyA_18_presence\"])\n",
    "        features_likelihood[5] = math.log(p_5_polyA_18_presence_given_hk(x)) - math.log(p_5_polyA_18_presence_given_not_hk(x))\n",
    "    if(~pd.isnull(row[\"5_CCGNN_2_5_presence\"])):\n",
    "        x =  int(row[\"5_CCGNN_2_5_presence\"])\n",
    "        features_likelihood[6] = math.log(p_5_CCGNN_2_5_presence_given_hk(x)) - math.log(p_5_CCGNN_2_5_presence_given_not_hk(x))\n",
    "    if(~pd.isnull(row[\"perc_go_hk_match\"])):\n",
    "        x = np.digitize([row[\"perc_go_hk_match\"]], perc_go_hk_match_bin_edge)[0]\n",
    "        features_likelihood[7] = math.log(p_perc_go_hk_match_given_hk(x)) - math.log(p_perc_go_hk_match_given_not_hk(x))\n",
    "    if(~pd.isnull(row[\"perc_go_ts_match\"])):\n",
    "        x = np.digitize([row[\"perc_go_ts_match\"]], perc_go_ts_match_bin_edge)[0]\n",
    "        features_likelihood[8] = math.log(p_perc_go_ts_match_given_hk(x)) - math.log(p_perc_go_ts_match_given_not_hk(x))\n",
    "    l_hx = math.log(p_hk) - math.log(p_not_hk)\n",
    "    for i in range(9):\n",
    "        l_hx += features_likelihood[i]\n",
    "    if(y_score): \n",
    "        return l_hx\n",
    "    return 1 if l_hx > threshold else 0"
   ]
  },
  {
   "cell_type": "code",
   "execution_count": 147,
   "metadata": {
    "collapsed": true
   },
   "outputs": [],
   "source": [
    "def evaluate(y_true, y_pred):\n",
    "    acc = accuracy_score(y_true, y_pred, normalize = True)\n",
    "    precision = precision_score(y_true, y_pred)\n",
    "    recall = recall_score(y_true, y_pred)\n",
    "    f1 = f1_score(y_true, y_pred)\n",
    "    return acc, precision, recall, f1"
   ]
  },
  {
   "cell_type": "code",
   "execution_count": 148,
   "metadata": {
    "collapsed": true
   },
   "outputs": [],
   "source": [
    "result = test_set.apply(lambda row: naive_bayes_classifier(row), axis = 1)"
   ]
  },
  {
   "cell_type": "code",
   "execution_count": 149,
   "metadata": {},
   "outputs": [
    {
     "name": "stdout",
     "output_type": "stream",
     "text": [
      "Accuracy: 0.922078\n",
      "Precision: 1.000000\n",
      "Recall: 0.400000\n",
      "F1: 0.571429\n"
     ]
    }
   ],
   "source": [
    "result.acc, result.precision, result.recall, result.f1 = evaluate(test_set[\"is_hk\"].values.astype(int), result.values.astype(int))\n",
    "print(\"Accuracy: {0:f}\\nPrecision: {1:f}\\nRecall: {2:f}\\nF1: {3:f}\".format(result.acc, result.precision, result.recall, result.f1))"
   ]
  },
  {
   "cell_type": "markdown",
   "metadata": {},
   "source": [
    "## Receiver Operating Characteristic (RoC) curve\n",
    "\n",
    "Plot the RoC of your classifier."
   ]
  },
  {
   "cell_type": "code",
   "execution_count": 150,
   "metadata": {
    "collapsed": true
   },
   "outputs": [],
   "source": [
    "result_score = test_set.apply(lambda row: naive_bayes_classifier(row, y_score = True), axis = 1)\n",
    "fpr, tpr, thresholds = roc_curve(test_set[\"is_hk\"].values.astype(int), result_score.values.astype(float))"
   ]
  },
  {
   "cell_type": "code",
   "execution_count": 152,
   "metadata": {},
   "outputs": [
    {
     "data": {
      "image/png": "[encoded data removed]",
      "text/plain": [
       "<matplotlib.figure.Figure at 0x7f863a954518>"
      ]
     },
     "metadata": {},
     "output_type": "display_data"
    }
   ],
   "source": [
    "# plot ROC curve\n",
    "plt.plot(fpr, tpr)\n",
    "# random predictions curve\n",
    "plt.plot([0, 1], [0, 1], 'k--')\n",
    "plt.xlim([-0.1, 1.1])\n",
    "plt.ylim([-0.1, 1.1])\n",
    "plt.xlabel('False Positive Rate')\n",
    "plt.ylabel('True Positive Rate')\n",
    "plt.title('RoC Curve')\n",
    "plt.show()"
   ]
  },
  {
   "cell_type": "markdown",
   "metadata": {},
   "source": [
    "### Change the number of discretization bins from ∼1000 to ∼500. What happens to the RoC curve? Which discretization is better?\n",
    "\n",
    "The RoC Curve changes as shown in the above figure. ~1000 bins discretization is better."
   ]
  }
 ],
 "metadata": {
  "kernelspec": {
   "display_name": "Python 3",
   "language": "python",
   "name": "python3"
  },
  "language_info": {
   "codemirror_mode": {
    "name": "ipython",
    "version": 3
   },
   "file_extension": ".py",
   "mimetype": "text/x-python",
   "name": "python",
   "nbconvert_exporter": "python",
   "pygments_lexer": "ipython3",
   "version": "3.6.2"
  }
 },
 "nbformat": 4,
 "nbformat_minor": 2
}
