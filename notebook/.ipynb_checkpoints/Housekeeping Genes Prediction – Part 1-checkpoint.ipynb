{
 "cells": [
  {
   "cell_type": "markdown",
   "metadata": {},
   "source": [
    "# Housekeeping Genes Prediction\n",
    "**GitHub:** https://github.com/pirsquareff/pattern-assignment-2"
   ]
  },
  {
   "cell_type": "code",
   "execution_count": 130,
   "metadata": {
    "collapsed": true
   },
   "outputs": [],
   "source": [
    "import numpy as np\n",
    "import pandas as pd\n",
    "import matplotlib.pyplot as plt\n",
    "from sklearn.metrics import accuracy_score, f1_score, precision_score, recall_score, roc_curve, auc\n",
    "import random\n",
    "import math"
   ]
  },
  {
   "cell_type": "markdown",
   "metadata": {},
   "source": [
    "## Importing Data"
   ]
  },
  {
   "cell_type": "code",
   "execution_count": 2,
   "metadata": {
    "collapsed": true
   },
   "outputs": [],
   "source": [
    "data = pd.read_csv(\"./data/12864_2006_660_MOESM1_ESM.csv\")"
   ]
  },
  {
   "cell_type": "code",
   "execution_count": 3,
   "metadata": {},
   "outputs": [
    {
     "data": {
      "text/html": [
       "<div>\n",
       "<table border=\"1\" class=\"dataframe\">\n",
       "  <thead>\n",
       "    <tr style=\"text-align: right;\">\n",
       "      <th></th>\n",
       "      <th>cDNA_length</th>\n",
       "      <th>cds_length</th>\n",
       "      <th>exons_nr</th>\n",
       "      <th>perc_go_hk_match</th>\n",
       "      <th>perc_go_ts_match</th>\n",
       "    </tr>\n",
       "  </thead>\n",
       "  <tbody>\n",
       "    <tr>\n",
       "      <th>count</th>\n",
       "      <td>35164.000000</td>\n",
       "      <td>35164.000000</td>\n",
       "      <td>20568.000000</td>\n",
       "      <td>25957.000000</td>\n",
       "      <td>25957.000000</td>\n",
       "    </tr>\n",
       "    <tr>\n",
       "      <th>mean</th>\n",
       "      <td>2439.950432</td>\n",
       "      <td>1484.058583</td>\n",
       "      <td>6.568748</td>\n",
       "      <td>0.036278</td>\n",
       "      <td>0.222914</td>\n",
       "    </tr>\n",
       "    <tr>\n",
       "      <th>std</th>\n",
       "      <td>2012.944961</td>\n",
       "      <td>1502.566846</td>\n",
       "      <td>8.333126</td>\n",
       "      <td>0.131669</td>\n",
       "      <td>0.253348</td>\n",
       "    </tr>\n",
       "    <tr>\n",
       "      <th>min</th>\n",
       "      <td>45.000000</td>\n",
       "      <td>45.000000</td>\n",
       "      <td>1.000000</td>\n",
       "      <td>0.000000</td>\n",
       "      <td>0.000000</td>\n",
       "    </tr>\n",
       "    <tr>\n",
       "      <th>25%</th>\n",
       "      <td>1168.000000</td>\n",
       "      <td>642.000000</td>\n",
       "      <td>1.000000</td>\n",
       "      <td>0.000000</td>\n",
       "      <td>0.000000</td>\n",
       "    </tr>\n",
       "    <tr>\n",
       "      <th>50%</th>\n",
       "      <td>2047.000000</td>\n",
       "      <td>1119.000000</td>\n",
       "      <td>3.000000</td>\n",
       "      <td>0.000000</td>\n",
       "      <td>0.166667</td>\n",
       "    </tr>\n",
       "    <tr>\n",
       "      <th>75%</th>\n",
       "      <td>3185.250000</td>\n",
       "      <td>1821.000000</td>\n",
       "      <td>9.000000</td>\n",
       "      <td>0.000000</td>\n",
       "      <td>0.363636</td>\n",
       "    </tr>\n",
       "    <tr>\n",
       "      <th>max</th>\n",
       "      <td>99631.000000</td>\n",
       "      <td>98385.000000</td>\n",
       "      <td>118.000000</td>\n",
       "      <td>1.000000</td>\n",
       "      <td>1.000000</td>\n",
       "    </tr>\n",
       "  </tbody>\n",
       "</table>\n",
       "</div>"
      ],
      "text/plain": [
       "        cDNA_length    cds_length      exons_nr  perc_go_hk_match  \\\n",
       "count  35164.000000  35164.000000  20568.000000      25957.000000   \n",
       "mean    2439.950432   1484.058583      6.568748          0.036278   \n",
       "std     2012.944961   1502.566846      8.333126          0.131669   \n",
       "min       45.000000     45.000000      1.000000          0.000000   \n",
       "25%     1168.000000    642.000000      1.000000          0.000000   \n",
       "50%     2047.000000   1119.000000      3.000000          0.000000   \n",
       "75%     3185.250000   1821.000000      9.000000          0.000000   \n",
       "max    99631.000000  98385.000000    118.000000          1.000000   \n",
       "\n",
       "       perc_go_ts_match  \n",
       "count      25957.000000  \n",
       "mean           0.222914  \n",
       "std            0.253348  \n",
       "min            0.000000  \n",
       "25%            0.000000  \n",
       "50%            0.166667  \n",
       "75%            0.363636  \n",
       "max            1.000000  "
      ]
     },
     "execution_count": 3,
     "metadata": {},
     "output_type": "execute_result"
    }
   ],
   "source": [
    "data.describe()"
   ]
  },
  {
   "cell_type": "code",
   "execution_count": 4,
   "metadata": {},
   "outputs": [
    {
     "data": {
      "text/html": [
       "<div>\n",
       "<table border=\"1\" class=\"dataframe\">\n",
       "  <thead>\n",
       "    <tr style=\"text-align: right;\">\n",
       "      <th></th>\n",
       "      <th>EMBL_transcript_id</th>\n",
       "      <th>cDNA_length</th>\n",
       "      <th>cds_length</th>\n",
       "      <th>exons_nr</th>\n",
       "      <th>5_MAR_presence</th>\n",
       "      <th>3_MAR_presence</th>\n",
       "      <th>5_polyA_18_presence</th>\n",
       "      <th>5_CCGNN_2_5_presence</th>\n",
       "      <th>perc_go_hk_match</th>\n",
       "      <th>perc_go_ts_match</th>\n",
       "      <th>is_hk</th>\n",
       "    </tr>\n",
       "  </thead>\n",
       "  <tbody>\n",
       "    <tr>\n",
       "      <th>0</th>\n",
       "      <td>ENST00000274311</td>\n",
       "      <td>2918.0</td>\n",
       "      <td>1158.0</td>\n",
       "      <td>3.0</td>\n",
       "      <td>no</td>\n",
       "      <td>no</td>\n",
       "      <td>no</td>\n",
       "      <td>yes</td>\n",
       "      <td>0.1</td>\n",
       "      <td>0.200000</td>\n",
       "      <td>NaN</td>\n",
       "    </tr>\n",
       "    <tr>\n",
       "      <th>1</th>\n",
       "      <td>ENST00000282588</td>\n",
       "      <td>4795.0</td>\n",
       "      <td>3540.0</td>\n",
       "      <td>29.0</td>\n",
       "      <td>no</td>\n",
       "      <td>no</td>\n",
       "      <td>no</td>\n",
       "      <td>yes</td>\n",
       "      <td>0.1</td>\n",
       "      <td>0.200000</td>\n",
       "      <td>NaN</td>\n",
       "    </tr>\n",
       "    <tr>\n",
       "      <th>2</th>\n",
       "      <td>ENST00000274311</td>\n",
       "      <td>2918.0</td>\n",
       "      <td>1158.0</td>\n",
       "      <td>3.0</td>\n",
       "      <td>no</td>\n",
       "      <td>no</td>\n",
       "      <td>no</td>\n",
       "      <td>yes</td>\n",
       "      <td>0.1</td>\n",
       "      <td>0.200000</td>\n",
       "      <td>NaN</td>\n",
       "    </tr>\n",
       "    <tr>\n",
       "      <th>3</th>\n",
       "      <td>ENST00000282588</td>\n",
       "      <td>4795.0</td>\n",
       "      <td>3540.0</td>\n",
       "      <td>29.0</td>\n",
       "      <td>no</td>\n",
       "      <td>no</td>\n",
       "      <td>no</td>\n",
       "      <td>yes</td>\n",
       "      <td>0.1</td>\n",
       "      <td>0.200000</td>\n",
       "      <td>NaN</td>\n",
       "    </tr>\n",
       "    <tr>\n",
       "      <th>4</th>\n",
       "      <td>ENST00000337416</td>\n",
       "      <td>4551.0</td>\n",
       "      <td>1656.0</td>\n",
       "      <td>18.0</td>\n",
       "      <td>no</td>\n",
       "      <td>yes</td>\n",
       "      <td>no</td>\n",
       "      <td>no</td>\n",
       "      <td>0.0</td>\n",
       "      <td>0.111111</td>\n",
       "      <td>NaN</td>\n",
       "    </tr>\n",
       "  </tbody>\n",
       "</table>\n",
       "</div>"
      ],
      "text/plain": [
       "  EMBL_transcript_id  cDNA_length  cds_length  exons_nr 5_MAR_presence  \\\n",
       "0    ENST00000274311       2918.0      1158.0       3.0             no   \n",
       "1    ENST00000282588       4795.0      3540.0      29.0             no   \n",
       "2    ENST00000274311       2918.0      1158.0       3.0             no   \n",
       "3    ENST00000282588       4795.0      3540.0      29.0             no   \n",
       "4    ENST00000337416       4551.0      1656.0      18.0             no   \n",
       "\n",
       "  3_MAR_presence 5_polyA_18_presence 5_CCGNN_2_5_presence  perc_go_hk_match  \\\n",
       "0             no                  no                  yes               0.1   \n",
       "1             no                  no                  yes               0.1   \n",
       "2             no                  no                  yes               0.1   \n",
       "3             no                  no                  yes               0.1   \n",
       "4            yes                  no                   no               0.0   \n",
       "\n",
       "   perc_go_ts_match is_hk  \n",
       "0          0.200000   NaN  \n",
       "1          0.200000   NaN  \n",
       "2          0.200000   NaN  \n",
       "3          0.200000   NaN  \n",
       "4          0.111111   NaN  "
      ]
     },
     "execution_count": 4,
     "metadata": {},
     "output_type": "execute_result"
    }
   ],
   "source": [
    "data.head()"
   ]
  },
  {
   "cell_type": "markdown",
   "metadata": {},
   "source": [
    "## Cleaning Data\n",
    "\n",
    "There are many missing values in this database. They are represented with NaN. In the previous homework, we filled the missing values with the mean, median, or mode values. That is because classifiers such as logistic regression cannot deal with missing feature values. However, for the case of Naive Bayes which we will use in this homework compares $\\prod_{i} p(x_{i} | class)$ and treat each $x_{i}$ as independent features. Thus, if a feature $i$ is missing, we can drop that term from the comparison without having to guess what the missing feature is. First, convert the yes and no in this data table to 1 and 0. We can also drop the name of the genes and just refer to them by their index values."
   ]
  },
  {
   "cell_type": "code",
   "execution_count": 6,
   "metadata": {
    "collapsed": true
   },
   "outputs": [],
   "source": [
    "data.loc[data[\"5_MAR_presence\"] == \"no\", \"5_MAR_presence\"] = 0.0\n",
    "data.loc[data[\"5_MAR_presence\"] == \"yes\", \"5_MAR_presence\"] = 1.0\n",
    "data.loc[data[\"3_MAR_presence\"] == \"no\", \"3_MAR_presence\"] = 0.0\n",
    "data.loc[data[\"3_MAR_presence\"] == \"yes\", \"3_MAR_presence\"] = 1.0\n",
    "data.loc[data[\"5_polyA_18_presence\"] == \"no\", \"5_polyA_18_presence\"] = 0.0\n",
    "data.loc[data[\"5_polyA_18_presence\"] == \"yes\", \"5_polyA_18_presence\"] = 1.0\n",
    "data.loc[data[\"5_CCGNN_2_5_presence\"] == \"no\", \"5_CCGNN_2_5_presence\"] = 0.0\n",
    "data.loc[data[\"5_CCGNN_2_5_presence\"] == \"yes\", \"5_CCGNN_2_5_presence\"] = 1.0\n",
    "data.loc[data[\"is_hk\"] == \"no\", \"is_hk\"] = 0.0\n",
    "data.loc[data[\"is_hk\"] == \"yes\", \"is_hk\"] = 1.0\n",
    "del data[\"EMBL_transcript_id\"]"
   ]
  },
  {
   "cell_type": "markdown",
   "metadata": {},
   "source": [
    "### How many items are `NaN` in the `is_hk` column?\n",
    "There are 46459 items that are `NaN` in the `is_hk` column."
   ]
  },
  {
   "cell_type": "code",
   "execution_count": 7,
   "metadata": {},
   "outputs": [
    {
     "data": {
      "text/plain": [
       "46459"
      ]
     },
     "execution_count": 7,
     "metadata": {},
     "output_type": "execute_result"
    }
   ],
   "source": [
    "data_is_hk_nan = data[pd.isnull(data[\"is_hk\"])]\n",
    "n_is_hk_nan = len(data_is_hk_nan)\n",
    "n_is_hk_nan"
   ]
  },
  {
   "cell_type": "markdown",
   "metadata": {},
   "source": [
    "### How many items are known housekeeping genes?\n",
    "There are 103 items that are known housekeeping genes."
   ]
  },
  {
   "cell_type": "code",
   "execution_count": 8,
   "metadata": {},
   "outputs": [
    {
     "data": {
      "text/plain": [
       "103"
      ]
     },
     "execution_count": 8,
     "metadata": {},
     "output_type": "execute_result"
    }
   ],
   "source": [
    "data_is_hk_yes = data[data[\"is_hk\"] == 1.0]\n",
    "n_is_hk_yes = len(data_is_hk_yes)\n",
    "n_is_hk_yes"
   ]
  },
  {
   "cell_type": "markdown",
   "metadata": {},
   "source": [
    "### How many items are known tissue specific genes?\n",
    "There are 667 items that are known housekeeping genes."
   ]
  },
  {
   "cell_type": "code",
   "execution_count": 9,
   "metadata": {},
   "outputs": [
    {
     "data": {
      "text/plain": [
       "667"
      ]
     },
     "execution_count": 9,
     "metadata": {},
     "output_type": "execute_result"
    }
   ],
   "source": [
    "data_is_hk_no = data[data[\"is_hk\"] == 0.0]\n",
    "n_is_hk_no = len(data_is_hk_no)\n",
    "n_is_hk_no"
   ]
  },
  {
   "cell_type": "markdown",
   "metadata": {},
   "source": [
    "## Splitting Data into Testing and Training Set\n",
    "Select 10% of the `is_hk == yes` and 10% of the `is_hk == no` as your testing set, `test_set`. Then, use the rest of the data as your training set, `train_set`. From `train_set`, filter the ones with `is_hk == NaN` as the unsupervised training set, `unsup_train_set`. Filter the ones with `is_hk == yes` or `no` as the supervised training set, `sup_train_set`."
   ]
  },
  {
   "cell_type": "code",
   "execution_count": 10,
   "metadata": {},
   "outputs": [
    {
     "data": {
      "text/plain": [
       "10"
      ]
     },
     "execution_count": 10,
     "metadata": {},
     "output_type": "execute_result"
    }
   ],
   "source": [
    "# Randomly sample 10% from is_hk_yes\n",
    "data_10_percent_from_is_hk_yes = data_is_hk_yes.sample(frac = 0.1)\n",
    "len(data_10_percent_from_is_hk_yes)"
   ]
  },
  {
   "cell_type": "code",
   "execution_count": 11,
   "metadata": {},
   "outputs": [
    {
     "data": {
      "text/plain": [
       "67"
      ]
     },
     "execution_count": 11,
     "metadata": {},
     "output_type": "execute_result"
    }
   ],
   "source": [
    "# Randomly sample 10% from is_hk_no\n",
    "data_10_percent_from_is_hk_no = data_is_hk_no.sample(frac = 0.1)\n",
    "len(data_10_percent_from_is_hk_no)"
   ]
  },
  {
   "cell_type": "code",
   "execution_count": 12,
   "metadata": {},
   "outputs": [
    {
     "data": {
      "text/html": [
       "<div>\n",
       "<table border=\"1\" class=\"dataframe\">\n",
       "  <thead>\n",
       "    <tr style=\"text-align: right;\">\n",
       "      <th></th>\n",
       "      <th>cDNA_length</th>\n",
       "      <th>cds_length</th>\n",
       "      <th>exons_nr</th>\n",
       "      <th>5_MAR_presence</th>\n",
       "      <th>3_MAR_presence</th>\n",
       "      <th>5_polyA_18_presence</th>\n",
       "      <th>5_CCGNN_2_5_presence</th>\n",
       "      <th>perc_go_hk_match</th>\n",
       "      <th>perc_go_ts_match</th>\n",
       "      <th>is_hk</th>\n",
       "    </tr>\n",
       "  </thead>\n",
       "  <tbody>\n",
       "    <tr>\n",
       "      <th>1758</th>\n",
       "      <td>640.0</td>\n",
       "      <td>567.0</td>\n",
       "      <td>NaN</td>\n",
       "      <td>0</td>\n",
       "      <td>0</td>\n",
       "      <td>1</td>\n",
       "      <td>0</td>\n",
       "      <td>0.800000</td>\n",
       "      <td>0.0</td>\n",
       "      <td>1</td>\n",
       "    </tr>\n",
       "    <tr>\n",
       "      <th>23140</th>\n",
       "      <td>675.0</td>\n",
       "      <td>381.0</td>\n",
       "      <td>NaN</td>\n",
       "      <td>0</td>\n",
       "      <td>0</td>\n",
       "      <td>0</td>\n",
       "      <td>0</td>\n",
       "      <td>0.166667</td>\n",
       "      <td>0.0</td>\n",
       "      <td>1</td>\n",
       "    </tr>\n",
       "    <tr>\n",
       "      <th>2277</th>\n",
       "      <td>3484.0</td>\n",
       "      <td>1911.0</td>\n",
       "      <td>NaN</td>\n",
       "      <td>0</td>\n",
       "      <td>0</td>\n",
       "      <td>0</td>\n",
       "      <td>1</td>\n",
       "      <td>0.555556</td>\n",
       "      <td>0.0</td>\n",
       "      <td>1</td>\n",
       "    </tr>\n",
       "    <tr>\n",
       "      <th>7447</th>\n",
       "      <td>548.0</td>\n",
       "      <td>330.0</td>\n",
       "      <td>NaN</td>\n",
       "      <td>1</td>\n",
       "      <td>1</td>\n",
       "      <td>1</td>\n",
       "      <td>0</td>\n",
       "      <td>0.600000</td>\n",
       "      <td>0.0</td>\n",
       "      <td>1</td>\n",
       "    </tr>\n",
       "    <tr>\n",
       "      <th>2278</th>\n",
       "      <td>2351.0</td>\n",
       "      <td>1647.0</td>\n",
       "      <td>NaN</td>\n",
       "      <td>0</td>\n",
       "      <td>0</td>\n",
       "      <td>0</td>\n",
       "      <td>1</td>\n",
       "      <td>0.555556</td>\n",
       "      <td>0.0</td>\n",
       "      <td>1</td>\n",
       "    </tr>\n",
       "  </tbody>\n",
       "</table>\n",
       "</div>"
      ],
      "text/plain": [
       "       cDNA_length  cds_length  exons_nr 5_MAR_presence 3_MAR_presence  \\\n",
       "1758         640.0       567.0       NaN              0              0   \n",
       "23140        675.0       381.0       NaN              0              0   \n",
       "2277        3484.0      1911.0       NaN              0              0   \n",
       "7447         548.0       330.0       NaN              1              1   \n",
       "2278        2351.0      1647.0       NaN              0              0   \n",
       "\n",
       "      5_polyA_18_presence 5_CCGNN_2_5_presence  perc_go_hk_match  \\\n",
       "1758                    1                    0          0.800000   \n",
       "23140                   0                    0          0.166667   \n",
       "2277                    0                    1          0.555556   \n",
       "7447                    1                    0          0.600000   \n",
       "2278                    0                    1          0.555556   \n",
       "\n",
       "       perc_go_ts_match is_hk  \n",
       "1758                0.0     1  \n",
       "23140               0.0     1  \n",
       "2277                0.0     1  \n",
       "7447                0.0     1  \n",
       "2278                0.0     1  "
      ]
     },
     "execution_count": 12,
     "metadata": {},
     "output_type": "execute_result"
    }
   ],
   "source": [
    "test_set = pd.concat([data_10_percent_from_is_hk_yes, data_10_percent_from_is_hk_no], ignore_index = False)\n",
    "test_set.head()"
   ]
  },
  {
   "cell_type": "code",
   "execution_count": 13,
   "metadata": {},
   "outputs": [
    {
     "data": {
      "text/html": [
       "<div>\n",
       "<table border=\"1\" class=\"dataframe\">\n",
       "  <thead>\n",
       "    <tr style=\"text-align: right;\">\n",
       "      <th></th>\n",
       "      <th>cDNA_length</th>\n",
       "      <th>cds_length</th>\n",
       "      <th>exons_nr</th>\n",
       "      <th>5_MAR_presence</th>\n",
       "      <th>3_MAR_presence</th>\n",
       "      <th>5_polyA_18_presence</th>\n",
       "      <th>5_CCGNN_2_5_presence</th>\n",
       "      <th>perc_go_hk_match</th>\n",
       "      <th>perc_go_ts_match</th>\n",
       "      <th>is_hk</th>\n",
       "    </tr>\n",
       "  </thead>\n",
       "  <tbody>\n",
       "    <tr>\n",
       "      <th>0</th>\n",
       "      <td>2918.0</td>\n",
       "      <td>1158.0</td>\n",
       "      <td>3.0</td>\n",
       "      <td>0</td>\n",
       "      <td>0</td>\n",
       "      <td>0</td>\n",
       "      <td>1</td>\n",
       "      <td>0.1</td>\n",
       "      <td>0.200000</td>\n",
       "      <td>NaN</td>\n",
       "    </tr>\n",
       "    <tr>\n",
       "      <th>1</th>\n",
       "      <td>4795.0</td>\n",
       "      <td>3540.0</td>\n",
       "      <td>29.0</td>\n",
       "      <td>0</td>\n",
       "      <td>0</td>\n",
       "      <td>0</td>\n",
       "      <td>1</td>\n",
       "      <td>0.1</td>\n",
       "      <td>0.200000</td>\n",
       "      <td>NaN</td>\n",
       "    </tr>\n",
       "    <tr>\n",
       "      <th>2</th>\n",
       "      <td>2918.0</td>\n",
       "      <td>1158.0</td>\n",
       "      <td>3.0</td>\n",
       "      <td>0</td>\n",
       "      <td>0</td>\n",
       "      <td>0</td>\n",
       "      <td>1</td>\n",
       "      <td>0.1</td>\n",
       "      <td>0.200000</td>\n",
       "      <td>NaN</td>\n",
       "    </tr>\n",
       "    <tr>\n",
       "      <th>3</th>\n",
       "      <td>4795.0</td>\n",
       "      <td>3540.0</td>\n",
       "      <td>29.0</td>\n",
       "      <td>0</td>\n",
       "      <td>0</td>\n",
       "      <td>0</td>\n",
       "      <td>1</td>\n",
       "      <td>0.1</td>\n",
       "      <td>0.200000</td>\n",
       "      <td>NaN</td>\n",
       "    </tr>\n",
       "    <tr>\n",
       "      <th>4</th>\n",
       "      <td>4551.0</td>\n",
       "      <td>1656.0</td>\n",
       "      <td>18.0</td>\n",
       "      <td>0</td>\n",
       "      <td>1</td>\n",
       "      <td>0</td>\n",
       "      <td>0</td>\n",
       "      <td>0.0</td>\n",
       "      <td>0.111111</td>\n",
       "      <td>NaN</td>\n",
       "    </tr>\n",
       "  </tbody>\n",
       "</table>\n",
       "</div>"
      ],
      "text/plain": [
       "   cDNA_length  cds_length  exons_nr 5_MAR_presence 3_MAR_presence  \\\n",
       "0       2918.0      1158.0       3.0              0              0   \n",
       "1       4795.0      3540.0      29.0              0              0   \n",
       "2       2918.0      1158.0       3.0              0              0   \n",
       "3       4795.0      3540.0      29.0              0              0   \n",
       "4       4551.0      1656.0      18.0              0              1   \n",
       "\n",
       "  5_polyA_18_presence 5_CCGNN_2_5_presence  perc_go_hk_match  \\\n",
       "0                   0                    1               0.1   \n",
       "1                   0                    1               0.1   \n",
       "2                   0                    1               0.1   \n",
       "3                   0                    1               0.1   \n",
       "4                   0                    0               0.0   \n",
       "\n",
       "   perc_go_ts_match is_hk  \n",
       "0          0.200000   NaN  \n",
       "1          0.200000   NaN  \n",
       "2          0.200000   NaN  \n",
       "3          0.200000   NaN  \n",
       "4          0.111111   NaN  "
      ]
     },
     "execution_count": 13,
     "metadata": {},
     "output_type": "execute_result"
    }
   ],
   "source": [
    "train_set = data.loc[~data.index.isin(test_set.index)]\n",
    "train_set.head()"
   ]
  },
  {
   "cell_type": "code",
   "execution_count": 14,
   "metadata": {},
   "outputs": [
    {
     "data": {
      "text/html": [
       "<div>\n",
       "<table border=\"1\" class=\"dataframe\">\n",
       "  <thead>\n",
       "    <tr style=\"text-align: right;\">\n",
       "      <th></th>\n",
       "      <th>cDNA_length</th>\n",
       "      <th>cds_length</th>\n",
       "      <th>exons_nr</th>\n",
       "      <th>5_MAR_presence</th>\n",
       "      <th>3_MAR_presence</th>\n",
       "      <th>5_polyA_18_presence</th>\n",
       "      <th>5_CCGNN_2_5_presence</th>\n",
       "      <th>perc_go_hk_match</th>\n",
       "      <th>perc_go_ts_match</th>\n",
       "      <th>is_hk</th>\n",
       "    </tr>\n",
       "  </thead>\n",
       "  <tbody>\n",
       "    <tr>\n",
       "      <th>0</th>\n",
       "      <td>2918.0</td>\n",
       "      <td>1158.0</td>\n",
       "      <td>3.0</td>\n",
       "      <td>0</td>\n",
       "      <td>0</td>\n",
       "      <td>0</td>\n",
       "      <td>1</td>\n",
       "      <td>0.1</td>\n",
       "      <td>0.200000</td>\n",
       "      <td>NaN</td>\n",
       "    </tr>\n",
       "    <tr>\n",
       "      <th>1</th>\n",
       "      <td>4795.0</td>\n",
       "      <td>3540.0</td>\n",
       "      <td>29.0</td>\n",
       "      <td>0</td>\n",
       "      <td>0</td>\n",
       "      <td>0</td>\n",
       "      <td>1</td>\n",
       "      <td>0.1</td>\n",
       "      <td>0.200000</td>\n",
       "      <td>NaN</td>\n",
       "    </tr>\n",
       "    <tr>\n",
       "      <th>2</th>\n",
       "      <td>2918.0</td>\n",
       "      <td>1158.0</td>\n",
       "      <td>3.0</td>\n",
       "      <td>0</td>\n",
       "      <td>0</td>\n",
       "      <td>0</td>\n",
       "      <td>1</td>\n",
       "      <td>0.1</td>\n",
       "      <td>0.200000</td>\n",
       "      <td>NaN</td>\n",
       "    </tr>\n",
       "    <tr>\n",
       "      <th>3</th>\n",
       "      <td>4795.0</td>\n",
       "      <td>3540.0</td>\n",
       "      <td>29.0</td>\n",
       "      <td>0</td>\n",
       "      <td>0</td>\n",
       "      <td>0</td>\n",
       "      <td>1</td>\n",
       "      <td>0.1</td>\n",
       "      <td>0.200000</td>\n",
       "      <td>NaN</td>\n",
       "    </tr>\n",
       "    <tr>\n",
       "      <th>4</th>\n",
       "      <td>4551.0</td>\n",
       "      <td>1656.0</td>\n",
       "      <td>18.0</td>\n",
       "      <td>0</td>\n",
       "      <td>1</td>\n",
       "      <td>0</td>\n",
       "      <td>0</td>\n",
       "      <td>0.0</td>\n",
       "      <td>0.111111</td>\n",
       "      <td>NaN</td>\n",
       "    </tr>\n",
       "  </tbody>\n",
       "</table>\n",
       "</div>"
      ],
      "text/plain": [
       "   cDNA_length  cds_length  exons_nr 5_MAR_presence 3_MAR_presence  \\\n",
       "0       2918.0      1158.0       3.0              0              0   \n",
       "1       4795.0      3540.0      29.0              0              0   \n",
       "2       2918.0      1158.0       3.0              0              0   \n",
       "3       4795.0      3540.0      29.0              0              0   \n",
       "4       4551.0      1656.0      18.0              0              1   \n",
       "\n",
       "  5_polyA_18_presence 5_CCGNN_2_5_presence  perc_go_hk_match  \\\n",
       "0                   0                    1               0.1   \n",
       "1                   0                    1               0.1   \n",
       "2                   0                    1               0.1   \n",
       "3                   0                    1               0.1   \n",
       "4                   0                    0               0.0   \n",
       "\n",
       "   perc_go_ts_match is_hk  \n",
       "0          0.200000   NaN  \n",
       "1          0.200000   NaN  \n",
       "2          0.200000   NaN  \n",
       "3          0.200000   NaN  \n",
       "4          0.111111   NaN  "
      ]
     },
     "execution_count": 14,
     "metadata": {},
     "output_type": "execute_result"
    }
   ],
   "source": [
    "unsup_train_set = train_set[pd.isnull(train_set[\"is_hk\"])]\n",
    "unsup_train_set.head()"
   ]
  },
  {
   "cell_type": "code",
   "execution_count": 15,
   "metadata": {},
   "outputs": [
    {
     "data": {
      "text/html": [
       "<div>\n",
       "<table border=\"1\" class=\"dataframe\">\n",
       "  <thead>\n",
       "    <tr style=\"text-align: right;\">\n",
       "      <th></th>\n",
       "      <th>cDNA_length</th>\n",
       "      <th>cds_length</th>\n",
       "      <th>exons_nr</th>\n",
       "      <th>5_MAR_presence</th>\n",
       "      <th>3_MAR_presence</th>\n",
       "      <th>5_polyA_18_presence</th>\n",
       "      <th>5_CCGNN_2_5_presence</th>\n",
       "      <th>perc_go_hk_match</th>\n",
       "      <th>perc_go_ts_match</th>\n",
       "      <th>is_hk</th>\n",
       "    </tr>\n",
       "  </thead>\n",
       "  <tbody>\n",
       "    <tr>\n",
       "      <th>91</th>\n",
       "      <td>3845.0</td>\n",
       "      <td>786.0</td>\n",
       "      <td>NaN</td>\n",
       "      <td>0</td>\n",
       "      <td>0</td>\n",
       "      <td>0</td>\n",
       "      <td>0</td>\n",
       "      <td>0.333333</td>\n",
       "      <td>0.0</td>\n",
       "      <td>1</td>\n",
       "    </tr>\n",
       "    <tr>\n",
       "      <th>92</th>\n",
       "      <td>960.0</td>\n",
       "      <td>960.0</td>\n",
       "      <td>NaN</td>\n",
       "      <td>0</td>\n",
       "      <td>0</td>\n",
       "      <td>0</td>\n",
       "      <td>0</td>\n",
       "      <td>0.333333</td>\n",
       "      <td>0.0</td>\n",
       "      <td>1</td>\n",
       "    </tr>\n",
       "    <tr>\n",
       "      <th>93</th>\n",
       "      <td>3492.0</td>\n",
       "      <td>786.0</td>\n",
       "      <td>NaN</td>\n",
       "      <td>0</td>\n",
       "      <td>0</td>\n",
       "      <td>0</td>\n",
       "      <td>0</td>\n",
       "      <td>0.333333</td>\n",
       "      <td>0.0</td>\n",
       "      <td>1</td>\n",
       "    </tr>\n",
       "    <tr>\n",
       "      <th>218</th>\n",
       "      <td>4019.0</td>\n",
       "      <td>3861.0</td>\n",
       "      <td>NaN</td>\n",
       "      <td>0</td>\n",
       "      <td>0</td>\n",
       "      <td>0</td>\n",
       "      <td>1</td>\n",
       "      <td>0.000000</td>\n",
       "      <td>0.5</td>\n",
       "      <td>0</td>\n",
       "    </tr>\n",
       "    <tr>\n",
       "      <th>219</th>\n",
       "      <td>3699.0</td>\n",
       "      <td>3699.0</td>\n",
       "      <td>NaN</td>\n",
       "      <td>0</td>\n",
       "      <td>0</td>\n",
       "      <td>0</td>\n",
       "      <td>1</td>\n",
       "      <td>0.000000</td>\n",
       "      <td>0.5</td>\n",
       "      <td>0</td>\n",
       "    </tr>\n",
       "  </tbody>\n",
       "</table>\n",
       "</div>"
      ],
      "text/plain": [
       "     cDNA_length  cds_length  exons_nr 5_MAR_presence 3_MAR_presence  \\\n",
       "91        3845.0       786.0       NaN              0              0   \n",
       "92         960.0       960.0       NaN              0              0   \n",
       "93        3492.0       786.0       NaN              0              0   \n",
       "218       4019.0      3861.0       NaN              0              0   \n",
       "219       3699.0      3699.0       NaN              0              0   \n",
       "\n",
       "    5_polyA_18_presence 5_CCGNN_2_5_presence  perc_go_hk_match  \\\n",
       "91                    0                    0          0.333333   \n",
       "92                    0                    0          0.333333   \n",
       "93                    0                    0          0.333333   \n",
       "218                   0                    1          0.000000   \n",
       "219                   0                    1          0.000000   \n",
       "\n",
       "     perc_go_ts_match is_hk  \n",
       "91                0.0     1  \n",
       "92                0.0     1  \n",
       "93                0.0     1  \n",
       "218               0.5     0  \n",
       "219               0.5     0  "
      ]
     },
     "execution_count": 15,
     "metadata": {},
     "output_type": "execute_result"
    }
   ],
   "source": [
    "sup_train_set = train_set.loc[~train_set.index.isin(unsup_train_set.index)]\n",
    "sup_train_set.head()"
   ]
  },
  {
   "cell_type": "markdown",
   "metadata": {},
   "source": [
    "## Histogram Discretization\n",
    "In class, we learned that in order to create a Bayes Classifier we first need to estimate the posterior or likelihood probability distributions. The simplest way to estimate probability distributions is via histograms. To do histogram estimation, we divide the entire data space into a finite number of bins. Then, we count how many data points are there in each bin and normalize using the total number of data points (so that the probability sums to 1). Since we are grouping a continuous valued feature into a finite number of bins, we can also call this process, discretization."
   ]
  },
  {
   "cell_type": "code",
   "execution_count": 16,
   "metadata": {
    "collapsed": true
   },
   "outputs": [],
   "source": [
    "# remove NaN values\n",
    "train_set_clength = train_set[\"cDNA_length\"]\n",
    "train_set_clength_no_nan = train_set_clength[~pd.isnull(train_set_clength)]\n",
    "train_set_cdslength = train_set[\"cds_length\"]\n",
    "train_set_cdslength_no_nan = train_set_cdslength[~pd.isnull(train_set_cdslength)]\n",
    "train_set_exons_nr = train_set[\"exons_nr\"]\n",
    "train_set_exons_nr_no_nan = train_set_exons_nr[~pd.isnull(train_set_exons_nr)]\n",
    "train_set_perc_go_hk_match = train_set[\"perc_go_hk_match\"]\n",
    "train_set_perc_go_hk_match_no_nan = train_set_perc_go_hk_match[~pd.isnull(train_set_perc_go_hk_match)]\n",
    "train_set_perc_go_ts_match = train_set[\"perc_go_ts_match\"]\n",
    "train_set_perc_go_ts_match_no_nan = train_set_perc_go_ts_match[~pd.isnull(train_set_perc_go_ts_match)]"
   ]
  },
  {
   "cell_type": "code",
   "execution_count": 17,
   "metadata": {},
   "outputs": [
    {
     "data": {
      "image/png": "[encoded data removed]",
      "text/plain": [
       "<matplotlib.figure.Figure at 0x7fb6b5a74198>"
      ]
     },
     "metadata": {},
     "output_type": "display_data"
    },
    {
     "data": {
      "image/png": "[encoded data removed]",
      "text/plain": [
       "<matplotlib.figure.Figure at 0x7fb6b59ea4a8>"
      ]
     },
     "metadata": {},
     "output_type": "display_data"
    },
    {
     "data": {
      "image/png": "[encoded data removed]",
      "text/plain": [
       "<matplotlib.figure.Figure at 0x7fb6b599c470>"
      ]
     },
     "metadata": {},
     "output_type": "display_data"
    }
   ],
   "source": [
    "# bin the data into 1000 equally spaced bins\n",
    "# hist is the count for each bin\n",
    "# bin_edge is the edge values of the bins\n",
    "hist, bin_edge = np.histogram(train_set_clength_no_nan, 1000)\n",
    "# make sure to import matplotlib.pyplot as plt\n",
    "# plot the histogram\n",
    "plt.fill_between(bin_edge.repeat(2)[1:-1], hist.repeat(2), facecolor = 'steelblue')\n",
    "plt.show()\n",
    "# plot the first 100 bins only\n",
    "plt.fill_between(bin_edge.repeat(2)[1:100], hist.repeat(2)[1:100], facecolor = 'steelblue')\n",
    "plt.show()\n",
    "# plot the first 500 bins only\n",
    "plt.fill_between(bin_edge.repeat(2)[1:500], hist.repeat(2)[1:500], facecolor='steelblue')\n",
    "plt.show()"
   ]
  },
  {
   "cell_type": "markdown",
   "metadata": {},
   "source": [
    "### Observe the histograms. Can we use a Gaussian to estimate this histogram? Why? What about a Gaussian Mixture Model (GMM)?\n",
    "No. Gaussian seems unfit to estimate this histogram. But we can use Gaussian Mixture Model (GMM) with an appropriate number of mixture instead, because GMM can actually fit any distribution."
   ]
  },
  {
   "cell_type": "markdown",
   "metadata": {},
   "source": [
    "### How many bins have zero counts? Do you think this is a good discretization? Why?\n",
    "There are 823 bins with zero counts."
   ]
  },
  {
   "cell_type": "code",
   "execution_count": 18,
   "metadata": {},
   "outputs": [
    {
     "data": {
      "text/plain": [
       "823"
      ]
     },
     "execution_count": 18,
     "metadata": {},
     "output_type": "execute_result"
    }
   ],
   "source": [
    "len(np.where(hist == 0)[0])"
   ]
  },
  {
   "cell_type": "markdown",
   "metadata": {},
   "source": [
    "## Segment to the Density of the Data Points.\n",
    "1) Sort the data points into a ranked list, `train_set_clength_no_nan_sorted`. <br>\n",
    "2) Define the bin edge at equally spaced ranks. You can do so by `train_set_clength_no_nan_sorted[0::spacing]`. <br>\n",
    "3) If we do it this way, each values in bin edge is not necessary unique. We can remove duplicate values by `bin_edge = np.unique(bin_edge)` <br>\n",
    "4) We can then bin each values in the training set into bins using the function `np.digitize`, then count the number in each bins using `np.bincount`."
   ]
  },
  {
   "cell_type": "markdown",
   "metadata": {},
   "source": [
    "### cDNA_length"
   ]
  },
  {
   "cell_type": "code",
   "execution_count": 19,
   "metadata": {
    "collapsed": true
   },
   "outputs": [],
   "source": [
    "train_set_clength_no_nan_sorted = train_set_clength_no_nan.sort_values(inplace = False)"
   ]
  },
  {
   "cell_type": "code",
   "execution_count": 20,
   "metadata": {},
   "outputs": [
    {
     "name": "stdout",
     "output_type": "stream",
     "text": [
      "998\n"
     ]
    }
   ],
   "source": [
    "clength_spacing = 35\n",
    "clength_bin_edge = train_set_clength_no_nan_sorted[0::clength_spacing]\n",
    "clength_bin_edge = np.unique(clength_bin_edge)\n",
    "print(len(clength_bin_edge))"
   ]
  },
  {
   "cell_type": "code",
   "execution_count": 21,
   "metadata": {},
   "outputs": [
    {
     "data": {
      "text/plain": [
       "array([  1,   1,   1, ..., 998, 998, 998])"
      ]
     },
     "execution_count": 21,
     "metadata": {},
     "output_type": "execute_result"
    }
   ],
   "source": [
    "clength_digitized = np.digitize(train_set_clength_no_nan_sorted, clength_bin_edge)\n",
    "clength_digitized"
   ]
  },
  {
   "cell_type": "code",
   "execution_count": 22,
   "metadata": {},
   "outputs": [
    {
     "name": "stdout",
     "output_type": "stream",
     "text": [
      "998\n"
     ]
    }
   ],
   "source": [
    "clength_bincount = np.bincount(clength_digitized)\n",
    "clength_bincount = clength_bincount[1:]\n",
    "print(len(clength_bincount))"
   ]
  },
  {
   "cell_type": "code",
   "execution_count": 23,
   "metadata": {
    "collapsed": true
   },
   "outputs": [],
   "source": [
    "clength_bin_edge = np.append(clength_bin_edge, clength_bin_edge[-1])"
   ]
  },
  {
   "cell_type": "markdown",
   "metadata": {},
   "source": [
    "### Plot the histogram according to our new discretization scheme just like the process above (with ∼1000 bins, and show 3 plots). Does it come out like how it should be?"
   ]
  },
  {
   "cell_type": "code",
   "execution_count": 24,
   "metadata": {},
   "outputs": [
    {
     "data": {
      "image/png": "[encoded data removed]",
      "text/plain": [
       "<matplotlib.figure.Figure at 0x7fb6b5843f98>"
      ]
     },
     "metadata": {},
     "output_type": "display_data"
    },
    {
     "data": {
      "image/png": "[encoded data removed]",
      "text/plain": [
       "<matplotlib.figure.Figure at 0x7fb6b599c3c8>"
      ]
     },
     "metadata": {},
     "output_type": "display_data"
    },
    {
     "data": {
      "image/png": "[encoded data removed]",
      "text/plain": [
       "<matplotlib.figure.Figure at 0x7fb6b599c048>"
      ]
     },
     "metadata": {},
     "output_type": "display_data"
    }
   ],
   "source": [
    "# plot the histogram\n",
    "plt.fill_between(clength_bin_edge.repeat(2)[1:-1], clength_bincount.repeat(2), facecolor = 'steelblue')\n",
    "plt.show()\n",
    "# plot the first 100 bins only\n",
    "plt.fill_between(clength_bin_edge.repeat(2)[1:100], clength_bincount.repeat(2)[1:100], facecolor = 'steelblue')\n",
    "plt.show()\n",
    "# plot the first 500 bins only\n",
    "plt.fill_between(clength_bin_edge.repeat(2)[1:500], clength_bincount.repeat(2)[1:500], facecolor='steelblue')\n",
    "plt.show()"
   ]
  },
  {
   "cell_type": "markdown",
   "metadata": {},
   "source": [
    "### cds_length"
   ]
  },
  {
   "cell_type": "code",
   "execution_count": 25,
   "metadata": {
    "collapsed": true
   },
   "outputs": [],
   "source": [
    "train_set_cdslength_no_nan_sorted = train_set_cdslength_no_nan.sort_values(inplace = False)"
   ]
  },
  {
   "cell_type": "code",
   "execution_count": 26,
   "metadata": {},
   "outputs": [
    {
     "name": "stdout",
     "output_type": "stream",
     "text": [
      "998\n"
     ]
    }
   ],
   "source": [
    "cdslength_spacing = 20\n",
    "cdslength_bin_edge = train_set_cdslength_no_nan_sorted[0::cdslength_spacing]\n",
    "cdslength_bin_edge = np.unique(cdslength_bin_edge)\n",
    "print(len(cdslength_bin_edge))"
   ]
  },
  {
   "cell_type": "code",
   "execution_count": 27,
   "metadata": {},
   "outputs": [
    {
     "data": {
      "text/plain": [
       "array([  1,   1,   1, ..., 998, 998, 998])"
      ]
     },
     "execution_count": 27,
     "metadata": {},
     "output_type": "execute_result"
    }
   ],
   "source": [
    "cdslength_digitized = np.digitize(train_set_cdslength_no_nan_sorted, cdslength_bin_edge)\n",
    "cdslength_digitized"
   ]
  },
  {
   "cell_type": "code",
   "execution_count": 28,
   "metadata": {},
   "outputs": [
    {
     "name": "stdout",
     "output_type": "stream",
     "text": [
      "998\n"
     ]
    }
   ],
   "source": [
    "cdslength_bincount = np.bincount(cdslength_digitized)\n",
    "cdslength_bincount = cdslength_bincount[1:]\n",
    "print(len(cdslength_bincount))"
   ]
  },
  {
   "cell_type": "code",
   "execution_count": 29,
   "metadata": {
    "collapsed": true
   },
   "outputs": [],
   "source": [
    "cdslength_bin_edge = np.append(cdslength_bin_edge, cdslength_bin_edge[-1])"
   ]
  },
  {
   "cell_type": "markdown",
   "metadata": {},
   "source": [
    "### Plot the histogram according to our new discretization scheme just like the process above (with ∼1000 bins, and show 3 plots). Does it come out like how it should be?"
   ]
  },
  {
   "cell_type": "code",
   "execution_count": 30,
   "metadata": {
    "scrolled": false
   },
   "outputs": [
    {
     "data": {
      "image/png": "[encoded data removed]",
      "text/plain": [
       "<matplotlib.figure.Figure at 0x7fb6b5442b70>"
      ]
     },
     "metadata": {},
     "output_type": "display_data"
    },
    {
     "data": {
      "image/png": "[encoded data removed]",
      "text/plain": [
       "<matplotlib.figure.Figure at 0x7fb6b57c3ef0>"
      ]
     },
     "metadata": {},
     "output_type": "display_data"
    },
    {
     "data": {
      "image/png": "[encoded data removed]",
      "text/plain": [
       "<matplotlib.figure.Figure at 0x7fb6b56dcb00>"
      ]
     },
     "metadata": {},
     "output_type": "display_data"
    }
   ],
   "source": [
    "# plot the histogram\n",
    "plt.fill_between(cdslength_bin_edge.repeat(2)[1:-1], cdslength_bincount.repeat(2), facecolor = 'steelblue')\n",
    "plt.show()\n",
    "# plot the first 100 bins only\n",
    "plt.fill_between(cdslength_bin_edge.repeat(2)[1:100], cdslength_bincount.repeat(2)[1:100], facecolor = 'steelblue')\n",
    "plt.show()\n",
    "# plot the first 500 bins only\n",
    "plt.fill_between(cdslength_bin_edge.repeat(2)[1:500], cdslength_bincount.repeat(2)[1:500], facecolor='steelblue')\n",
    "plt.show()"
   ]
  },
  {
   "cell_type": "markdown",
   "metadata": {},
   "source": [
    "### exons_nr"
   ]
  },
  {
   "cell_type": "code",
   "execution_count": 31,
   "metadata": {
    "collapsed": true
   },
   "outputs": [],
   "source": [
    "train_set_exons_nr_no_nan_sorted = train_set_exons_nr_no_nan.sort_values(inplace = False)"
   ]
  },
  {
   "cell_type": "code",
   "execution_count": 32,
   "metadata": {},
   "outputs": [
    {
     "name": "stdout",
     "output_type": "stream",
     "text": [
      "84\n"
     ]
    }
   ],
   "source": [
    "exons_nr_spacing = 1\n",
    "exons_nr_bin_edge = train_set_exons_nr_no_nan_sorted[0::exons_nr_spacing]\n",
    "exons_nr_bin_edge = np.unique(exons_nr_bin_edge)\n",
    "print(len(exons_nr_bin_edge))"
   ]
  },
  {
   "cell_type": "code",
   "execution_count": 33,
   "metadata": {},
   "outputs": [
    {
     "data": {
      "text/plain": [
       "array([ 1,  1,  1, ..., 82, 83, 84])"
      ]
     },
     "execution_count": 33,
     "metadata": {},
     "output_type": "execute_result"
    }
   ],
   "source": [
    "exons_nr_digitized = np.digitize(train_set_exons_nr_no_nan_sorted, exons_nr_bin_edge)\n",
    "exons_nr_digitized"
   ]
  },
  {
   "cell_type": "code",
   "execution_count": 34,
   "metadata": {
    "collapsed": true
   },
   "outputs": [],
   "source": [
    "exons_nr_bin_edge = np.append(exons_nr_bin_edge, exons_nr_bin_edge[-1])"
   ]
  },
  {
   "cell_type": "markdown",
   "metadata": {},
   "source": [
    "### perc_go_ts_match"
   ]
  },
  {
   "cell_type": "code",
   "execution_count": 35,
   "metadata": {
    "collapsed": true
   },
   "outputs": [],
   "source": [
    "train_set_perc_go_hk_match_no_nan_sorted = train_set_perc_go_hk_match_no_nan.sort_values(inplace = False)"
   ]
  },
  {
   "cell_type": "code",
   "execution_count": 36,
   "metadata": {},
   "outputs": [
    {
     "name": "stdout",
     "output_type": "stream",
     "text": [
      "59\n"
     ]
    }
   ],
   "source": [
    "perc_go_hk_match_spacing = 1\n",
    "perc_go_hk_match_bin_edge = train_set_perc_go_hk_match_no_nan_sorted[0::perc_go_hk_match_spacing]\n",
    "perc_go_hk_match_bin_edge = np.unique(perc_go_hk_match_bin_edge)\n",
    "print(len(perc_go_hk_match_bin_edge))"
   ]
  },
  {
   "cell_type": "code",
   "execution_count": 37,
   "metadata": {},
   "outputs": [
    {
     "data": {
      "text/plain": [
       "array([ 1,  1,  1, ..., 59, 59, 59])"
      ]
     },
     "execution_count": 37,
     "metadata": {},
     "output_type": "execute_result"
    }
   ],
   "source": [
    "perc_go_hk_match_digitized = np.digitize(train_set_perc_go_hk_match_no_nan_sorted, perc_go_hk_match_bin_edge)\n",
    "perc_go_hk_match_digitized"
   ]
  },
  {
   "cell_type": "code",
   "execution_count": 38,
   "metadata": {
    "collapsed": true
   },
   "outputs": [],
   "source": [
    "perc_go_hk_match_bin_edge = np.append(perc_go_hk_match_bin_edge, perc_go_hk_match_bin_edge[-1])"
   ]
  },
  {
   "cell_type": "markdown",
   "metadata": {},
   "source": [
    "### perc_go_ts_match"
   ]
  },
  {
   "cell_type": "code",
   "execution_count": 39,
   "metadata": {
    "collapsed": true
   },
   "outputs": [],
   "source": [
    "train_set_perc_go_ts_match_no_nan_sorted = train_set_perc_go_ts_match_no_nan.sort_values(inplace = False)"
   ]
  },
  {
   "cell_type": "code",
   "execution_count": 40,
   "metadata": {},
   "outputs": [
    {
     "name": "stdout",
     "output_type": "stream",
     "text": [
      "118\n"
     ]
    }
   ],
   "source": [
    "perc_go_ts_match_spacing = 1\n",
    "perc_go_ts_match_bin_edge = train_set_perc_go_ts_match_no_nan_sorted[0::perc_go_ts_match_spacing]\n",
    "perc_go_ts_match_bin_edge = np.unique(perc_go_ts_match_bin_edge)\n",
    "print(len(perc_go_ts_match_bin_edge))"
   ]
  },
  {
   "cell_type": "code",
   "execution_count": 41,
   "metadata": {},
   "outputs": [
    {
     "data": {
      "text/plain": [
       "array([  1,   1,   1, ..., 118, 118, 118])"
      ]
     },
     "execution_count": 41,
     "metadata": {},
     "output_type": "execute_result"
    }
   ],
   "source": [
    "perc_go_ts_match_digitized = np.digitize(train_set_perc_go_ts_match_no_nan_sorted, perc_go_ts_match_bin_edge)\n",
    "perc_go_ts_match_digitized"
   ]
  },
  {
   "cell_type": "code",
   "execution_count": 42,
   "metadata": {
    "collapsed": true
   },
   "outputs": [],
   "source": [
    "perc_go_ts_match_bin_edge = np.append(perc_go_ts_match_bin_edge, perc_go_ts_match_bin_edge[-1])"
   ]
  },
  {
   "cell_type": "markdown",
   "metadata": {},
   "source": [
    "### Discretize the values of `cDNA_length` and `cds_length` according to the `train set`. In other words, figure out the bin edge for each feature, then use `digitize()` to convert the features to discrete values."
   ]
  },
  {
   "cell_type": "code",
   "execution_count": 43,
   "metadata": {
    "collapsed": true
   },
   "outputs": [],
   "source": [
    "clength_digitized_df = pd.DataFrame(clength_digitized, index = train_set_clength_no_nan_sorted.index, columns = [\"clength_digitized\"])\n",
    "cdslength_digitized_df = pd.DataFrame(cdslength_digitized, index = train_set_cdslength_no_nan_sorted.index, columns = [\"cdslength_digitized\"])\n",
    "exons_nr_digitized_df = pd.DataFrame(exons_nr_digitized, index = train_set_exons_nr_no_nan_sorted.index, columns = [\"exons_nr_digitized\"])\n",
    "perc_go_hk_match_digitized_df = pd.DataFrame(perc_go_hk_match_digitized, index = train_set_perc_go_hk_match_no_nan_sorted.index, columns = [\"perc_go_hk_match_digitized\"])\n",
    "perc_go_ts_match_digitized_df = pd.DataFrame(perc_go_ts_match_digitized, index = train_set_perc_go_ts_match_no_nan_sorted.index, columns = [\"perc_go_ts_match_digitized\"])"
   ]
  },
  {
   "cell_type": "code",
   "execution_count": 44,
   "metadata": {
    "collapsed": true
   },
   "outputs": [],
   "source": [
    "train_set_digitized = train_set.join(clength_digitized_df).join(cdslength_digitized_df).join(exons_nr_digitized_df).join(perc_go_hk_match_digitized_df).join(perc_go_ts_match_digitized_df)\n",
    "sup_train_set_digitized = sup_train_set.join(clength_digitized_df).join(cdslength_digitized_df).join(exons_nr_digitized_df).join(perc_go_hk_match_digitized_df).join(perc_go_ts_match_digitized_df)\n",
    "unsup_train_set_digitize = unsup_train_set.join(clength_digitized_df).join(cdslength_digitized_df).join(exons_nr_digitized_df).join(perc_go_hk_match_digitized_df).join(perc_go_ts_match_digitized_df)"
   ]
  },
  {
   "cell_type": "markdown",
   "metadata": {},
   "source": [
    "## The MLE for the likelihood distribution of discretized histograms\n",
    "We would like to build a Naive Bayes classifier which compares the posterior $p(housekeeping | x_{i})$ against $p(nothousekeeping | x_{i})$. However, figuring out p(class|xi) is often hard (not true for this case). Thus, we turn to the likelihood $p(x_{i} | class)$, which can be derived from the discretized histograms.\n",
    "\n",
    "### What is the MLE for the likelihood distributions of each of the 9 features? Plot the likelihood distributions. You should learn the discretization using `train_set`, but estimate the MLE using the `sup_train_set`."
   ]
  },
  {
   "cell_type": "code",
   "execution_count": 45,
   "metadata": {},
   "outputs": [
    {
     "name": "stdout",
     "output_type": "stream",
     "text": [
      "93\n",
      "600\n"
     ]
    }
   ],
   "source": [
    "n_is_hk_yes_in_sup_train_set = len(sup_train_set_digitized[sup_train_set_digitized[\"is_hk\"] == 1.0])\n",
    "print(n_is_hk_yes_in_sup_train_set)\n",
    "n_is_hk_no_in_sup_train_set = len(sup_train_set_digitized[sup_train_set_digitized[\"is_hk\"] == 0.0])\n",
    "print(n_is_hk_no_in_sup_train_set)"
   ]
  },
  {
   "cell_type": "code",
   "execution_count": 46,
   "metadata": {},
   "outputs": [
    {
     "data": {
      "text/html": [
       "<div>\n",
       "<table border=\"1\" class=\"dataframe\">\n",
       "  <thead>\n",
       "    <tr style=\"text-align: right;\">\n",
       "      <th></th>\n",
       "      <th>cDNA_length</th>\n",
       "      <th>cds_length</th>\n",
       "      <th>exons_nr</th>\n",
       "      <th>perc_go_hk_match</th>\n",
       "      <th>perc_go_ts_match</th>\n",
       "      <th>clength_digitized</th>\n",
       "      <th>cdslength_digitized</th>\n",
       "      <th>exons_nr_digitized</th>\n",
       "      <th>perc_go_hk_match_digitized</th>\n",
       "      <th>perc_go_ts_match_digitized</th>\n",
       "    </tr>\n",
       "  </thead>\n",
       "  <tbody>\n",
       "    <tr>\n",
       "      <th>count</th>\n",
       "      <td>693.000000</td>\n",
       "      <td>693.000000</td>\n",
       "      <td>192.000000</td>\n",
       "      <td>683.000000</td>\n",
       "      <td>683.000000</td>\n",
       "      <td>693.000000</td>\n",
       "      <td>693.000000</td>\n",
       "      <td>192.000000</td>\n",
       "      <td>683.000000</td>\n",
       "      <td>683.000000</td>\n",
       "    </tr>\n",
       "    <tr>\n",
       "      <th>mean</th>\n",
       "      <td>2394.000000</td>\n",
       "      <td>1519.298701</td>\n",
       "      <td>10.286458</td>\n",
       "      <td>0.053902</td>\n",
       "      <td>0.492292</td>\n",
       "      <td>502.311688</td>\n",
       "      <td>409.274170</td>\n",
       "      <td>10.286458</td>\n",
       "      <td>5.868228</td>\n",
       "      <td>70.688141</td>\n",
       "    </tr>\n",
       "    <tr>\n",
       "      <th>std</th>\n",
       "      <td>1684.714036</td>\n",
       "      <td>1371.420124</td>\n",
       "      <td>6.781266</td>\n",
       "      <td>0.175440</td>\n",
       "      <td>0.277818</td>\n",
       "      <td>255.798706</td>\n",
       "      <td>242.805388</td>\n",
       "      <td>6.781266</td>\n",
       "      <td>14.181797</td>\n",
       "      <td>37.368118</td>\n",
       "    </tr>\n",
       "    <tr>\n",
       "      <th>min</th>\n",
       "      <td>276.000000</td>\n",
       "      <td>135.000000</td>\n",
       "      <td>1.000000</td>\n",
       "      <td>0.000000</td>\n",
       "      <td>0.000000</td>\n",
       "      <td>23.000000</td>\n",
       "      <td>12.000000</td>\n",
       "      <td>1.000000</td>\n",
       "      <td>1.000000</td>\n",
       "      <td>1.000000</td>\n",
       "    </tr>\n",
       "    <tr>\n",
       "      <th>25%</th>\n",
       "      <td>1396.000000</td>\n",
       "      <td>747.000000</td>\n",
       "      <td>6.000000</td>\n",
       "      <td>0.000000</td>\n",
       "      <td>0.333333</td>\n",
       "      <td>306.000000</td>\n",
       "      <td>214.000000</td>\n",
       "      <td>6.000000</td>\n",
       "      <td>1.000000</td>\n",
       "      <td>53.000000</td>\n",
       "    </tr>\n",
       "    <tr>\n",
       "      <th>50%</th>\n",
       "      <td>2080.000000</td>\n",
       "      <td>1245.000000</td>\n",
       "      <td>9.000000</td>\n",
       "      <td>0.000000</td>\n",
       "      <td>0.600000</td>\n",
       "      <td>507.000000</td>\n",
       "      <td>380.000000</td>\n",
       "      <td>9.000000</td>\n",
       "      <td>1.000000</td>\n",
       "      <td>88.000000</td>\n",
       "    </tr>\n",
       "    <tr>\n",
       "      <th>75%</th>\n",
       "      <td>2907.000000</td>\n",
       "      <td>1683.000000</td>\n",
       "      <td>13.250000</td>\n",
       "      <td>0.000000</td>\n",
       "      <td>0.666667</td>\n",
       "      <td>701.000000</td>\n",
       "      <td>526.000000</td>\n",
       "      <td>13.250000</td>\n",
       "      <td>1.000000</td>\n",
       "      <td>95.000000</td>\n",
       "    </tr>\n",
       "    <tr>\n",
       "      <th>max</th>\n",
       "      <td>15365.000000</td>\n",
       "      <td>15123.000000</td>\n",
       "      <td>38.000000</td>\n",
       "      <td>1.000000</td>\n",
       "      <td>1.000000</td>\n",
       "      <td>997.000000</td>\n",
       "      <td>997.000000</td>\n",
       "      <td>38.000000</td>\n",
       "      <td>59.000000</td>\n",
       "      <td>118.000000</td>\n",
       "    </tr>\n",
       "  </tbody>\n",
       "</table>\n",
       "</div>"
      ],
      "text/plain": [
       "        cDNA_length    cds_length    exons_nr  perc_go_hk_match  \\\n",
       "count    693.000000    693.000000  192.000000        683.000000   \n",
       "mean    2394.000000   1519.298701   10.286458          0.053902   \n",
       "std     1684.714036   1371.420124    6.781266          0.175440   \n",
       "min      276.000000    135.000000    1.000000          0.000000   \n",
       "25%     1396.000000    747.000000    6.000000          0.000000   \n",
       "50%     2080.000000   1245.000000    9.000000          0.000000   \n",
       "75%     2907.000000   1683.000000   13.250000          0.000000   \n",
       "max    15365.000000  15123.000000   38.000000          1.000000   \n",
       "\n",
       "       perc_go_ts_match  clength_digitized  cdslength_digitized  \\\n",
       "count        683.000000         693.000000           693.000000   \n",
       "mean           0.492292         502.311688           409.274170   \n",
       "std            0.277818         255.798706           242.805388   \n",
       "min            0.000000          23.000000            12.000000   \n",
       "25%            0.333333         306.000000           214.000000   \n",
       "50%            0.600000         507.000000           380.000000   \n",
       "75%            0.666667         701.000000           526.000000   \n",
       "max            1.000000         997.000000           997.000000   \n",
       "\n",
       "       exons_nr_digitized  perc_go_hk_match_digitized  \\\n",
       "count          192.000000                  683.000000   \n",
       "mean            10.286458                    5.868228   \n",
       "std              6.781266                   14.181797   \n",
       "min              1.000000                    1.000000   \n",
       "25%              6.000000                    1.000000   \n",
       "50%              9.000000                    1.000000   \n",
       "75%             13.250000                    1.000000   \n",
       "max             38.000000                   59.000000   \n",
       "\n",
       "       perc_go_ts_match_digitized  \n",
       "count                  683.000000  \n",
       "mean                    70.688141  \n",
       "std                     37.368118  \n",
       "min                      1.000000  \n",
       "25%                     53.000000  \n",
       "50%                     88.000000  \n",
       "75%                     95.000000  \n",
       "max                    118.000000  "
      ]
     },
     "execution_count": 46,
     "metadata": {},
     "output_type": "execute_result"
    }
   ],
   "source": [
    "sup_train_set_digitized.describe()"
   ]
  },
  {
   "cell_type": "code",
   "execution_count": 47,
   "metadata": {
    "collapsed": true
   },
   "outputs": [],
   "source": [
    "def mle_multinomial(df, col_name, label_name, n_label_yes, n_label_no, unsup_df, minl):\n",
    "    col = df[[col_name, label_name]]\n",
    "    col_no_nan = col[~pd.isnull(col[col_name])]\n",
    "    col_is_hk_yes = col_no_nan[col_no_nan[label_name] == 1.0][col_name].astype(int)\n",
    "    col_is_hk_no = col_no_nan[col_no_nan[label_name] == 0.0][col_name].astype(int)\n",
    "    \n",
    "    col_unsup_no_nan = unsup_df[~pd.isnull(unsup_df[col_name])][col_name].astype(int)\n",
    "    alpha_and_beta = np.bincount(col_unsup_no_nan, minlength = minl)\n",
    "    alpha = 0.005 * alpha_and_beta\n",
    "\n",
    "    col_no_nan_likelihood_yes = (np.bincount(col_is_hk_yes, minlength = minl) + alpha) / (n_label_yes + alpha_and_beta)\n",
    "    col_no_nan_likelihood_no = (np.bincount(col_is_hk_no, minlength = minl) + alpha) / (n_label_no + alpha_and_beta)\n",
    "\n",
    "    col_no_nan_likelihood_yes[col_no_nan_likelihood_yes <= 0] = 0.000000001\n",
    "    col_no_nan_likelihood_no[col_no_nan_likelihood_no <= 0] = 0.000000001\n",
    "    \n",
    "    print(\"Likelihood Distribution p({0:s} | {1:s})\".format(col_name, label_name))\n",
    "    print(\"Red: {0:s} = no, Green: {0:s} = yes\".format(label_name))\n",
    "    plt.bar(range(len(col_no_nan_likelihood_yes)), col_no_nan_likelihood_yes, 4, color = \"green\", alpha = 0.35)\n",
    "    plt.bar(range(len(col_no_nan_likelihood_no)), col_no_nan_likelihood_no, 4, color = \"red\", alpha = 0.35)\n",
    "    plt.show()\n",
    "    return (lambda p: col_no_nan_likelihood_yes[p]), (lambda p: col_no_nan_likelihood_no[p])"
   ]
  },
  {
   "cell_type": "markdown",
   "metadata": {},
   "source": [
    "### `cDNA_length` MLE"
   ]
  },
  {
   "cell_type": "code",
   "execution_count": 48,
   "metadata": {},
   "outputs": [
    {
     "name": "stdout",
     "output_type": "stream",
     "text": [
      "Likelihood Distribution p(clength_digitized | is_hk)\n",
      "Red: is_hk = no, Green: is_hk = yes\n"
     ]
    },
    {
     "data": {
      "image/png": "[encoded data removed]",
      "text/plain": [
       "<matplotlib.figure.Figure at 0x7fb6b58a8550>"
      ]
     },
     "metadata": {},
     "output_type": "display_data"
    }
   ],
   "source": [
    "p_cDNA_length_given_hk, p_cDNA_length_given_not_hk = mle_multinomial(sup_train_set_digitized, \"clength_digitized\", \"is_hk\", n_is_hk_yes_in_sup_train_set, n_is_hk_no_in_sup_train_set, unsup_train_set_digitize, len(clength_bin_edge) + 1)"
   ]
  },
  {
   "cell_type": "markdown",
   "metadata": {},
   "source": [
    "### `cds_length` MLE"
   ]
  },
  {
   "cell_type": "code",
   "execution_count": 49,
   "metadata": {},
   "outputs": [
    {
     "name": "stdout",
     "output_type": "stream",
     "text": [
      "Likelihood Distribution p(cdslength_digitized | is_hk)\n",
      "Red: is_hk = no, Green: is_hk = yes\n"
     ]
    },
    {
     "data": {
      "image/png": "[encoded data removed]",
      "text/plain": [
       "<matplotlib.figure.Figure at 0x7fb6b51dba90>"
      ]
     },
     "metadata": {},
     "output_type": "display_data"
    }
   ],
   "source": [
    "p_cds_length_given_hk, p_cds_length_given_not_hk = mle_multinomial(sup_train_set_digitized, \"cdslength_digitized\", \"is_hk\", n_is_hk_yes_in_sup_train_set, n_is_hk_no_in_sup_train_set, unsup_train_set_digitize, len(cdslength_bin_edge) + 1)"
   ]
  },
  {
   "cell_type": "markdown",
   "metadata": {},
   "source": [
    "### `exons_nr` MLE"
   ]
  },
  {
   "cell_type": "code",
   "execution_count": 50,
   "metadata": {},
   "outputs": [
    {
     "name": "stdout",
     "output_type": "stream",
     "text": [
      "Likelihood Distribution p(exons_nr_digitized | is_hk)\n",
      "Red: is_hk = no, Green: is_hk = yes\n"
     ]
    },
    {
     "data": {
      "image/png": "[encoded data removed]",
      "text/plain": [
       "<matplotlib.figure.Figure at 0x7fb6b0d18898>"
      ]
     },
     "metadata": {},
     "output_type": "display_data"
    }
   ],
   "source": [
    "p_exons_nr_given_hk, p_exons_nr_given_not_hk = mle_multinomial(sup_train_set_digitized, \"exons_nr_digitized\", \"is_hk\", n_is_hk_yes_in_sup_train_set, n_is_hk_no_in_sup_train_set, unsup_train_set_digitize, len(exons_nr_bin_edge) + 1)"
   ]
  },
  {
   "cell_type": "markdown",
   "metadata": {},
   "source": [
    "### `5_MAR_presence` MLE"
   ]
  },
  {
   "cell_type": "code",
   "execution_count": 51,
   "metadata": {},
   "outputs": [
    {
     "name": "stdout",
     "output_type": "stream",
     "text": [
      "Likelihood Distribution p(5_MAR_presence | is_hk)\n",
      "Red: is_hk = no, Green: is_hk = yes\n"
     ]
    },
    {
     "data": {
      "image/png": "[encoded data removed]",
      "text/plain": [
       "<matplotlib.figure.Figure at 0x7fb6b0d10c50>"
      ]
     },
     "metadata": {},
     "output_type": "display_data"
    }
   ],
   "source": [
    "p_5_MAR_presence_given_hk, p_5_MAR_presence_given_not_hk = mle_multinomial(sup_train_set_digitized, \"5_MAR_presence\", \"is_hk\", n_is_hk_yes_in_sup_train_set, n_is_hk_no_in_sup_train_set, unsup_train_set_digitize, 2)"
   ]
  },
  {
   "cell_type": "markdown",
   "metadata": {},
   "source": [
    "### `3_MAR_presence` MLE"
   ]
  },
  {
   "cell_type": "code",
   "execution_count": 52,
   "metadata": {},
   "outputs": [
    {
     "name": "stdout",
     "output_type": "stream",
     "text": [
      "Likelihood Distribution p(3_MAR_presence | is_hk)\n",
      "Red: is_hk = no, Green: is_hk = yes\n"
     ]
    },
    {
     "data": {
      "image/png": "[encoded data removed]",
      "text/plain": [
       "<matplotlib.figure.Figure at 0x7fb6b5236240>"
      ]
     },
     "metadata": {},
     "output_type": "display_data"
    }
   ],
   "source": [
    "p_3_MAR_presence_given_hk, p_3_MAR_presence_given_not_hk = mle_multinomial(sup_train_set_digitized, \"3_MAR_presence\", \"is_hk\", n_is_hk_yes_in_sup_train_set, n_is_hk_no_in_sup_train_set, unsup_train_set_digitize, 2)"
   ]
  },
  {
   "cell_type": "markdown",
   "metadata": {},
   "source": [
    "### `5_polyA_18_presence` MLE"
   ]
  },
  {
   "cell_type": "code",
   "execution_count": 53,
   "metadata": {},
   "outputs": [
    {
     "name": "stdout",
     "output_type": "stream",
     "text": [
      "Likelihood Distribution p(5_polyA_18_presence | is_hk)\n",
      "Red: is_hk = no, Green: is_hk = yes\n"
     ]
    },
    {
     "data": {
      "image/png": "[encoded data removed]",
      "text/plain": [
       "<matplotlib.figure.Figure at 0x7fb6b07c2588>"
      ]
     },
     "metadata": {},
     "output_type": "display_data"
    }
   ],
   "source": [
    "p_5_polyA_18_presence_given_hk, p_5_polyA_18_presence_given_not_hk = mle_multinomial(sup_train_set_digitized, \"5_polyA_18_presence\", \"is_hk\", n_is_hk_yes_in_sup_train_set, n_is_hk_no_in_sup_train_set, unsup_train_set_digitize, 2)"
   ]
  },
  {
   "cell_type": "markdown",
   "metadata": {},
   "source": [
    "### `5_CCGNN_2_5_presence` MLE"
   ]
  },
  {
   "cell_type": "code",
   "execution_count": 54,
   "metadata": {},
   "outputs": [
    {
     "name": "stdout",
     "output_type": "stream",
     "text": [
      "Likelihood Distribution p(5_CCGNN_2_5_presence | is_hk)\n",
      "Red: is_hk = no, Green: is_hk = yes\n"
     ]
    },
    {
     "data": {
      "image/png": "[encoded data removed]",
      "text/plain": [
       "<matplotlib.figure.Figure at 0x7fb6b06c7278>"
      ]
     },
     "metadata": {},
     "output_type": "display_data"
    }
   ],
   "source": [
    "p_5_CCGNN_2_5_presence_given_hk, p_5_CCGNN_2_5_presence_given_not_hk = mle_multinomial(sup_train_set_digitized, \"5_CCGNN_2_5_presence\", \"is_hk\", n_is_hk_yes_in_sup_train_set, n_is_hk_no_in_sup_train_set, unsup_train_set_digitize, 2)"
   ]
  },
  {
   "cell_type": "markdown",
   "metadata": {},
   "source": [
    "### `perc_go_hk_match` MLE"
   ]
  },
  {
   "cell_type": "code",
   "execution_count": 55,
   "metadata": {},
   "outputs": [
    {
     "name": "stdout",
     "output_type": "stream",
     "text": [
      "Likelihood Distribution p(perc_go_hk_match_digitized | is_hk)\n",
      "Red: is_hk = no, Green: is_hk = yes\n"
     ]
    },
    {
     "data": {
      "image/png": "[encoded data removed]",
      "text/plain": [
       "<matplotlib.figure.Figure at 0x7fb6b0ce5940>"
      ]
     },
     "metadata": {},
     "output_type": "display_data"
    }
   ],
   "source": [
    "p_perc_go_hk_match_given_hk, p_perc_go_hk_match_given_not_hk = mle_multinomial(sup_train_set_digitized, \"perc_go_hk_match_digitized\", \"is_hk\", n_is_hk_yes_in_sup_train_set, n_is_hk_no_in_sup_train_set, unsup_train_set_digitize, len(perc_go_hk_match_bin_edge) + 1)"
   ]
  },
  {
   "cell_type": "markdown",
   "metadata": {},
   "source": [
    "### `perc_go_ts_match` MLE"
   ]
  },
  {
   "cell_type": "code",
   "execution_count": 56,
   "metadata": {},
   "outputs": [
    {
     "name": "stdout",
     "output_type": "stream",
     "text": [
      "Likelihood Distribution p(perc_go_ts_match_digitized | is_hk)\n",
      "Red: is_hk = no, Green: is_hk = yes\n"
     ]
    },
    {
     "data": {
      "image/png": "[encoded data removed]",
      "text/plain": [
       "<matplotlib.figure.Figure at 0x7fb6b5276a90>"
      ]
     },
     "metadata": {},
     "output_type": "display_data"
    }
   ],
   "source": [
    "p_perc_go_ts_match_given_hk, p_perc_go_ts_match_given_not_hk = mle_multinomial(sup_train_set_digitized, \"perc_go_ts_match_digitized\", \"is_hk\", n_is_hk_yes_in_sup_train_set, n_is_hk_no_in_sup_train_set, unsup_train_set_digitize, len(perc_go_ts_match_bin_edge) + 1)"
   ]
  },
  {
   "cell_type": "markdown",
   "metadata": {},
   "source": [
    "### What is the prior distribution of the two classes?\n",
    "Bernoulli distribution."
   ]
  },
  {
   "cell_type": "code",
   "execution_count": 57,
   "metadata": {},
   "outputs": [
    {
     "name": "stdout",
     "output_type": "stream",
     "text": [
      "p(is_hk = yes): 0.134199\n",
      "p(is_hk = no): 0.865801\n"
     ]
    }
   ],
   "source": [
    "p_hk = n_is_hk_yes_in_sup_train_set / len(sup_train_set_digitized)\n",
    "print(\"p(is_hk = yes): {0:f}\".format(p_hk))\n",
    "p_not_hk = n_is_hk_no_in_sup_train_set / len(sup_train_set_digitized)\n",
    "print(\"p(is_hk = no): {0:f}\".format(p_not_hk))"
   ]
  },
  {
   "cell_type": "markdown",
   "metadata": {},
   "source": [
    "## Naive Bayes classification\n",
    "We are now ready to build our Naive Bayes classifier. Which makes a decision according to\n",
    "\n",
    "$$H(x) = \\frac{p(housekeeping)}{p(nothousekeeping)}\\prod_{i=1}\\frac{p(x_{i}|housekeeping)}{p(x_{i}|nothousekeeping)}$$\n",
    "\n",
    "If $H(x)$ is larger than 1, then classify it as housekeeping. If $H(x)$ is smaller than 1, then classify it as not housekeeping.<br>\n",
    "Note we often work in the log scale to prevent floating point underflow. In other words,\n",
    "\n",
    "$$lH(x) = logp(housekeeping)−logp(nothousekeeping)+ \\sum_{i=1}[logp(x_{i}|housekeeping)−logp(x_{i}|nothousekeeping)]$$\n",
    "\n",
    "If $lH(x)$ is larger than 0, then classify it as housekeeping. If $lH(x)$ is smaller than 0, then classify it as not housekeeping.\n",
    "\n",
    "Use the learned distributions to classify the test set. Don’t forget to allow your classifier to handle missing values in the test set. Report the overall Accuracy. Then, report the Precision, Recall, and F score for detecting housekeeping gene. See Lecture 1 for the definitions of each metric."
   ]
  },
  {
   "cell_type": "code",
   "execution_count": 122,
   "metadata": {
    "collapsed": true
   },
   "outputs": [],
   "source": [
    "def naive_bayes_classifier(row, y_score = False, threshold = 0):\n",
    "    features_likelihood = np.array([0] * 9)\n",
    "    if(~pd.isnull(row[\"cDNA_length\"])):\n",
    "        x = np.digitize([row[\"cDNA_length\"]], clength_bin_edge)[0]\n",
    "        features_likelihood[0] = math.log(p_cDNA_length_given_hk(x)) - math.log(p_cDNA_length_given_not_hk(x))\n",
    "    if(~pd.isnull(row[\"cds_length\"])):\n",
    "        x = np.digitize([row[\"cds_length\"]], cdslength_bin_edge)[0]\n",
    "        features_likelihood[1] = math.log(p_cds_length_given_hk(x)) - math.log(p_cds_length_given_not_hk(x))\n",
    "    if(~pd.isnull(row[\"exons_nr\"])):\n",
    "        x = np.digitize([row[\"exons_nr\"]], exons_nr_bin_edge)[0]\n",
    "        features_likelihood[2] = math.log(p_exons_nr_given_hk(x)) - math.log(p_exons_nr_given_not_hk(x))\n",
    "    if(~pd.isnull(row[\"5_MAR_presence\"])):\n",
    "        x = int(row[\"5_MAR_presence\"])\n",
    "        features_likelihood[3] = math.log(p_5_MAR_presence_given_hk(x)) - math.log(p_5_MAR_presence_given_not_hk(x))\n",
    "    if(~pd.isnull(row[\"3_MAR_presence\"])):\n",
    "        x =  int(row[\"3_MAR_presence\"])\n",
    "        features_likelihood[4] = math.log(p_3_MAR_presence_given_hk(x)) - math.log(p_3_MAR_presence_given_not_hk(x))\n",
    "    if(~pd.isnull(row[\"5_polyA_18_presence\"])):\n",
    "        x =  int(row[\"5_polyA_18_presence\"])\n",
    "        features_likelihood[5] = math.log(p_5_polyA_18_presence_given_hk(x)) - math.log(p_5_polyA_18_presence_given_not_hk(x))\n",
    "    if(~pd.isnull(row[\"5_CCGNN_2_5_presence\"])):\n",
    "        x =  int(row[\"5_CCGNN_2_5_presence\"])\n",
    "        features_likelihood[6] = math.log(p_5_CCGNN_2_5_presence_given_hk(x)) - math.log(p_5_CCGNN_2_5_presence_given_not_hk(x))\n",
    "    if(~pd.isnull(row[\"perc_go_hk_match\"])):\n",
    "        x = np.digitize([row[\"perc_go_hk_match\"]], perc_go_hk_match_bin_edge)[0]\n",
    "        features_likelihood[7] = math.log(p_perc_go_hk_match_given_hk(x)) - math.log(p_perc_go_hk_match_given_not_hk(x))\n",
    "    if(~pd.isnull(row[\"perc_go_ts_match\"])):\n",
    "        x = np.digitize([row[\"perc_go_ts_match\"]], perc_go_ts_match_bin_edge)[0]\n",
    "        features_likelihood[8] = math.log(p_perc_go_ts_match_given_hk(x)) - math.log(p_perc_go_ts_match_given_not_hk(x))\n",
    "    l_hx = math.log(p_hk) - math.log(p_not_hk)\n",
    "    for i in range(9):\n",
    "        l_hx += features_likelihood[i]\n",
    "    if(y_score): \n",
    "        return l_hx\n",
    "    return 1 if l_hx > threshold else 0"
   ]
  },
  {
   "cell_type": "code",
   "execution_count": 60,
   "metadata": {
    "collapsed": true
   },
   "outputs": [],
   "source": [
    "def evaluate(y_true, y_pred):\n",
    "    acc = accuracy_score(y_true, y_pred, normalize = True)\n",
    "    precision = precision_score(y_true, y_pred)\n",
    "    recall = recall_score(y_true, y_pred)\n",
    "    f1 = f1_score(y_true, y_pred)\n",
    "    return acc, precision, recall, f1"
   ]
  },
  {
   "cell_type": "code",
   "execution_count": 123,
   "metadata": {
    "collapsed": true
   },
   "outputs": [],
   "source": [
    "result = test_set.apply(lambda row: naive_bayes_classifier(row), axis = 1)"
   ]
  },
  {
   "cell_type": "code",
   "execution_count": 124,
   "metadata": {},
   "outputs": [
    {
     "name": "stdout",
     "output_type": "stream",
     "text": [
      "Accuracy: 0.974026\n",
      "Precision: 1.000000\n",
      "Recall: 0.800000\n",
      "F1: 0.888889\n"
     ]
    }
   ],
   "source": [
    "result.acc, result.precision, result.recall, result.f1 = evaluate(test_set[\"is_hk\"].values.astype(int), result.values.astype(int))\n",
    "print(\"Accuracy: {0:f}\\nPrecision: {1:f}\\nRecall: {2:f}\\nF1: {3:f}\".format(result.acc, result.precision, result.recall, result.f1))"
   ]
  },
  {
   "cell_type": "markdown",
   "metadata": {},
   "source": [
    "## Baseline comparison\n",
    "In machine learning, we need to be able to evaluate how good our model is. We usually compare our model with a different model and show that our model is better. Sometimes we do not have a candidate model to evaluate our method against. In this homework, we will look at two simple baselines, the random choice, and the majority rule.\n",
    "\n",
    "The random choice baseline is the accuracy if you make a random guess for each test sample. Give random guess (50% being housekeeping, and 50% being not housekeeping) to the test samples. Report the overall Accuracy. Then, report the Precision, Recall, and F score for detecting housekeeping gene using the random choice baseline.\n",
    "\n",
    "The majority rule is the accuracy if you use the most frequent class from the training set as the classification decision. Report the overall Accuracy. Then, report the Precision, Recall, and F score for detecting housekeeping gene using the majority rule baseline."
   ]
  },
  {
   "cell_type": "markdown",
   "metadata": {},
   "source": [
    "### Random Choice Baseline"
   ]
  },
  {
   "cell_type": "code",
   "execution_count": 68,
   "metadata": {
    "collapsed": true
   },
   "outputs": [],
   "source": [
    "def random_choice_baseline_classifier(row):\n",
    "    return random.randint(0, 1)"
   ]
  },
  {
   "cell_type": "code",
   "execution_count": 69,
   "metadata": {
    "collapsed": true
   },
   "outputs": [],
   "source": [
    "result_random_choice_baseline = test_set.apply(lambda row: random_choice_baseline_classifier(row), axis = 1)"
   ]
  },
  {
   "cell_type": "code",
   "execution_count": 71,
   "metadata": {},
   "outputs": [
    {
     "name": "stdout",
     "output_type": "stream",
     "text": [
      "Accuracy: 0.584416\n",
      "Precision: 0.176471\n",
      "Recall: 0.600000\n",
      "F1: 0.272727\n"
     ]
    }
   ],
   "source": [
    "result_random_choice_baseline.acc, result_random_choice_baseline.precision, result_random_choice_baseline.recall, result_random_choice_baseline.f1 = evaluate(test_set[\"is_hk\"].values.astype(int), result_random_choice_baseline.values.astype(int))\n",
    "print(\"Accuracy: {0:f}\\nPrecision: {1:f}\\nRecall: {2:f}\\nF1: {3:f}\".format(result_random_choice_baseline.acc, result_random_choice_baseline.precision, result_random_choice_baseline.recall, result_random_choice_baseline.f1))"
   ]
  },
  {
   "cell_type": "markdown",
   "metadata": {},
   "source": [
    "### Majority Rule Baseline"
   ]
  },
  {
   "cell_type": "code",
   "execution_count": 86,
   "metadata": {
    "collapsed": true
   },
   "outputs": [],
   "source": [
    "u, indices = np.unique(sup_train_set[\"is_hk\"].values.astype(int), return_inverse = True)\n",
    "majority = int(u[np.argmax(np.bincount(indices))])\n",
    "def majority_rule_baseline_classifier(row):\n",
    "    return majority"
   ]
  },
  {
   "cell_type": "code",
   "execution_count": 87,
   "metadata": {
    "collapsed": true
   },
   "outputs": [],
   "source": [
    "result_majority_rule_baseline = test_set.apply(lambda row: majority_rule_baseline_classifier(row), axis = 1)"
   ]
  },
  {
   "cell_type": "code",
   "execution_count": 88,
   "metadata": {},
   "outputs": [
    {
     "data": {
      "text/plain": [
       "array([0, 0, 0, 0, 0, 0, 0, 0, 0, 0, 0, 0, 0, 0, 0, 0, 0, 0, 0, 0, 0, 0, 0,\n",
       "       0, 0, 0, 0, 0, 0, 0, 0, 0, 0, 0, 0, 0, 0, 0, 0, 0, 0, 0, 0, 0, 0, 0,\n",
       "       0, 0, 0, 0, 0, 0, 0, 0, 0, 0, 0, 0, 0, 0, 0, 0, 0, 0, 0, 0, 0, 0, 0,\n",
       "       0, 0, 0, 0, 0, 0, 0, 0])"
      ]
     },
     "execution_count": 88,
     "metadata": {},
     "output_type": "execute_result"
    }
   ],
   "source": [
    "result_majority_rule_baseline.values.astype(int)"
   ]
  },
  {
   "cell_type": "code",
   "execution_count": 89,
   "metadata": {},
   "outputs": [
    {
     "name": "stdout",
     "output_type": "stream",
     "text": [
      "Accuracy: 0.870130\n",
      "Precision: 0.000000\n",
      "Recall: 0.000000\n",
      "F1: 0.000000\n"
     ]
    },
    {
     "name": "stderr",
     "output_type": "stream",
     "text": [
      "/opt/conda/lib/python3.6/site-packages/sklearn/metrics/classification.py:1113: UndefinedMetricWarning: Precision is ill-defined and being set to 0.0 due to no predicted samples.\n",
      "  'precision', 'predicted', average, warn_for)\n",
      "/opt/conda/lib/python3.6/site-packages/sklearn/metrics/classification.py:1113: UndefinedMetricWarning: F-score is ill-defined and being set to 0.0 due to no predicted samples.\n",
      "  'precision', 'predicted', average, warn_for)\n"
     ]
    }
   ],
   "source": [
    "result_majority_rule_baseline.acc, result_majority_rule_baseline.precision, result_majority_rule_baseline.recall, result_majority_rule_baseline.f1 = evaluate(test_set[\"is_hk\"].values.astype(int), result_majority_rule_baseline.values.astype(int))\n",
    "print(\"Accuracy: {0:f}\\nPrecision: {1:f}\\nRecall: {2:f}\\nF1: {3:f}\".format(result_majority_rule_baseline.acc, result_majority_rule_baseline.precision, result_majority_rule_baseline.recall, result_majority_rule_baseline.f1))"
   ]
  },
  {
   "cell_type": "markdown",
   "metadata": {},
   "source": [
    "### Compare the two baselines with your Naive Bayes classifier.\n",
    "Comparing with the random choice and the majority rule baseline, naive bayes classifier can perform better as gaining higher score in accuracy, precision, recall and F1."
   ]
  },
  {
   "cell_type": "markdown",
   "metadata": {},
   "source": [
    "## Threshold Finding\n",
    "In practice, instead of comparing $lH(x)$ against $0$, we usually compare against a threshold, $t$. We can change the threshold so that we maximize the accuracy, precision, recall, or F score (depending on which measure we want to optimize).\n",
    "\n",
    "- Use the following threshold values, $t = np.arange(-5, 5, 0.05)$\n",
    "\n",
    "### Find the best accuracy, and F score (and the corresponding thresholds)\n",
    "The best accuracy is 0.974026 and f1 score is 0.909091 with the corresponding thresholds from -1.85 to -0.90 "
   ]
  },
  {
   "cell_type": "code",
   "execution_count": 125,
   "metadata": {},
   "outputs": [
    {
     "name": "stdout",
     "output_type": "stream",
     "text": [
      "Threshold: -5.00\n",
      "Accuracy: 0.454545\n",
      "Precision: 0.192308\n",
      "Recall: 1.000000\n",
      "F1: 0.322581\n",
      "\n",
      "Threshold: -4.95\n",
      "Accuracy: 0.454545\n",
      "Precision: 0.192308\n",
      "Recall: 1.000000\n",
      "F1: 0.322581\n",
      "\n",
      "Threshold: -4.90\n",
      "Accuracy: 0.454545\n",
      "Precision: 0.192308\n",
      "Recall: 1.000000\n",
      "F1: 0.322581\n",
      "\n",
      "Threshold: -4.85\n",
      "Accuracy: 0.636364\n",
      "Precision: 0.263158\n",
      "Recall: 1.000000\n",
      "F1: 0.416667\n",
      "\n",
      "Threshold: -4.80\n",
      "Accuracy: 0.636364\n",
      "Precision: 0.263158\n",
      "Recall: 1.000000\n",
      "F1: 0.416667\n",
      "\n",
      "Threshold: -4.75\n",
      "Accuracy: 0.636364\n",
      "Precision: 0.263158\n",
      "Recall: 1.000000\n",
      "F1: 0.416667\n",
      "\n",
      "Threshold: -4.70\n",
      "Accuracy: 0.636364\n",
      "Precision: 0.263158\n",
      "Recall: 1.000000\n",
      "F1: 0.416667\n",
      "\n",
      "Threshold: -4.65\n",
      "Accuracy: 0.636364\n",
      "Precision: 0.263158\n",
      "Recall: 1.000000\n",
      "F1: 0.416667\n",
      "\n",
      "Threshold: -4.60\n",
      "Accuracy: 0.636364\n",
      "Precision: 0.263158\n",
      "Recall: 1.000000\n",
      "F1: 0.416667\n",
      "\n",
      "Threshold: -4.55\n",
      "Accuracy: 0.636364\n",
      "Precision: 0.263158\n",
      "Recall: 1.000000\n",
      "F1: 0.416667\n",
      "\n",
      "Threshold: -4.50\n",
      "Accuracy: 0.636364\n",
      "Precision: 0.263158\n",
      "Recall: 1.000000\n",
      "F1: 0.416667\n",
      "\n",
      "Threshold: -4.45\n",
      "Accuracy: 0.636364\n",
      "Precision: 0.263158\n",
      "Recall: 1.000000\n",
      "F1: 0.416667\n",
      "\n",
      "Threshold: -4.40\n",
      "Accuracy: 0.636364\n",
      "Precision: 0.263158\n",
      "Recall: 1.000000\n",
      "F1: 0.416667\n",
      "\n",
      "Threshold: -4.35\n",
      "Accuracy: 0.636364\n",
      "Precision: 0.263158\n",
      "Recall: 1.000000\n",
      "F1: 0.416667\n",
      "\n",
      "Threshold: -4.30\n",
      "Accuracy: 0.636364\n",
      "Precision: 0.263158\n",
      "Recall: 1.000000\n",
      "F1: 0.416667\n",
      "\n",
      "Threshold: -4.25\n",
      "Accuracy: 0.636364\n",
      "Precision: 0.263158\n",
      "Recall: 1.000000\n",
      "F1: 0.416667\n",
      "\n",
      "Threshold: -4.20\n",
      "Accuracy: 0.636364\n",
      "Precision: 0.263158\n",
      "Recall: 1.000000\n",
      "F1: 0.416667\n",
      "\n",
      "Threshold: -4.15\n",
      "Accuracy: 0.636364\n",
      "Precision: 0.263158\n",
      "Recall: 1.000000\n",
      "F1: 0.416667\n",
      "\n",
      "Threshold: -4.10\n",
      "Accuracy: 0.636364\n",
      "Precision: 0.263158\n",
      "Recall: 1.000000\n",
      "F1: 0.416667\n",
      "\n",
      "Threshold: -4.05\n",
      "Accuracy: 0.636364\n",
      "Precision: 0.263158\n",
      "Recall: 1.000000\n",
      "F1: 0.416667\n",
      "\n",
      "Threshold: -4.00\n",
      "Accuracy: 0.636364\n",
      "Precision: 0.263158\n",
      "Recall: 1.000000\n",
      "F1: 0.416667\n",
      "\n",
      "Threshold: -3.95\n",
      "Accuracy: 0.636364\n",
      "Precision: 0.263158\n",
      "Recall: 1.000000\n",
      "F1: 0.416667\n",
      "\n",
      "Threshold: -3.90\n",
      "Accuracy: 0.636364\n",
      "Precision: 0.263158\n",
      "Recall: 1.000000\n",
      "F1: 0.416667\n",
      "\n",
      "Threshold: -3.85\n",
      "Accuracy: 0.805195\n",
      "Precision: 0.400000\n",
      "Recall: 1.000000\n",
      "F1: 0.571429\n",
      "\n",
      "Threshold: -3.80\n",
      "Accuracy: 0.805195\n",
      "Precision: 0.400000\n",
      "Recall: 1.000000\n",
      "F1: 0.571429\n",
      "\n",
      "Threshold: -3.75\n",
      "Accuracy: 0.805195\n",
      "Precision: 0.400000\n",
      "Recall: 1.000000\n",
      "F1: 0.571429\n",
      "\n",
      "Threshold: -3.70\n",
      "Accuracy: 0.805195\n",
      "Precision: 0.400000\n",
      "Recall: 1.000000\n",
      "F1: 0.571429\n",
      "\n",
      "Threshold: -3.65\n",
      "Accuracy: 0.805195\n",
      "Precision: 0.400000\n",
      "Recall: 1.000000\n",
      "F1: 0.571429\n",
      "\n",
      "Threshold: -3.60\n",
      "Accuracy: 0.805195\n",
      "Precision: 0.400000\n",
      "Recall: 1.000000\n",
      "F1: 0.571429\n",
      "\n",
      "Threshold: -3.55\n",
      "Accuracy: 0.805195\n",
      "Precision: 0.400000\n",
      "Recall: 1.000000\n",
      "F1: 0.571429\n",
      "\n",
      "Threshold: -3.50\n",
      "Accuracy: 0.805195\n",
      "Precision: 0.400000\n",
      "Recall: 1.000000\n",
      "F1: 0.571429\n",
      "\n",
      "Threshold: -3.45\n",
      "Accuracy: 0.805195\n",
      "Precision: 0.400000\n",
      "Recall: 1.000000\n",
      "F1: 0.571429\n",
      "\n",
      "Threshold: -3.40\n",
      "Accuracy: 0.805195\n",
      "Precision: 0.400000\n",
      "Recall: 1.000000\n",
      "F1: 0.571429\n",
      "\n",
      "Threshold: -3.35\n",
      "Accuracy: 0.805195\n",
      "Precision: 0.400000\n",
      "Recall: 1.000000\n",
      "F1: 0.571429\n",
      "\n",
      "Threshold: -3.30\n",
      "Accuracy: 0.805195\n",
      "Precision: 0.400000\n",
      "Recall: 1.000000\n",
      "F1: 0.571429\n",
      "\n",
      "Threshold: -3.25\n",
      "Accuracy: 0.805195\n",
      "Precision: 0.400000\n",
      "Recall: 1.000000\n",
      "F1: 0.571429\n",
      "\n",
      "Threshold: -3.20\n",
      "Accuracy: 0.805195\n",
      "Precision: 0.400000\n",
      "Recall: 1.000000\n",
      "F1: 0.571429\n",
      "\n",
      "Threshold: -3.15\n",
      "Accuracy: 0.805195\n",
      "Precision: 0.400000\n",
      "Recall: 1.000000\n",
      "F1: 0.571429\n",
      "\n",
      "Threshold: -3.10\n",
      "Accuracy: 0.805195\n",
      "Precision: 0.400000\n",
      "Recall: 1.000000\n",
      "F1: 0.571429\n",
      "\n",
      "Threshold: -3.05\n",
      "Accuracy: 0.805195\n",
      "Precision: 0.400000\n",
      "Recall: 1.000000\n",
      "F1: 0.571429\n",
      "\n",
      "Threshold: -3.00\n",
      "Accuracy: 0.805195\n",
      "Precision: 0.400000\n",
      "Recall: 1.000000\n",
      "F1: 0.571429\n",
      "\n",
      "Threshold: -2.95\n",
      "Accuracy: 0.805195\n",
      "Precision: 0.400000\n",
      "Recall: 1.000000\n",
      "F1: 0.571429\n",
      "\n",
      "Threshold: -2.90\n",
      "Accuracy: 0.805195\n",
      "Precision: 0.400000\n",
      "Recall: 1.000000\n",
      "F1: 0.571429\n",
      "\n",
      "Threshold: -2.85\n",
      "Accuracy: 0.909091\n",
      "Precision: 0.588235\n",
      "Recall: 1.000000\n",
      "F1: 0.740741\n",
      "\n",
      "Threshold: -2.80\n",
      "Accuracy: 0.909091\n",
      "Precision: 0.588235\n",
      "Recall: 1.000000\n",
      "F1: 0.740741\n",
      "\n",
      "Threshold: -2.75\n",
      "Accuracy: 0.909091\n",
      "Precision: 0.588235\n",
      "Recall: 1.000000\n",
      "F1: 0.740741\n",
      "\n",
      "Threshold: -2.70\n",
      "Accuracy: 0.909091\n",
      "Precision: 0.588235\n",
      "Recall: 1.000000\n",
      "F1: 0.740741\n",
      "\n",
      "Threshold: -2.65\n",
      "Accuracy: 0.909091\n",
      "Precision: 0.588235\n",
      "Recall: 1.000000\n",
      "F1: 0.740741\n",
      "\n",
      "Threshold: -2.60\n",
      "Accuracy: 0.909091\n",
      "Precision: 0.588235\n",
      "Recall: 1.000000\n",
      "F1: 0.740741\n",
      "\n",
      "Threshold: -2.55\n",
      "Accuracy: 0.909091\n",
      "Precision: 0.588235\n",
      "Recall: 1.000000\n",
      "F1: 0.740741\n",
      "\n",
      "Threshold: -2.50\n",
      "Accuracy: 0.909091\n",
      "Precision: 0.588235\n",
      "Recall: 1.000000\n",
      "F1: 0.740741\n",
      "\n",
      "Threshold: -2.45\n",
      "Accuracy: 0.909091\n",
      "Precision: 0.588235\n",
      "Recall: 1.000000\n",
      "F1: 0.740741\n",
      "\n",
      "Threshold: -2.40\n",
      "Accuracy: 0.909091\n",
      "Precision: 0.588235\n",
      "Recall: 1.000000\n",
      "F1: 0.740741\n",
      "\n",
      "Threshold: -2.35\n",
      "Accuracy: 0.909091\n",
      "Precision: 0.588235\n",
      "Recall: 1.000000\n",
      "F1: 0.740741\n",
      "\n",
      "Threshold: -2.30\n",
      "Accuracy: 0.909091\n",
      "Precision: 0.588235\n",
      "Recall: 1.000000\n",
      "F1: 0.740741\n",
      "\n",
      "Threshold: -2.25\n",
      "Accuracy: 0.909091\n",
      "Precision: 0.588235\n",
      "Recall: 1.000000\n",
      "F1: 0.740741\n",
      "\n",
      "Threshold: -2.20\n",
      "Accuracy: 0.909091\n",
      "Precision: 0.588235\n",
      "Recall: 1.000000\n",
      "F1: 0.740741\n",
      "\n",
      "Threshold: -2.15\n",
      "Accuracy: 0.909091\n",
      "Precision: 0.588235\n",
      "Recall: 1.000000\n",
      "F1: 0.740741\n",
      "\n",
      "Threshold: -2.10\n",
      "Accuracy: 0.909091\n",
      "Precision: 0.588235\n",
      "Recall: 1.000000\n",
      "F1: 0.740741\n",
      "\n",
      "Threshold: -2.05\n",
      "Accuracy: 0.909091\n",
      "Precision: 0.588235\n",
      "Recall: 1.000000\n",
      "F1: 0.740741\n",
      "\n",
      "Threshold: -2.00\n",
      "Accuracy: 0.909091\n",
      "Precision: 0.588235\n",
      "Recall: 1.000000\n",
      "F1: 0.740741\n",
      "\n",
      "Threshold: -1.95\n",
      "Accuracy: 0.909091\n",
      "Precision: 0.588235\n",
      "Recall: 1.000000\n",
      "F1: 0.740741\n",
      "\n",
      "Threshold: -1.90\n",
      "Accuracy: 0.909091\n",
      "Precision: 0.588235\n",
      "Recall: 1.000000\n",
      "F1: 0.740741\n",
      "\n",
      "Threshold: -1.85\n",
      "Accuracy: 0.974026\n",
      "Precision: 0.833333\n",
      "Recall: 1.000000\n",
      "F1: 0.909091\n",
      "\n",
      "Threshold: -1.80\n",
      "Accuracy: 0.974026\n",
      "Precision: 0.833333\n",
      "Recall: 1.000000\n",
      "F1: 0.909091\n",
      "\n",
      "Threshold: -1.75\n",
      "Accuracy: 0.974026\n",
      "Precision: 0.833333\n",
      "Recall: 1.000000\n",
      "F1: 0.909091\n",
      "\n",
      "Threshold: -1.70\n",
      "Accuracy: 0.974026\n",
      "Precision: 0.833333\n",
      "Recall: 1.000000\n",
      "F1: 0.909091\n",
      "\n",
      "Threshold: -1.65\n",
      "Accuracy: 0.974026\n",
      "Precision: 0.833333\n",
      "Recall: 1.000000\n",
      "F1: 0.909091\n",
      "\n",
      "Threshold: -1.60\n",
      "Accuracy: 0.974026\n",
      "Precision: 0.833333\n",
      "Recall: 1.000000\n",
      "F1: 0.909091\n",
      "\n",
      "Threshold: -1.55\n",
      "Accuracy: 0.974026\n",
      "Precision: 0.833333\n",
      "Recall: 1.000000\n",
      "F1: 0.909091\n",
      "\n",
      "Threshold: -1.50\n",
      "Accuracy: 0.974026\n",
      "Precision: 0.833333\n",
      "Recall: 1.000000\n",
      "F1: 0.909091\n",
      "\n",
      "Threshold: -1.45\n",
      "Accuracy: 0.974026\n",
      "Precision: 0.833333\n",
      "Recall: 1.000000\n",
      "F1: 0.909091\n",
      "\n",
      "Threshold: -1.40\n",
      "Accuracy: 0.974026\n",
      "Precision: 0.833333\n",
      "Recall: 1.000000\n",
      "F1: 0.909091\n",
      "\n",
      "Threshold: -1.35\n",
      "Accuracy: 0.974026\n",
      "Precision: 0.833333\n",
      "Recall: 1.000000\n",
      "F1: 0.909091\n",
      "\n",
      "Threshold: -1.30\n",
      "Accuracy: 0.974026\n",
      "Precision: 0.833333\n",
      "Recall: 1.000000\n",
      "F1: 0.909091\n",
      "\n",
      "Threshold: -1.25\n",
      "Accuracy: 0.974026\n",
      "Precision: 0.833333\n",
      "Recall: 1.000000\n",
      "F1: 0.909091\n",
      "\n",
      "Threshold: -1.20\n",
      "Accuracy: 0.974026\n",
      "Precision: 0.833333\n",
      "Recall: 1.000000\n",
      "F1: 0.909091\n",
      "\n",
      "Threshold: -1.15\n",
      "Accuracy: 0.974026\n",
      "Precision: 0.833333\n",
      "Recall: 1.000000\n",
      "F1: 0.909091\n",
      "\n",
      "Threshold: -1.10\n",
      "Accuracy: 0.974026\n",
      "Precision: 0.833333\n",
      "Recall: 1.000000\n",
      "F1: 0.909091\n",
      "\n",
      "Threshold: -1.05\n",
      "Accuracy: 0.974026\n",
      "Precision: 0.833333\n",
      "Recall: 1.000000\n",
      "F1: 0.909091\n",
      "\n",
      "Threshold: -1.00\n",
      "Accuracy: 0.974026\n",
      "Precision: 0.833333\n",
      "Recall: 1.000000\n",
      "F1: 0.909091\n",
      "\n",
      "Threshold: -0.95\n",
      "Accuracy: 0.974026\n",
      "Precision: 0.833333\n",
      "Recall: 1.000000\n",
      "F1: 0.909091\n",
      "\n",
      "Threshold: -0.90\n",
      "Accuracy: 0.974026\n",
      "Precision: 0.833333\n",
      "Recall: 1.000000\n",
      "F1: 0.909091\n",
      "\n",
      "Threshold: -0.85\n",
      "Accuracy: 0.974026\n",
      "Precision: 1.000000\n",
      "Recall: 0.800000\n",
      "F1: 0.888889\n",
      "\n",
      "Threshold: -0.80\n",
      "Accuracy: 0.974026\n",
      "Precision: 1.000000\n",
      "Recall: 0.800000\n",
      "F1: 0.888889\n",
      "\n",
      "Threshold: -0.75\n",
      "Accuracy: 0.974026\n",
      "Precision: 1.000000\n",
      "Recall: 0.800000\n",
      "F1: 0.888889\n",
      "\n",
      "Threshold: -0.70\n",
      "Accuracy: 0.974026\n",
      "Precision: 1.000000\n",
      "Recall: 0.800000\n",
      "F1: 0.888889\n",
      "\n",
      "Threshold: -0.65\n",
      "Accuracy: 0.974026\n",
      "Precision: 1.000000\n",
      "Recall: 0.800000\n",
      "F1: 0.888889\n",
      "\n",
      "Threshold: -0.60\n",
      "Accuracy: 0.974026\n",
      "Precision: 1.000000\n",
      "Recall: 0.800000\n",
      "F1: 0.888889\n",
      "\n",
      "Threshold: -0.55\n",
      "Accuracy: 0.974026\n",
      "Precision: 1.000000\n",
      "Recall: 0.800000\n",
      "F1: 0.888889\n",
      "\n",
      "Threshold: -0.50\n",
      "Accuracy: 0.974026\n",
      "Precision: 1.000000\n",
      "Recall: 0.800000\n",
      "F1: 0.888889\n",
      "\n",
      "Threshold: -0.45\n",
      "Accuracy: 0.974026\n",
      "Precision: 1.000000\n",
      "Recall: 0.800000\n",
      "F1: 0.888889\n",
      "\n",
      "Threshold: -0.40\n",
      "Accuracy: 0.974026\n",
      "Precision: 1.000000\n",
      "Recall: 0.800000\n",
      "F1: 0.888889\n",
      "\n",
      "Threshold: -0.35\n",
      "Accuracy: 0.974026\n",
      "Precision: 1.000000\n",
      "Recall: 0.800000\n",
      "F1: 0.888889\n",
      "\n",
      "Threshold: -0.30\n",
      "Accuracy: 0.974026\n",
      "Precision: 1.000000\n",
      "Recall: 0.800000\n",
      "F1: 0.888889\n",
      "\n",
      "Threshold: -0.25\n",
      "Accuracy: 0.974026\n",
      "Precision: 1.000000\n",
      "Recall: 0.800000\n",
      "F1: 0.888889\n",
      "\n",
      "Threshold: -0.20\n",
      "Accuracy: 0.974026\n",
      "Precision: 1.000000\n",
      "Recall: 0.800000\n",
      "F1: 0.888889\n",
      "\n"
     ]
    },
    {
     "name": "stdout",
     "output_type": "stream",
     "text": [
      "Threshold: -0.15\n",
      "Accuracy: 0.974026\n",
      "Precision: 1.000000\n",
      "Recall: 0.800000\n",
      "F1: 0.888889\n",
      "\n",
      "Threshold: -0.10\n",
      "Accuracy: 0.974026\n",
      "Precision: 1.000000\n",
      "Recall: 0.800000\n",
      "F1: 0.888889\n",
      "\n",
      "Threshold: -0.05\n",
      "Accuracy: 0.974026\n",
      "Precision: 1.000000\n",
      "Recall: 0.800000\n",
      "F1: 0.888889\n",
      "\n",
      "Threshold: -0.00\n",
      "Accuracy: 0.974026\n",
      "Precision: 1.000000\n",
      "Recall: 0.800000\n",
      "F1: 0.888889\n",
      "\n",
      "Threshold: 0.05\n",
      "Accuracy: 0.974026\n",
      "Precision: 1.000000\n",
      "Recall: 0.800000\n",
      "F1: 0.888889\n",
      "\n",
      "Threshold: 0.10\n",
      "Accuracy: 0.974026\n",
      "Precision: 1.000000\n",
      "Recall: 0.800000\n",
      "F1: 0.888889\n",
      "\n",
      "Threshold: 0.15\n",
      "Accuracy: 0.948052\n",
      "Precision: 1.000000\n",
      "Recall: 0.600000\n",
      "F1: 0.750000\n",
      "\n",
      "Threshold: 0.20\n",
      "Accuracy: 0.948052\n",
      "Precision: 1.000000\n",
      "Recall: 0.600000\n",
      "F1: 0.750000\n",
      "\n",
      "Threshold: 0.25\n",
      "Accuracy: 0.948052\n",
      "Precision: 1.000000\n",
      "Recall: 0.600000\n",
      "F1: 0.750000\n",
      "\n",
      "Threshold: 0.30\n",
      "Accuracy: 0.948052\n",
      "Precision: 1.000000\n",
      "Recall: 0.600000\n",
      "F1: 0.750000\n",
      "\n",
      "Threshold: 0.35\n",
      "Accuracy: 0.948052\n",
      "Precision: 1.000000\n",
      "Recall: 0.600000\n",
      "F1: 0.750000\n",
      "\n",
      "Threshold: 0.40\n",
      "Accuracy: 0.948052\n",
      "Precision: 1.000000\n",
      "Recall: 0.600000\n",
      "F1: 0.750000\n",
      "\n",
      "Threshold: 0.45\n",
      "Accuracy: 0.948052\n",
      "Precision: 1.000000\n",
      "Recall: 0.600000\n",
      "F1: 0.750000\n",
      "\n",
      "Threshold: 0.50\n",
      "Accuracy: 0.948052\n",
      "Precision: 1.000000\n",
      "Recall: 0.600000\n",
      "F1: 0.750000\n",
      "\n",
      "Threshold: 0.55\n",
      "Accuracy: 0.948052\n",
      "Precision: 1.000000\n",
      "Recall: 0.600000\n",
      "F1: 0.750000\n",
      "\n",
      "Threshold: 0.60\n",
      "Accuracy: 0.948052\n",
      "Precision: 1.000000\n",
      "Recall: 0.600000\n",
      "F1: 0.750000\n",
      "\n",
      "Threshold: 0.65\n",
      "Accuracy: 0.948052\n",
      "Precision: 1.000000\n",
      "Recall: 0.600000\n",
      "F1: 0.750000\n",
      "\n",
      "Threshold: 0.70\n",
      "Accuracy: 0.948052\n",
      "Precision: 1.000000\n",
      "Recall: 0.600000\n",
      "F1: 0.750000\n",
      "\n",
      "Threshold: 0.75\n",
      "Accuracy: 0.948052\n",
      "Precision: 1.000000\n",
      "Recall: 0.600000\n",
      "F1: 0.750000\n",
      "\n",
      "Threshold: 0.80\n",
      "Accuracy: 0.948052\n",
      "Precision: 1.000000\n",
      "Recall: 0.600000\n",
      "F1: 0.750000\n",
      "\n",
      "Threshold: 0.85\n",
      "Accuracy: 0.948052\n",
      "Precision: 1.000000\n",
      "Recall: 0.600000\n",
      "F1: 0.750000\n",
      "\n",
      "Threshold: 0.90\n",
      "Accuracy: 0.948052\n",
      "Precision: 1.000000\n",
      "Recall: 0.600000\n",
      "F1: 0.750000\n",
      "\n",
      "Threshold: 0.95\n",
      "Accuracy: 0.948052\n",
      "Precision: 1.000000\n",
      "Recall: 0.600000\n",
      "F1: 0.750000\n",
      "\n",
      "Threshold: 1.00\n",
      "Accuracy: 0.948052\n",
      "Precision: 1.000000\n",
      "Recall: 0.600000\n",
      "F1: 0.750000\n",
      "\n",
      "Threshold: 1.05\n",
      "Accuracy: 0.948052\n",
      "Precision: 1.000000\n",
      "Recall: 0.600000\n",
      "F1: 0.750000\n",
      "\n",
      "Threshold: 1.10\n",
      "Accuracy: 0.948052\n",
      "Precision: 1.000000\n",
      "Recall: 0.600000\n",
      "F1: 0.750000\n",
      "\n",
      "Threshold: 1.15\n",
      "Accuracy: 0.922078\n",
      "Precision: 1.000000\n",
      "Recall: 0.400000\n",
      "F1: 0.571429\n",
      "\n",
      "Threshold: 1.20\n",
      "Accuracy: 0.922078\n",
      "Precision: 1.000000\n",
      "Recall: 0.400000\n",
      "F1: 0.571429\n",
      "\n",
      "Threshold: 1.25\n",
      "Accuracy: 0.922078\n",
      "Precision: 1.000000\n",
      "Recall: 0.400000\n",
      "F1: 0.571429\n",
      "\n",
      "Threshold: 1.30\n",
      "Accuracy: 0.922078\n",
      "Precision: 1.000000\n",
      "Recall: 0.400000\n",
      "F1: 0.571429\n",
      "\n",
      "Threshold: 1.35\n",
      "Accuracy: 0.922078\n",
      "Precision: 1.000000\n",
      "Recall: 0.400000\n",
      "F1: 0.571429\n",
      "\n",
      "Threshold: 1.40\n",
      "Accuracy: 0.922078\n",
      "Precision: 1.000000\n",
      "Recall: 0.400000\n",
      "F1: 0.571429\n",
      "\n",
      "Threshold: 1.45\n",
      "Accuracy: 0.922078\n",
      "Precision: 1.000000\n",
      "Recall: 0.400000\n",
      "F1: 0.571429\n",
      "\n",
      "Threshold: 1.50\n",
      "Accuracy: 0.922078\n",
      "Precision: 1.000000\n",
      "Recall: 0.400000\n",
      "F1: 0.571429\n",
      "\n",
      "Threshold: 1.55\n",
      "Accuracy: 0.922078\n",
      "Precision: 1.000000\n",
      "Recall: 0.400000\n",
      "F1: 0.571429\n",
      "\n",
      "Threshold: 1.60\n",
      "Accuracy: 0.922078\n",
      "Precision: 1.000000\n",
      "Recall: 0.400000\n",
      "F1: 0.571429\n",
      "\n",
      "Threshold: 1.65\n",
      "Accuracy: 0.922078\n",
      "Precision: 1.000000\n",
      "Recall: 0.400000\n",
      "F1: 0.571429\n",
      "\n",
      "Threshold: 1.70\n",
      "Accuracy: 0.922078\n",
      "Precision: 1.000000\n",
      "Recall: 0.400000\n",
      "F1: 0.571429\n",
      "\n",
      "Threshold: 1.75\n",
      "Accuracy: 0.922078\n",
      "Precision: 1.000000\n",
      "Recall: 0.400000\n",
      "F1: 0.571429\n",
      "\n",
      "Threshold: 1.80\n",
      "Accuracy: 0.922078\n",
      "Precision: 1.000000\n",
      "Recall: 0.400000\n",
      "F1: 0.571429\n",
      "\n",
      "Threshold: 1.85\n",
      "Accuracy: 0.922078\n",
      "Precision: 1.000000\n",
      "Recall: 0.400000\n",
      "F1: 0.571429\n",
      "\n",
      "Threshold: 1.90\n",
      "Accuracy: 0.922078\n",
      "Precision: 1.000000\n",
      "Recall: 0.400000\n",
      "F1: 0.571429\n",
      "\n",
      "Threshold: 1.95\n",
      "Accuracy: 0.922078\n",
      "Precision: 1.000000\n",
      "Recall: 0.400000\n",
      "F1: 0.571429\n",
      "\n",
      "Threshold: 2.00\n",
      "Accuracy: 0.922078\n",
      "Precision: 1.000000\n",
      "Recall: 0.400000\n",
      "F1: 0.571429\n",
      "\n",
      "Threshold: 2.05\n",
      "Accuracy: 0.922078\n",
      "Precision: 1.000000\n",
      "Recall: 0.400000\n",
      "F1: 0.571429\n",
      "\n",
      "Threshold: 2.10\n",
      "Accuracy: 0.922078\n",
      "Precision: 1.000000\n",
      "Recall: 0.400000\n",
      "F1: 0.571429\n",
      "\n",
      "Threshold: 2.15\n",
      "Accuracy: 0.909091\n",
      "Precision: 1.000000\n",
      "Recall: 0.300000\n",
      "F1: 0.461538\n",
      "\n",
      "Threshold: 2.20\n",
      "Accuracy: 0.909091\n",
      "Precision: 1.000000\n",
      "Recall: 0.300000\n",
      "F1: 0.461538\n",
      "\n",
      "Threshold: 2.25\n",
      "Accuracy: 0.909091\n",
      "Precision: 1.000000\n",
      "Recall: 0.300000\n",
      "F1: 0.461538\n",
      "\n",
      "Threshold: 2.30\n",
      "Accuracy: 0.909091\n",
      "Precision: 1.000000\n",
      "Recall: 0.300000\n",
      "F1: 0.461538\n",
      "\n",
      "Threshold: 2.35\n",
      "Accuracy: 0.909091\n",
      "Precision: 1.000000\n",
      "Recall: 0.300000\n",
      "F1: 0.461538\n",
      "\n",
      "Threshold: 2.40\n",
      "Accuracy: 0.909091\n",
      "Precision: 1.000000\n",
      "Recall: 0.300000\n",
      "F1: 0.461538\n",
      "\n",
      "Threshold: 2.45\n",
      "Accuracy: 0.909091\n",
      "Precision: 1.000000\n",
      "Recall: 0.300000\n",
      "F1: 0.461538\n",
      "\n",
      "Threshold: 2.50\n",
      "Accuracy: 0.909091\n",
      "Precision: 1.000000\n",
      "Recall: 0.300000\n",
      "F1: 0.461538\n",
      "\n",
      "Threshold: 2.55\n",
      "Accuracy: 0.909091\n",
      "Precision: 1.000000\n",
      "Recall: 0.300000\n",
      "F1: 0.461538\n",
      "\n",
      "Threshold: 2.60\n",
      "Accuracy: 0.909091\n",
      "Precision: 1.000000\n",
      "Recall: 0.300000\n",
      "F1: 0.461538\n",
      "\n",
      "Threshold: 2.65\n",
      "Accuracy: 0.909091\n",
      "Precision: 1.000000\n",
      "Recall: 0.300000\n",
      "F1: 0.461538\n",
      "\n",
      "Threshold: 2.70\n",
      "Accuracy: 0.909091\n",
      "Precision: 1.000000\n",
      "Recall: 0.300000\n",
      "F1: 0.461538\n",
      "\n",
      "Threshold: 2.75\n",
      "Accuracy: 0.909091\n",
      "Precision: 1.000000\n",
      "Recall: 0.300000\n",
      "F1: 0.461538\n",
      "\n",
      "Threshold: 2.80\n",
      "Accuracy: 0.909091\n",
      "Precision: 1.000000\n",
      "Recall: 0.300000\n",
      "F1: 0.461538\n",
      "\n",
      "Threshold: 2.85\n",
      "Accuracy: 0.909091\n",
      "Precision: 1.000000\n",
      "Recall: 0.300000\n",
      "F1: 0.461538\n",
      "\n",
      "Threshold: 2.90\n",
      "Accuracy: 0.909091\n",
      "Precision: 1.000000\n",
      "Recall: 0.300000\n",
      "F1: 0.461538\n",
      "\n",
      "Threshold: 2.95\n",
      "Accuracy: 0.909091\n",
      "Precision: 1.000000\n",
      "Recall: 0.300000\n",
      "F1: 0.461538\n",
      "\n",
      "Threshold: 3.00\n",
      "Accuracy: 0.909091\n",
      "Precision: 1.000000\n",
      "Recall: 0.300000\n",
      "F1: 0.461538\n",
      "\n",
      "Threshold: 3.05\n",
      "Accuracy: 0.909091\n",
      "Precision: 1.000000\n",
      "Recall: 0.300000\n",
      "F1: 0.461538\n",
      "\n",
      "Threshold: 3.10\n",
      "Accuracy: 0.909091\n",
      "Precision: 1.000000\n",
      "Recall: 0.300000\n",
      "F1: 0.461538\n",
      "\n",
      "Threshold: 3.15\n",
      "Accuracy: 0.896104\n",
      "Precision: 1.000000\n",
      "Recall: 0.200000\n",
      "F1: 0.333333\n",
      "\n",
      "Threshold: 3.20\n",
      "Accuracy: 0.896104\n",
      "Precision: 1.000000\n",
      "Recall: 0.200000\n",
      "F1: 0.333333\n",
      "\n",
      "Threshold: 3.25\n",
      "Accuracy: 0.896104\n",
      "Precision: 1.000000\n",
      "Recall: 0.200000\n",
      "F1: 0.333333\n",
      "\n",
      "Threshold: 3.30\n",
      "Accuracy: 0.896104\n",
      "Precision: 1.000000\n",
      "Recall: 0.200000\n",
      "F1: 0.333333\n",
      "\n",
      "Threshold: 3.35\n",
      "Accuracy: 0.896104\n",
      "Precision: 1.000000\n",
      "Recall: 0.200000\n",
      "F1: 0.333333\n",
      "\n",
      "Threshold: 3.40\n",
      "Accuracy: 0.896104\n",
      "Precision: 1.000000\n",
      "Recall: 0.200000\n",
      "F1: 0.333333\n",
      "\n",
      "Threshold: 3.45\n",
      "Accuracy: 0.896104\n",
      "Precision: 1.000000\n",
      "Recall: 0.200000\n",
      "F1: 0.333333\n",
      "\n",
      "Threshold: 3.50\n",
      "Accuracy: 0.896104\n",
      "Precision: 1.000000\n",
      "Recall: 0.200000\n",
      "F1: 0.333333\n",
      "\n",
      "Threshold: 3.55\n",
      "Accuracy: 0.896104\n",
      "Precision: 1.000000\n",
      "Recall: 0.200000\n",
      "F1: 0.333333\n",
      "\n",
      "Threshold: 3.60\n",
      "Accuracy: 0.896104\n",
      "Precision: 1.000000\n",
      "Recall: 0.200000\n",
      "F1: 0.333333\n",
      "\n",
      "Threshold: 3.65\n",
      "Accuracy: 0.896104\n",
      "Precision: 1.000000\n",
      "Recall: 0.200000\n",
      "F1: 0.333333\n",
      "\n",
      "Threshold: 3.70\n",
      "Accuracy: 0.896104\n",
      "Precision: 1.000000\n",
      "Recall: 0.200000\n",
      "F1: 0.333333\n",
      "\n",
      "Threshold: 3.75\n",
      "Accuracy: 0.896104\n",
      "Precision: 1.000000\n",
      "Recall: 0.200000\n",
      "F1: 0.333333\n",
      "\n",
      "Threshold: 3.80\n",
      "Accuracy: 0.896104\n",
      "Precision: 1.000000\n",
      "Recall: 0.200000\n",
      "F1: 0.333333\n",
      "\n",
      "Threshold: 3.85\n",
      "Accuracy: 0.896104\n",
      "Precision: 1.000000\n",
      "Recall: 0.200000\n",
      "F1: 0.333333\n",
      "\n",
      "Threshold: 3.90\n",
      "Accuracy: 0.896104\n",
      "Precision: 1.000000\n",
      "Recall: 0.200000\n",
      "F1: 0.333333\n",
      "\n",
      "Threshold: 3.95\n",
      "Accuracy: 0.896104\n",
      "Precision: 1.000000\n",
      "Recall: 0.200000\n",
      "F1: 0.333333\n",
      "\n",
      "Threshold: 4.00\n",
      "Accuracy: 0.896104\n",
      "Precision: 1.000000\n",
      "Recall: 0.200000\n",
      "F1: 0.333333\n",
      "\n",
      "Threshold: 4.05\n",
      "Accuracy: 0.896104\n",
      "Precision: 1.000000\n",
      "Recall: 0.200000\n",
      "F1: 0.333333\n",
      "\n",
      "Threshold: 4.10\n",
      "Accuracy: 0.896104\n",
      "Precision: 1.000000\n",
      "Recall: 0.200000\n",
      "F1: 0.333333\n",
      "\n",
      "Threshold: 4.15\n",
      "Accuracy: 0.883117\n",
      "Precision: 1.000000\n",
      "Recall: 0.100000\n",
      "F1: 0.181818\n",
      "\n",
      "Threshold: 4.20\n",
      "Accuracy: 0.883117\n",
      "Precision: 1.000000\n",
      "Recall: 0.100000\n",
      "F1: 0.181818\n",
      "\n",
      "Threshold: 4.25\n",
      "Accuracy: 0.883117\n",
      "Precision: 1.000000\n",
      "Recall: 0.100000\n",
      "F1: 0.181818\n",
      "\n",
      "Threshold: 4.30\n",
      "Accuracy: 0.883117\n",
      "Precision: 1.000000\n",
      "Recall: 0.100000\n",
      "F1: 0.181818\n",
      "\n",
      "Threshold: 4.35\n",
      "Accuracy: 0.883117\n",
      "Precision: 1.000000\n",
      "Recall: 0.100000\n",
      "F1: 0.181818\n",
      "\n",
      "Threshold: 4.40\n",
      "Accuracy: 0.883117\n",
      "Precision: 1.000000\n",
      "Recall: 0.100000\n",
      "F1: 0.181818\n",
      "\n",
      "Threshold: 4.45\n",
      "Accuracy: 0.883117\n",
      "Precision: 1.000000\n",
      "Recall: 0.100000\n",
      "F1: 0.181818\n",
      "\n",
      "Threshold: 4.50\n",
      "Accuracy: 0.883117\n",
      "Precision: 1.000000\n",
      "Recall: 0.100000\n",
      "F1: 0.181818\n",
      "\n",
      "Threshold: 4.55\n",
      "Accuracy: 0.883117\n",
      "Precision: 1.000000\n",
      "Recall: 0.100000\n",
      "F1: 0.181818\n",
      "\n",
      "Threshold: 4.60\n",
      "Accuracy: 0.883117\n",
      "Precision: 1.000000\n",
      "Recall: 0.100000\n",
      "F1: 0.181818\n",
      "\n",
      "Threshold: 4.65\n",
      "Accuracy: 0.883117\n",
      "Precision: 1.000000\n",
      "Recall: 0.100000\n",
      "F1: 0.181818\n",
      "\n",
      "Threshold: 4.70\n",
      "Accuracy: 0.883117\n",
      "Precision: 1.000000\n",
      "Recall: 0.100000\n",
      "F1: 0.181818\n",
      "\n",
      "Threshold: 4.75\n",
      "Accuracy: 0.883117\n",
      "Precision: 1.000000\n",
      "Recall: 0.100000\n",
      "F1: 0.181818\n"
     ]
    },
    {
     "name": "stdout",
     "output_type": "stream",
     "text": [
      "\n",
      "Threshold: 4.80\n",
      "Accuracy: 0.883117\n",
      "Precision: 1.000000\n",
      "Recall: 0.100000\n",
      "F1: 0.181818\n",
      "\n",
      "Threshold: 4.85\n",
      "Accuracy: 0.883117\n",
      "Precision: 1.000000\n",
      "Recall: 0.100000\n",
      "F1: 0.181818\n",
      "\n",
      "Threshold: 4.90\n",
      "Accuracy: 0.883117\n",
      "Precision: 1.000000\n",
      "Recall: 0.100000\n",
      "F1: 0.181818\n",
      "\n",
      "Threshold: 4.95\n",
      "Accuracy: 0.883117\n",
      "Precision: 1.000000\n",
      "Recall: 0.100000\n",
      "F1: 0.181818\n",
      "\n"
     ]
    }
   ],
   "source": [
    "ts_acc = []\n",
    "ts_precision = []\n",
    "ts_recall = []\n",
    "ts_f1 = []\n",
    "for t in np.arange(-5, 5, 0.05):\n",
    "    result = test_set.apply(lambda row: naive_bayes_classifier(row, threshold = t), axis = 1)\n",
    "    print(\"Threshold: {0:.2f}\".format(t))\n",
    "    acc, precision, recall, f1 = evaluate(test_set[\"is_hk\"].values.astype(int), result.values.astype(int))\n",
    "    ts_acc.append(acc)\n",
    "    ts_precision.append(precision)\n",
    "    ts_recall.append(recall)\n",
    "    ts_f1.append(f1)\n",
    "    print(\"Accuracy: {0:f}\\nPrecision: {1:f}\\nRecall: {2:f}\\nF1: {3:f}\\n\".format(acc, precision, recall, f1))"
   ]
  },
  {
   "cell_type": "code",
   "execution_count": 126,
   "metadata": {},
   "outputs": [
    {
     "data": {
      "image/png": "[encoded data removed]",
      "text/plain": [
       "<matplotlib.figure.Figure at 0x7fb6b5245ba8>"
      ]
     },
     "metadata": {},
     "output_type": "display_data"
    }
   ],
   "source": [
    "plt.plot(np.arange(-5, 5, 0.05), ts_acc, c = \"c\")\n",
    "plt.plot(np.arange(-5, 5, 0.05), ts_precision, c = \"m\")\n",
    "plt.plot(np.arange(-5, 5, 0.05), ts_recall, c = \"red\")\n",
    "plt.plot(np.arange(-5, 5, 0.05), ts_f1, c = \"green\")\n",
    "plt.xlabel('Threshold')\n",
    "plt.show()"
   ]
  },
  {
   "cell_type": "markdown",
   "metadata": {},
   "source": [
    "## Receiver Operating Characteristic (RoC) curve\n",
    "\n",
    "Plot the RoC of your classifier."
   ]
  },
  {
   "cell_type": "code",
   "execution_count": 134,
   "metadata": {
    "collapsed": true
   },
   "outputs": [],
   "source": [
    "result_score = test_set.apply(lambda row: naive_bayes_classifier(row, y_score = True), axis = 1)\n",
    "fpr, tpr, thresholds = roc_curve(test_set[\"is_hk\"].values.astype(int), result_score.values.astype(float))"
   ]
  },
  {
   "cell_type": "code",
   "execution_count": 150,
   "metadata": {},
   "outputs": [
    {
     "data": {
      "image/png": "[encoded data removed]",
      "text/plain": [
       "<matplotlib.figure.Figure at 0x7fb6b541e550>"
      ]
     },
     "metadata": {},
     "output_type": "display_data"
    }
   ],
   "source": [
    "# plot ROC curve\n",
    "plt.plot(fpr, tpr)\n",
    "# random predictions curve\n",
    "plt.plot([0, 1], [0, 1], 'k--')\n",
    "plt.xlim([-0.1, 1.1])\n",
    "plt.ylim([-0.1, 1.1])\n",
    "plt.xlabel('False Positive Rate')\n",
    "plt.ylabel('True Positive Rate')\n",
    "plt.title('ROC Curve')\n",
    "plt.show()"
   ]
  },
  {
   "cell_type": "markdown",
   "metadata": {},
   "source": [
    "### Change the number of discretization bins from ∼1000 to ∼500. What happens to the RoC curve? Which discretization is better? \n",
    "The number of discretization bins can be considered as a hyperparameter, and must be chosen by comparing the final performance.\n",
    "\n",
    "This part is in **`Housekeeping Genes Prediction – Part 2.ipynb`**"
   ]
  }
 ],
 "metadata": {
  "kernelspec": {
   "display_name": "Python 3",
   "language": "python",
   "name": "python3"
  },
  "language_info": {
   "codemirror_mode": {
    "name": "ipython",
    "version": 3
   },
   "file_extension": ".py",
   "mimetype": "text/x-python",
   "name": "python",
   "nbconvert_exporter": "python",
   "pygments_lexer": "ipython3",
   "version": "3.6.2"
  }
 },
 "nbformat": 4,
 "nbformat_minor": 2
}
