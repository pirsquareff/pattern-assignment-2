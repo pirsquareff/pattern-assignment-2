{
 "cells": [
  {
   "cell_type": "markdown",
   "metadata": {},
   "source": [
    "# Hello Clustering\n",
    "**GitHub:** https://github.com/pirsquareff/pattern-assignment-1\n",
    "\n",
    "Recall from lecture that K-means has two main steps: the points assignment step, and the mean update step. After the initialization of the centroids, we assign each data point to a centroid. Then, each centroids are updated by re-estimating the means.\n",
    "\n",
    "Given the following data points in x-y coordinates (2 dimensional)\n",
    "\n",
    "<img src=\"images/clustering-observation-in-xy-plane.png\" width=\"30%\" height=\"30%\">"
   ]
  },
  {
   "cell_type": "code",
   "execution_count": 35,
   "metadata": {
    "collapsed": true
   },
   "outputs": [],
   "source": [
    "import numpy as np\n",
    "import copy"
   ]
  },
  {
   "cell_type": "code",
   "execution_count": 18,
   "metadata": {},
   "outputs": [
    {
     "data": {
      "text/plain": [
       "array([[ 1,  2],\n",
       "       [ 3,  3],\n",
       "       [ 2,  2],\n",
       "       [ 8,  8],\n",
       "       [ 6,  6],\n",
       "       [ 7,  7],\n",
       "       [-3, -3],\n",
       "       [-2, -4],\n",
       "       [-7, -7]])"
      ]
     },
     "execution_count": 18,
     "metadata": {},
     "output_type": "execute_result"
    }
   ],
   "source": [
    "data_points = np.array([[1, 2], [3, 3], [2, 2], [8, 8], [6, 6], [7, 7], [-3, -3], [-2, -4], [-7, -7]]) \n",
    "data_points"
   ]
  },
  {
   "cell_type": "code",
   "execution_count": 21,
   "metadata": {},
   "outputs": [
    {
     "data": {
      "image/png": "[encoded data removed]",
      "text/plain": [
       "<matplotlib.figure.Figure at 0x7f1135ec6cc0>"
      ]
     },
     "metadata": {},
     "output_type": "display_data"
    }
   ],
   "source": [
    "import matplotlib.pyplot as plt\n",
    "plt.scatter(x = data_points[:, 0], y = data_points[:, 1], c = \"r\")\n",
    "plt.show()"
   ]
  },
  {
   "cell_type": "code",
   "execution_count": 101,
   "metadata": {
    "collapsed": true
   },
   "outputs": [],
   "source": [
    "def k_mean_plotting(data_points, data_points_assignment, centroids) :\n",
    "    centroid_colors = [(\"C\" + str(i)) for i in range(centroids.shape[0])]\n",
    "    plt.scatter(centroids[:, 0], centroids[:, 1], c = centroid_colors, alpha = 0.85, marker = \"D\")\n",
    "    \n",
    "    data_point_colors = [(\"C\" + str(i)) for i in data_points_assignment]\n",
    "    plt.scatter(x = data_points[:, 0], y = data_points[:, 1], c = data_point_colors, alpha = 0.5)\n",
    "    \n",
    "    plt.show()"
   ]
  },
  {
   "cell_type": "markdown",
   "metadata": {},
   "source": [
    "## K-mean Clustering Algorithm\n",
    "\n",
    "Concretely, if we are given N data points, x1, x2, ..., xN , and we would like to form K clusters. We do the following;\n",
    "\n",
    "1. **Initialization:** Pick K random data points as K centroid locations c1, c2, ..., cK.\n",
    "2. **Assign:** For each data point k, find the closest centroid. Assign that data point to the centroid. The distance used is typically Euclidean distance.\n",
    "\n",
    "    $$d(x, y) = \\sqrt{\\sum{(x_i - y_i)^2}}$$\n",
    "\n",
    "3. **Update:** For each centroid, calculate the mean from the data points assigned to it.\n",
    "4. **Repeat:** repeat step 2 and 3 until the centroids stop changing (convergence).\n"
   ]
  },
  {
   "cell_type": "code",
   "execution_count": 168,
   "metadata": {
    "collapsed": true
   },
   "outputs": [],
   "source": [
    "def k_mean(data_points, k, iterations = 30, initial_centroids = None, k_mean_plotting_fn = None) :\n",
    "    centroids = np.array([[i, i] for i in range(k)])\n",
    "    if initial_centroids is not None :\n",
    "        centroids = copy.deepcopy(initial_centroids)\n",
    "    prev_centroids = copy.deepcopy(centroids)\n",
    "    # prev_data_points_assignment = np.array([-1] * data_points.shape[0])\n",
    "    for i in range(iterations) :\n",
    "        # assignment step\n",
    "        data_points_assignment = np.array([np.argmin([np.sqrt(np.sum((x - y) ** 2)) for y in centroids]) for x in data_points])\n",
    "        \n",
    "        # update step\n",
    "        centroids = np.array([data_points[data_points_assignment == ki].mean(axis = 0) for ki in range(k)])\n",
    "        \n",
    "        # converge?\n",
    "        if np.allclose(centroids, prev_centroids) :\n",
    "            break\n",
    "        else :\n",
    "            if k_mean_plotting_fn is not None :\n",
    "                print(\"Round #{}: \\n\".format(i + 1))\n",
    "                print(\"Assign points to the closest centroid\")\n",
    "                for j in range(k) :\n",
    "                    print(\"({}, {}): \".format(prev_centroids[j][0], prev_centroids[j][1]), end = \"\")\n",
    "                    assigned_points = data_points[data_points_assignment == j]\n",
    "                    for p in assigned_points :\n",
    "                        print(\"({}, {}) \".format(p[0], p[1]), end = \"\")\n",
    "                    print()\n",
    "                k_mean_plotting_fn(data_points, data_points_assignment, prev_centroids)\n",
    "                print(\"Update centroids to their member's mean\")\n",
    "                for j in range(k) :\n",
    "                    print(\"({}, {}) \".format(centroids[j][0], centroids[j][1]), end = \"\")\n",
    "                k_mean_plotting_fn(data_points, data_points_assignment, centroids)\n",
    "                print(\"\\n\\n\")\n",
    "            prev_centroids = copy.deepcopy(centroids)\n",
    "    return centroids, data_points_assignment"
   ]
  },
  {
   "cell_type": "markdown",
   "metadata": {
    "collapsed": true
   },
   "source": [
    "**Q1:** If the starting points are (3,3), (2,2), and (-3,3). \n",
    "- Describe each assign and update step. \n",
    "- What are the points assigned? \n",
    "- What are the updated means? "
   ]
  },
  {
   "cell_type": "code",
   "execution_count": 169,
   "metadata": {},
   "outputs": [
    {
     "name": "stdout",
     "output_type": "stream",
     "text": [
      "Round #1: \n",
      "\n",
      "Assign points to the closest centroid\n",
      "(3, 3): (3, 3) (8, 8) (6, 6) (7, 7) \n",
      "(2, 2): (1, 2) (2, 2) \n",
      "(-3, 3): (-3, -3) (-2, -4) (-7, -7) \n"
     ]
    },
    {
     "data": {
      "image/png": "[encoded data removed]",
      "text/plain": [
       "<matplotlib.figure.Figure at 0x7f11359f5f98>"
      ]
     },
     "metadata": {},
     "output_type": "display_data"
    },
    {
     "name": "stdout",
     "output_type": "stream",
     "text": [
      "Update centroids to their member's mean\n",
      "(6.0, 6.0) (1.5, 2.0) (-4.0, -4.666666666666667) "
     ]
    },
    {
     "data": {
      "image/png": "[encoded data removed]",
      "text/plain": [
       "<matplotlib.figure.Figure at 0x7f11359da8d0>"
      ]
     },
     "metadata": {},
     "output_type": "display_data"
    },
    {
     "name": "stdout",
     "output_type": "stream",
     "text": [
      "\n",
      "\n",
      "\n",
      "Round #2: \n",
      "\n",
      "Assign points to the closest centroid\n",
      "(6.0, 6.0): (8, 8) (6, 6) (7, 7) \n",
      "(1.5, 2.0): (1, 2) (3, 3) (2, 2) \n",
      "(-4.0, -4.666666666666667): (-3, -3) (-2, -4) (-7, -7) \n"
     ]
    },
    {
     "data": {
      "image/png": "[encoded data removed]",
      "text/plain": [
       "<matplotlib.figure.Figure at 0x7f1135cef160>"
      ]
     },
     "metadata": {},
     "output_type": "display_data"
    },
    {
     "name": "stdout",
     "output_type": "stream",
     "text": [
      "Update centroids to their member's mean\n",
      "(7.0, 7.0) (2.0, 2.3333333333333335) (-4.0, -4.666666666666667) "
     ]
    },
    {
     "data": {
      "image/png": "[encoded data removed]",
      "text/plain": [
       "<matplotlib.figure.Figure at 0x7f113605aac8>"
      ]
     },
     "metadata": {},
     "output_type": "display_data"
    },
    {
     "name": "stdout",
     "output_type": "stream",
     "text": [
      "\n",
      "\n",
      "\n"
     ]
    }
   ],
   "source": [
    "initial_centroids1 = np.array([[3, 3], [2, 2], [-3, 3]])\n",
    "k_mean_centroids1, data_points_assignment1 = k_mean(data_points = data_points, k = initial_centroids1.shape[0], initial_centroids = initial_centroids1, k_mean_plotting_fn = k_mean_plotting)"
   ]
  },
  {
   "cell_type": "markdown",
   "metadata": {},
   "source": [
    "**Q2:** If the starting points are (-3,-3), (2,2), and (-7,-7), what happens?"
   ]
  },
  {
   "cell_type": "code",
   "execution_count": 173,
   "metadata": {},
   "outputs": [
    {
     "name": "stdout",
     "output_type": "stream",
     "text": [
      "Round #1: \n",
      "\n",
      "Assign points to the closest centroid\n",
      "(-3, -3): (-3, -3) (-2, -4) \n",
      "(2, 2): (1, 2) (3, 3) (2, 2) (8, 8) (6, 6) (7, 7) \n",
      "(-7, -7): (-7, -7) \n"
     ]
    },
    {
     "data": {
      "image/png": "[encoded data removed]",
      "text/plain": [
       "<matplotlib.figure.Figure at 0x7f1135d7dc18>"
      ]
     },
     "metadata": {},
     "output_type": "display_data"
    },
    {
     "name": "stdout",
     "output_type": "stream",
     "text": [
      "Update centroids to their member's mean\n",
      "(-2.5, -3.5) (4.5, 4.666666666666667) (-7.0, -7.0) "
     ]
    },
    {
     "data": {
      "image/png": "[encoded data removed]",
      "text/plain": [
       "<matplotlib.figure.Figure at 0x7f1135cdcd68>"
      ]
     },
     "metadata": {},
     "output_type": "display_data"
    },
    {
     "name": "stdout",
     "output_type": "stream",
     "text": [
      "\n",
      "\n",
      "\n"
     ]
    }
   ],
   "source": [
    "initial_centroids2 = np.array([[-3, -3], [2, 2], [-7, -7]])\n",
    "k_mean_centroids2, data_points_assignment2 = k_mean(data_points = data_points, k = initial_centroids2.shape[0], initial_centroids = initial_centroids2, k_mean_plotting_fn = k_mean_plotting)"
   ]
  },
  {
   "cell_type": "markdown",
   "metadata": {},
   "source": [
    "**Q3:** Between the two starting set of points in the previous two questions, which one do you think is better? How would you measure the ‘goodness’ quality of a set of starting points?\n",
    "\n",
    "**Answer:** The first initial points' set is better because, in each cluster, sum of Euclidean distance between a point and its centroid is lower. "
   ]
  }
 ],
 "metadata": {
  "kernelspec": {
   "display_name": "Python 3",
   "language": "python",
   "name": "python3"
  },
  "language_info": {
   "codemirror_mode": {
    "name": "ipython",
    "version": 3
   },
   "file_extension": ".py",
   "mimetype": "text/x-python",
   "name": "python",
   "nbconvert_exporter": "python",
   "pygments_lexer": "ipython3",
   "version": "3.6.2"
  }
 },
 "nbformat": 4,
 "nbformat_minor": 2
}
